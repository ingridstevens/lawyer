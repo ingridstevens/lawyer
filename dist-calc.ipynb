{
 "cells": [
  {
   "cell_type": "code",
   "execution_count": 1,
   "metadata": {},
   "outputs": [],
   "source": [
    "from langchain.evaluation import load_evaluator\n",
    "\n",
    "evaluator = load_evaluator(\"embedding_distance\")"
   ]
  },
  {
   "cell_type": "code",
   "execution_count": 6,
   "metadata": {},
   "outputs": [],
   "source": [
    "def evaluate_strings(prediction, reference):\n",
    "    print(\"prediction: \", prediction)\n",
    "    print(\"reference: \", reference)\n",
    "    return evaluator.evaluate_strings(prediction=prediction, reference=reference)"
   ]
  },
  {
   "cell_type": "markdown",
   "metadata": {},
   "source": [
    "### How to interpret\n",
    "* a score close to **zero** means sentences are semantically similar\n",
    "* a score close to **one** means sentences are not semantically similar"
   ]
  },
  {
   "cell_type": "code",
   "execution_count": 16,
   "metadata": {},
   "outputs": [
    {
     "name": "stdout",
     "output_type": "stream",
     "text": [
      "prediction:  I detest pizza\n",
      "reference:  Pizza is disgusting\n"
     ]
    },
    {
     "data": {
      "text/plain": [
       "{'score': 0.08831064458186089}"
      ]
     },
     "execution_count": 16,
     "metadata": {},
     "output_type": "execute_result"
    }
   ],
   "source": [
    "evaluate_strings(prediction=\"I detest pizza\", reference=\"Pizza is disgusting\")"
   ]
  },
  {
   "cell_type": "code",
   "execution_count": 15,
   "metadata": {},
   "outputs": [
    {
     "name": "stdout",
     "output_type": "stream",
     "text": [
      "prediction:  I shall go\n",
      "reference:  Go I shall\n"
     ]
    },
    {
     "data": {
      "text/plain": [
       "{'score': 0.07427693216652387}"
      ]
     },
     "execution_count": 15,
     "metadata": {},
     "output_type": "execute_result"
    }
   ],
   "source": [
    "evaluate_strings(prediction=\"I shall go\", reference=\"Go I shall\")"
   ]
  },
  {
   "cell_type": "markdown",
   "metadata": {},
   "source": [
    "Legal Quotes from: https://www.gesetze-im-internet.de/aufenthv/BJNR294510004.html"
   ]
  },
  {
   "cell_type": "code",
   "execution_count": 8,
   "metadata": {},
   "outputs": [
    {
     "name": "stdout",
     "output_type": "stream",
     "text": [
      "prediction:  How do I get an EU blue card?\n",
      "reference:  sie zu einem Zeitpunkt, als die Blaue Karte EU nach Nummer 1 noch gültig war, in einem anderen Mitgliedstaat der Europäischen Union nach Artikel 21 Absatz 3 der Richtlinie (EU) 2021/1883 des Europäischen Parlaments und des Rates vom 20. Oktober 2021 über die Bedingungen für die Einreise und den Aufenthalt von Drittstaatsangehörigen zur Ausübung einer hoch qualifizierten Beschäftigung und zur Aufhebung der Richtlinie 2009/50/EG des Rates (ABl. L 382 vom 28.10.2021, S. 1) einen Antrag auf Erteilung einer Blauen Karte EU gestellt haben, den dieser Mitgliedstaat abgelehnt hat\n"
     ]
    },
    {
     "data": {
      "text/plain": [
       "{'score': 0.15284940084809273}"
      ]
     },
     "execution_count": 8,
     "metadata": {},
     "output_type": "execute_result"
    }
   ],
   "source": [
    "evaluate_strings(prediction=\"How do I get an EU blue card?\", reference=\"sie zu einem Zeitpunkt, als die Blaue Karte EU nach Nummer 1 noch gültig war, in einem anderen Mitgliedstaat der Europäischen Union nach Artikel 21 Absatz 3 der Richtlinie (EU) 2021/1883 des Europäischen Parlaments und des Rates vom 20. Oktober 2021 über die Bedingungen für die Einreise und den Aufenthalt von Drittstaatsangehörigen zur Ausübung einer hoch qualifizierten Beschäftigung und zur Aufhebung der Richtlinie 2009/50/EG des Rates (ABl. L 382 vom 28.10.2021, S. 1) einen Antrag auf Erteilung einer Blauen Karte EU gestellt haben, den dieser Mitgliedstaat abgelehnt hat\")"
   ]
  },
  {
   "cell_type": "code",
   "execution_count": 9,
   "metadata": {},
   "outputs": [
    {
     "name": "stdout",
     "output_type": "stream",
     "text": [
      "prediction:  get a blue card\n",
      "reference:  der Mitgliedstaat der Europäischen Union nach Nummer 2 bei den zuständigen Behörden der Bundesrepublik Deutschland ein Ersuchen auf Gestattung der Wiedereinreise des Ausländers in die Bundesrepublik Deutschland gestellt hat.\n"
     ]
    },
    {
     "data": {
      "text/plain": [
       "{'score': 0.27767551715788974}"
      ]
     },
     "execution_count": 9,
     "metadata": {},
     "output_type": "execute_result"
    }
   ],
   "source": [
    "evaluate_strings(\"get a blue card\", \"der Mitgliedstaat der Europäischen Union nach Nummer 2 bei den zuständigen Behörden der Bundesrepublik Deutschland ein Ersuchen auf Gestattung der Wiedereinreise des Ausländers in die Bundesrepublik Deutschland gestellt hat.\")"
   ]
  },
  {
   "cell_type": "code",
   "execution_count": 10,
   "metadata": {},
   "outputs": [
    {
     "name": "stdout",
     "output_type": "stream",
     "text": [
      "prediction:  can I live in Germany if I'm attending college?\n",
      "reference:  Ausländern, die für ein Studium von einer deutschen Wissenschaftsorganisation oder einer deutschen öffentlichen Stelle vermittelt werden, die Stipendien auch aus öffentlichen Mitteln vergibt, und in diesem Zusammenhang in der Bundesrepublik Deutschland ein Stipendium auf Grund eines auch für öffentliche Mittel verwendeten Vergabeverfahrens erhalten,\n"
     ]
    },
    {
     "data": {
      "text/plain": [
       "{'score': 0.1989013064555406}"
      ]
     },
     "execution_count": 10,
     "metadata": {},
     "output_type": "execute_result"
    }
   ],
   "source": [
    "evaluate_strings(\"can I live in Germany if I'm attending college?\", \"Ausländern, die für ein Studium von einer deutschen Wissenschaftsorganisation oder einer deutschen öffentlichen Stelle vermittelt werden, die Stipendien auch aus öffentlichen Mitteln vergibt, und in diesem Zusammenhang in der Bundesrepublik Deutschland ein Stipendium auf Grund eines auch für öffentliche Mittel verwendeten Vergabeverfahrens erhalten,\")"
   ]
  },
  {
   "cell_type": "code",
   "execution_count": 12,
   "metadata": {},
   "outputs": [
    {
     "name": "stdout",
     "output_type": "stream",
     "text": [
      "prediction:  I hate everything\n",
      "reference:  photons are like frogs\n"
     ]
    },
    {
     "data": {
      "text/plain": [
       "{'score': 0.2557309984452164}"
      ]
     },
     "execution_count": 12,
     "metadata": {},
     "output_type": "execute_result"
    }
   ],
   "source": [
    "evaluate_strings(\"I hate everything\", \"photons are like frogs\")"
   ]
  },
  {
   "cell_type": "code",
   "execution_count": 13,
   "metadata": {},
   "outputs": [
    {
     "name": "stdout",
     "output_type": "stream",
     "text": [
      "prediction:  burger\n",
      "reference:  sandwich\n"
     ]
    },
    {
     "data": {
      "text/plain": [
       "{'score': 0.14405377034188627}"
      ]
     },
     "execution_count": 13,
     "metadata": {},
     "output_type": "execute_result"
    }
   ],
   "source": [
    "evaluate_strings(\"burger\", \"sandwich\")"
   ]
  },
  {
   "cell_type": "code",
   "execution_count": 14,
   "metadata": {},
   "outputs": [
    {
     "name": "stdout",
     "output_type": "stream",
     "text": [
      "prediction:  burger\n",
      "reference:  citizen\n"
     ]
    },
    {
     "data": {
      "text/plain": [
       "{'score': 0.1955823044816487}"
      ]
     },
     "execution_count": 14,
     "metadata": {},
     "output_type": "execute_result"
    }
   ],
   "source": [
    "evaluate_strings(\"burger\", \"citizen\")"
   ]
  },
  {
   "cell_type": "code",
   "execution_count": null,
   "metadata": {},
   "outputs": [],
   "source": []
  }
 ],
 "metadata": {
  "kernelspec": {
   "display_name": "Python 3",
   "language": "python",
   "name": "python3"
  },
  "language_info": {
   "codemirror_mode": {
    "name": "ipython",
    "version": 3
   },
   "file_extension": ".py",
   "mimetype": "text/x-python",
   "name": "python",
   "nbconvert_exporter": "python",
   "pygments_lexer": "ipython3",
   "version": "3.10.1"
  }
 },
 "nbformat": 4,
 "nbformat_minor": 2
}
