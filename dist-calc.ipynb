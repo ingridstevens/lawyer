{
 "cells": [
  {
   "cell_type": "markdown",
   "metadata": {},
   "source": [
    "Thanks to: https://python.langchain.com/docs/guides/evaluation/string/embedding_distance "
   ]
  },
  {
   "cell_type": "code",
   "execution_count": null,
   "metadata": {},
   "outputs": [],
   "source": [
    "from langchain.evaluation import load_evaluator\n",
    "from langchain.evaluation import EmbeddingDistance\n",
    "\n",
    "\n",
    "list(EmbeddingDistance)"
   ]
  },
  {
   "cell_type": "code",
   "execution_count": null,
   "metadata": {},
   "outputs": [],
   "source": [
    "# Create a dictionary of all the predictions and references\n",
    "\n",
    "evaluations = [\n",
    "    {\n",
    "        \"prediction\": \"I detest pizza\",\n",
    "        \"reference\": \"Pizza is disgusting\"\n",
    "    },\n",
    "    {\n",
    "        \"prediction\": \"I shall go\",\n",
    "        \"reference\": \"Go I shall\"\n",
    "    },\n",
    "    {\n",
    "        \"prediction\": \"How do I get an EU blue card?\",\n",
    "        \"reference\": \"sie zu einem Zeitpunkt, als die Blaue Karte EU nach Nummer 1 noch gültig war, in einem anderen Mitgliedstaat der Europäischen Union nach Artikel 21 Absatz 3 der Richtlinie (EU) 2021/1883 des Europäischen Parlaments und des Rates vom 20. Oktober 2021 über die Bedingungen für die Einreise und den Aufenthalt von Drittstaatsangehörigen zur Ausübung einer hoch qualifizierten Beschäftigung und zur Aufhebung der Richtlinie 2009/50/EG des Rates (ABl. L 382 vom 28.10.2021, S. 1) einen Antrag auf Erteilung einer Blauen Karte EU gestellt haben, den dieser Mitgliedstaat abgelehnt hat\"\n",
    "    },\n",
    "    {\n",
    "        \"prediction\": \"I studied in Germany?\",\n",
    "        \"reference\": \"der Mitgliedstaat der Europäischen Union nach Nummer 2 bei den zuständigen Behörden der Bundesrepublik Deutschland ein Ersuchen auf Gestattung der Wiedereinreise des Ausländers in die Bundesrepublik Deutschland gestellt hat.\"\n",
    "    },\n",
    "    {\n",
    "        \"prediction\": \"Can I live in Germany if I'm attending college?\",\n",
    "        \"reference\": \"Ausländern, die für ein Studium von einer deutschen Wissenschaftsorganisation oder einer deutschen öffentlichen Stelle vermittelt werden, die Stipendien auch aus öffentlichen Mitteln vergibt, und in diesem Zusammenhang in der Bundesrepublik Deutschland ein Stipendium auf Grund eines auch für öffentliche Mittel verwendeten Vergabeverfahrens erhalten,\"\n",
    "    },\n",
    "    {\n",
    "        \"prediction\": \"I hate everything\",\n",
    "        \"reference\": \"photons are like frogs\"\n",
    "    },\n",
    "    {\n",
    "        \"prediction\": \"burger\",\n",
    "        \"reference\": \"sandwich\"\n",
    "    },\n",
    "    {\n",
    "        \"prediction\": \"burger\",\n",
    "        \"reference\": \"citizen\"\n",
    "    },\n",
    "    {\n",
    "        \"prediction\": \"Bürger\",\n",
    "        \"reference\": \"citizen\"\n",
    "    }\n",
    "]\n"
   ]
  },
  {
   "cell_type": "code",
   "execution_count": null,
   "metadata": {},
   "outputs": [],
   "source": [
    "evaluator = load_evaluator(\"embedding_distance\")\n",
    "evaluator.evaluate_strings(prediction=\"hi\", reference=\"no offence\")[\"score\"]"
   ]
  },
  {
   "cell_type": "code",
   "execution_count": null,
   "metadata": {},
   "outputs": [],
   "source": [
    "# Defines a function evaluate_strings that \n",
    "## takes a dictionary of predictions and references \"evaliations\" and evaluates them for semantic similarity\n",
    "## also takes in distance metric \"distance_metric\" as an argument which can contain: \"euclidean\", \"cosine\", \"manhattan\", \"chebyshev\", \"hamming\", \n",
    "\n",
    "def evaluate_strings(prediction, reference, distance_metric=\"cosine\"):\n",
    "    evaluator = load_evaluator(\"embedding_distance\", distance_metric=distance_metric)\n",
    "    score = evaluator.evaluate_strings(prediction=prediction, reference=reference)[\"score\"]\n",
    "    print(f\"This is the score for {distance_metric} distance:\")\n",
    "    return score"
   ]
  },
  {
   "cell_type": "code",
   "execution_count": null,
   "metadata": {},
   "outputs": [],
   "source": [
    "# define the list of distance metrics \n",
    "distance_metrics = [\"euclidean\", \"cosine\", \"manhattan\", \"chebyshev\"]\n"
   ]
  },
  {
   "cell_type": "code",
   "execution_count": null,
   "metadata": {},
   "outputs": [],
   "source": [
    "# create a data frame to store the results in \n",
    "import pandas as pd\n",
    "results = pd.DataFrame(columns=[\"prediction\", \"reference\", \"euclidean\", \"cosine\", \"manhattan\", \"chebyshev\"])"
   ]
  },
  {
   "cell_type": "code",
   "execution_count": null,
   "metadata": {},
   "outputs": [],
   "source": [
    "# Put each evaluation into the dataframe\n",
    "for evaluation in evaluations:\n",
    "    results = results.append(evaluation, ignore_index=True)"
   ]
  },
  {
   "cell_type": "code",
   "execution_count": null,
   "metadata": {},
   "outputs": [],
   "source": [
    "# Evaluate each distance metric for each evaluation in the data frame, and put the results in the dataframe\n",
    "for distance_metric in distance_metrics:\n",
    "    results[distance_metric] = results.apply(lambda x: evaluate_strings(x[\"prediction\"], x[\"reference\"], distance_metric), axis=1)"
   ]
  },
  {
   "cell_type": "code",
   "execution_count": null,
   "metadata": {},
   "outputs": [],
   "source": [
    "results"
   ]
  },
  {
   "cell_type": "markdown",
   "metadata": {},
   "source": [
    "### How to interpret\n",
    "\n",
    "Depends on the score. \n",
    "* a score close to **zero** means sentences are semantically similar\n",
    "* a score close to **one** means sentences are not semantically similar"
   ]
  },
  {
   "cell_type": "code",
   "execution_count": null,
   "metadata": {},
   "outputs": [],
   "source": [
    "evaluate_strings(\n",
    "    prediction=\"Fairies are really out there existing, and they live with aliens\", \n",
    "    reference=\"You can completely remove a virtual environment, but how you do that depends on what you used to create the venv\",\n",
    "    distance_metric=\"cosine\")"
   ]
  },
  {
   "cell_type": "code",
   "execution_count": null,
   "metadata": {},
   "outputs": [],
   "source": [
    "evaluate_strings(prediction=\"I detest pizza\", reference=\"Pizza is disgusting\")"
   ]
  },
  {
   "cell_type": "code",
   "execution_count": null,
   "metadata": {},
   "outputs": [],
   "source": [
    "evaluate_strings(prediction=\"I shall go\", reference=\"Go I shall\")"
   ]
  },
  {
   "cell_type": "markdown",
   "metadata": {},
   "source": [
    "Legal Quotes from: https://www.gesetze-im-internet.de/aufenthv/BJNR294510004.html"
   ]
  },
  {
   "cell_type": "code",
   "execution_count": null,
   "metadata": {},
   "outputs": [],
   "source": [
    "evaluate_strings(prediction=\"How do I get an EU blue card?\", reference=\"sie zu einem Zeitpunkt, als die Blaue Karte EU nach Nummer 1 noch gültig war, in einem anderen Mitgliedstaat der Europäischen Union nach Artikel 21 Absatz 3 der Richtlinie (EU) 2021/1883 des Europäischen Parlaments und des Rates vom 20. Oktober 2021 über die Bedingungen für die Einreise und den Aufenthalt von Drittstaatsangehörigen zur Ausübung einer hoch qualifizierten Beschäftigung und zur Aufhebung der Richtlinie 2009/50/EG des Rates (ABl. L 382 vom 28.10.2021, S. 1) einen Antrag auf Erteilung einer Blauen Karte EU gestellt haben, den dieser Mitgliedstaat abgelehnt hat\")"
   ]
  },
  {
   "cell_type": "code",
   "execution_count": null,
   "metadata": {},
   "outputs": [],
   "source": [
    "evaluate_strings(\"I studied in  germany?\", \"der Mitgliedstaat der Europäischen Union nach Nummer 2 bei den zuständigen Behörden der Bundesrepublik Deutschland ein Ersuchen auf Gestattung der Wiedereinreise des Ausländers in die Bundesrepublik Deutschland gestellt hat.\")"
   ]
  },
  {
   "cell_type": "code",
   "execution_count": null,
   "metadata": {},
   "outputs": [],
   "source": [
    "evaluate_strings(\"can I live in Germany if I'm attending college?\", \"Ausländern, die für ein Studium von einer deutschen Wissenschaftsorganisation oder einer deutschen öffentlichen Stelle vermittelt werden, die Stipendien auch aus öffentlichen Mitteln vergibt, und in diesem Zusammenhang in der Bundesrepublik Deutschland ein Stipendium auf Grund eines auch für öffentliche Mittel verwendeten Vergabeverfahrens erhalten,\")"
   ]
  },
  {
   "cell_type": "code",
   "execution_count": null,
   "metadata": {},
   "outputs": [],
   "source": [
    "evaluate_strings(\"I hate everything\", \"photons are like frogs\")"
   ]
  },
  {
   "cell_type": "code",
   "execution_count": null,
   "metadata": {},
   "outputs": [],
   "source": [
    "evaluate_strings(\"burger\", \"sandwich\")"
   ]
  },
  {
   "cell_type": "code",
   "execution_count": null,
   "metadata": {},
   "outputs": [],
   "source": [
    "evaluate_strings(\"burger\", \"citizen\")"
   ]
  },
  {
   "cell_type": "code",
   "execution_count": null,
   "metadata": {},
   "outputs": [],
   "source": []
  }
 ],
 "metadata": {
  "kernelspec": {
   "display_name": "Python 3",
   "language": "python",
   "name": "python3"
  },
  "language_info": {
   "codemirror_mode": {
    "name": "ipython",
    "version": 3
   },
   "file_extension": ".py",
   "mimetype": "text/x-python",
   "name": "python",
   "nbconvert_exporter": "python",
   "pygments_lexer": "ipython3",
   "version": "3.10.1"
  }
 },
 "nbformat": 4,
 "nbformat_minor": 2
}
