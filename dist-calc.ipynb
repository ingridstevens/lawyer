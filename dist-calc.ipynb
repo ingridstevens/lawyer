{
 "cells": [
  {
   "cell_type": "markdown",
   "metadata": {},
   "source": [
    "Thanks to: https://python.langchain.com/docs/guides/evaluation/string/embedding_distance "
   ]
  },
  {
   "cell_type": "code",
   "execution_count": 35,
   "metadata": {},
   "outputs": [
    {
     "data": {
      "text/plain": [
       "[<EmbeddingDistance.COSINE: 'cosine'>,\n",
       " <EmbeddingDistance.EUCLIDEAN: 'euclidean'>,\n",
       " <EmbeddingDistance.MANHATTAN: 'manhattan'>,\n",
       " <EmbeddingDistance.CHEBYSHEV: 'chebyshev'>,\n",
       " <EmbeddingDistance.HAMMING: 'hamming'>]"
      ]
     },
     "execution_count": 35,
     "metadata": {},
     "output_type": "execute_result"
    }
   ],
   "source": [
    "from langchain.evaluation import load_evaluator\n",
    "from langchain.evaluation import EmbeddingDistance\n",
    "\n",
    "\n",
    "list(EmbeddingDistance)"
   ]
  },
  {
   "cell_type": "code",
   "execution_count": 158,
   "metadata": {},
   "outputs": [],
   "source": [
    "# Create a dictionary of all the predictions and references\n",
    "\n",
    "evaluations = [\n",
    "    {\n",
    "        \"prediction\": \"I detest pizza\",\n",
    "        \"reference\": \"Pizza is disgusting\"\n",
    "    },\n",
    "    {\n",
    "        \"prediction\": \"I shall go\",\n",
    "        \"reference\": \"Go I shall\"\n",
    "    },\n",
    "    {\n",
    "        \"prediction\": \"How do I get an EU blue card?\",\n",
    "        \"reference\": \"sie zu einem Zeitpunkt, als die Blaue Karte EU nach Nummer 1 noch gültig war, in einem anderen Mitgliedstaat der Europäischen Union nach Artikel 21 Absatz 3 der Richtlinie (EU) 2021/1883 des Europäischen Parlaments und des Rates vom 20. Oktober 2021 über die Bedingungen für die Einreise und den Aufenthalt von Drittstaatsangehörigen zur Ausübung einer hoch qualifizierten Beschäftigung und zur Aufhebung der Richtlinie 2009/50/EG des Rates (ABl. L 382 vom 28.10.2021, S. 1) einen Antrag auf Erteilung einer Blauen Karte EU gestellt haben, den dieser Mitgliedstaat abgelehnt hat\"\n",
    "    },\n",
    "    {\n",
    "        \"prediction\": \"I studied in Germany?\",\n",
    "        \"reference\": \"der Mitgliedstaat der Europäischen Union nach Nummer 2 bei den zuständigen Behörden der Bundesrepublik Deutschland ein Ersuchen auf Gestattung der Wiedereinreise des Ausländers in die Bundesrepublik Deutschland gestellt hat.\"\n",
    "    },\n",
    "    {\n",
    "        \"prediction\": \"Can I live in Germany if I'm attending college?\",\n",
    "        \"reference\": \"Ausländern, die für ein Studium von einer deutschen Wissenschaftsorganisation oder einer deutschen öffentlichen Stelle vermittelt werden, die Stipendien auch aus öffentlichen Mitteln vergibt, und in diesem Zusammenhang in der Bundesrepublik Deutschland ein Stipendium auf Grund eines auch für öffentliche Mittel verwendeten Vergabeverfahrens erhalten,\"\n",
    "    },\n",
    "    {\n",
    "        \"prediction\": \"I hate everything\",\n",
    "        \"reference\": \"photons are like frogs\"\n",
    "    },\n",
    "    {\n",
    "        \"prediction\": \"burger\",\n",
    "        \"reference\": \"sandwich\"\n",
    "    },\n",
    "    {\n",
    "        \"prediction\": \"burger\",\n",
    "        \"reference\": \"citizen\"\n",
    "    },\n",
    "    {\n",
    "        \"prediction\": \"Bürger\",\n",
    "        \"reference\": \"citizen\"\n",
    "    }\n",
    "]\n"
   ]
  },
  {
   "cell_type": "code",
   "execution_count": 159,
   "metadata": {},
   "outputs": [
    {
     "data": {
      "text/plain": [
       "0.19569639099252178"
      ]
     },
     "execution_count": 159,
     "metadata": {},
     "output_type": "execute_result"
    }
   ],
   "source": [
    "evaluator = load_evaluator(\"embedding_distance\")\n",
    "evaluator.evaluate_strings(prediction=\"hi\", reference=\"no offence\")[\"score\"]"
   ]
  },
  {
   "cell_type": "code",
   "execution_count": 160,
   "metadata": {},
   "outputs": [],
   "source": [
    "# Defines a function evaluate_strings that \n",
    "## takes a dictionary of predictions and references \"evaliations\" and evaluates them for semantic similarity\n",
    "## also takes in distance metric \"distance_metric\" as an argument which can contain: \"euclidean\", \"cosine\", \"manhattan\", \"chebyshev\", \"hamming\", \n",
    "\n",
    "def evaluate_strings(prediction, reference, distance_metric=\"cosine\"):\n",
    "    evaluator = load_evaluator(\"embedding_distance\", distance_metric=distance_metric)\n",
    "    score = evaluator.evaluate_strings(prediction=prediction, reference=reference)[\"score\"]\n",
    "    print(f\"This is the score for {distance_metric} distance:\")\n",
    "    return score"
   ]
  },
  {
   "cell_type": "code",
   "execution_count": 162,
   "metadata": {},
   "outputs": [],
   "source": [
    "# define the list of distance metrics \n",
    "distance_metrics = [\"euclidean\", \"cosine\", \"manhattan\", \"chebyshev\"]\n"
   ]
  },
  {
   "cell_type": "code",
   "execution_count": 163,
   "metadata": {},
   "outputs": [],
   "source": [
    "# create a data frame to store the results in \n",
    "import pandas as pd\n",
    "results = pd.DataFrame(columns=[\"prediction\", \"reference\", \"euclidean\", \"cosine\", \"manhattan\", \"chebyshev\"])"
   ]
  },
  {
   "cell_type": "code",
   "execution_count": 164,
   "metadata": {},
   "outputs": [
    {
     "name": "stderr",
     "output_type": "stream",
     "text": [
      "/var/folders/yl/mwd8tygs7p38z57chhqrlkx80000gn/T/ipykernel_87052/4119564531.py:3: FutureWarning: The frame.append method is deprecated and will be removed from pandas in a future version. Use pandas.concat instead.\n",
      "  results = results.append(evaluation, ignore_index=True)\n",
      "/var/folders/yl/mwd8tygs7p38z57chhqrlkx80000gn/T/ipykernel_87052/4119564531.py:3: FutureWarning: The frame.append method is deprecated and will be removed from pandas in a future version. Use pandas.concat instead.\n",
      "  results = results.append(evaluation, ignore_index=True)\n",
      "/var/folders/yl/mwd8tygs7p38z57chhqrlkx80000gn/T/ipykernel_87052/4119564531.py:3: FutureWarning: The frame.append method is deprecated and will be removed from pandas in a future version. Use pandas.concat instead.\n",
      "  results = results.append(evaluation, ignore_index=True)\n",
      "/var/folders/yl/mwd8tygs7p38z57chhqrlkx80000gn/T/ipykernel_87052/4119564531.py:3: FutureWarning: The frame.append method is deprecated and will be removed from pandas in a future version. Use pandas.concat instead.\n",
      "  results = results.append(evaluation, ignore_index=True)\n",
      "/var/folders/yl/mwd8tygs7p38z57chhqrlkx80000gn/T/ipykernel_87052/4119564531.py:3: FutureWarning: The frame.append method is deprecated and will be removed from pandas in a future version. Use pandas.concat instead.\n",
      "  results = results.append(evaluation, ignore_index=True)\n",
      "/var/folders/yl/mwd8tygs7p38z57chhqrlkx80000gn/T/ipykernel_87052/4119564531.py:3: FutureWarning: The frame.append method is deprecated and will be removed from pandas in a future version. Use pandas.concat instead.\n",
      "  results = results.append(evaluation, ignore_index=True)\n",
      "/var/folders/yl/mwd8tygs7p38z57chhqrlkx80000gn/T/ipykernel_87052/4119564531.py:3: FutureWarning: The frame.append method is deprecated and will be removed from pandas in a future version. Use pandas.concat instead.\n",
      "  results = results.append(evaluation, ignore_index=True)\n",
      "/var/folders/yl/mwd8tygs7p38z57chhqrlkx80000gn/T/ipykernel_87052/4119564531.py:3: FutureWarning: The frame.append method is deprecated and will be removed from pandas in a future version. Use pandas.concat instead.\n",
      "  results = results.append(evaluation, ignore_index=True)\n",
      "/var/folders/yl/mwd8tygs7p38z57chhqrlkx80000gn/T/ipykernel_87052/4119564531.py:3: FutureWarning: The frame.append method is deprecated and will be removed from pandas in a future version. Use pandas.concat instead.\n",
      "  results = results.append(evaluation, ignore_index=True)\n"
     ]
    }
   ],
   "source": [
    "# Put each evaluation into the dataframe\n",
    "for evaluation in evaluations:\n",
    "    results = results.append(evaluation, ignore_index=True)"
   ]
  },
  {
   "cell_type": "code",
   "execution_count": 165,
   "metadata": {},
   "outputs": [
    {
     "name": "stdout",
     "output_type": "stream",
     "text": [
      "This is the score for euclidean distance:\n",
      "This is the score for euclidean distance:\n",
      "This is the score for euclidean distance:\n",
      "This is the score for euclidean distance:\n",
      "This is the score for euclidean distance:\n",
      "This is the score for euclidean distance:\n",
      "This is the score for euclidean distance:\n",
      "This is the score for euclidean distance:\n",
      "This is the score for euclidean distance:\n",
      "This is the score for cosine distance:\n",
      "This is the score for cosine distance:\n",
      "This is the score for cosine distance:\n",
      "This is the score for cosine distance:\n",
      "This is the score for cosine distance:\n",
      "This is the score for cosine distance:\n",
      "This is the score for cosine distance:\n",
      "This is the score for cosine distance:\n",
      "This is the score for cosine distance:\n",
      "This is the score for manhattan distance:\n",
      "This is the score for manhattan distance:\n",
      "This is the score for manhattan distance:\n",
      "This is the score for manhattan distance:\n",
      "This is the score for manhattan distance:\n",
      "This is the score for manhattan distance:\n",
      "This is the score for manhattan distance:\n",
      "This is the score for manhattan distance:\n",
      "This is the score for manhattan distance:\n",
      "This is the score for chebyshev distance:\n",
      "This is the score for chebyshev distance:\n",
      "This is the score for chebyshev distance:\n",
      "This is the score for chebyshev distance:\n",
      "This is the score for chebyshev distance:\n",
      "This is the score for chebyshev distance:\n",
      "This is the score for chebyshev distance:\n",
      "This is the score for chebyshev distance:\n",
      "This is the score for chebyshev distance:\n"
     ]
    }
   ],
   "source": [
    "# Evaluate each distance metric for each evaluation in the data frame, and put the results in the dataframe\n",
    "for distance_metric in distance_metrics:\n",
    "    results[distance_metric] = results.apply(lambda x: evaluate_strings(x[\"prediction\"], x[\"reference\"], distance_metric), axis=1)"
   ]
  },
  {
   "cell_type": "code",
   "execution_count": 166,
   "metadata": {},
   "outputs": [
    {
     "data": {
      "text/html": [
       "<div>\n",
       "<style scoped>\n",
       "    .dataframe tbody tr th:only-of-type {\n",
       "        vertical-align: middle;\n",
       "    }\n",
       "\n",
       "    .dataframe tbody tr th {\n",
       "        vertical-align: top;\n",
       "    }\n",
       "\n",
       "    .dataframe thead th {\n",
       "        text-align: right;\n",
       "    }\n",
       "</style>\n",
       "<table border=\"1\" class=\"dataframe\">\n",
       "  <thead>\n",
       "    <tr style=\"text-align: right;\">\n",
       "      <th></th>\n",
       "      <th>prediction</th>\n",
       "      <th>reference</th>\n",
       "      <th>euclidean</th>\n",
       "      <th>cosine</th>\n",
       "      <th>manhattan</th>\n",
       "      <th>chebyshev</th>\n",
       "    </tr>\n",
       "  </thead>\n",
       "  <tbody>\n",
       "    <tr>\n",
       "      <th>0</th>\n",
       "      <td>I detest pizza</td>\n",
       "      <td>Pizza is disgusting</td>\n",
       "      <td>0.420263</td>\n",
       "      <td>0.088311</td>\n",
       "      <td>13.123906</td>\n",
       "      <td>0.042139</td>\n",
       "    </tr>\n",
       "    <tr>\n",
       "      <th>1</th>\n",
       "      <td>I shall go</td>\n",
       "      <td>Go I shall</td>\n",
       "      <td>0.385427</td>\n",
       "      <td>0.074277</td>\n",
       "      <td>12.090624</td>\n",
       "      <td>0.033296</td>\n",
       "    </tr>\n",
       "    <tr>\n",
       "      <th>2</th>\n",
       "      <td>How do I get an EU blue card?</td>\n",
       "      <td>sie zu einem Zeitpunkt, als die Blaue Karte EU...</td>\n",
       "      <td>0.552842</td>\n",
       "      <td>0.152849</td>\n",
       "      <td>17.273880</td>\n",
       "      <td>0.058142</td>\n",
       "    </tr>\n",
       "    <tr>\n",
       "      <th>3</th>\n",
       "      <td>I studied in Germany?</td>\n",
       "      <td>der Mitgliedstaat der Europäischen Union nach ...</td>\n",
       "      <td>0.648268</td>\n",
       "      <td>0.210126</td>\n",
       "      <td>20.098440</td>\n",
       "      <td>0.069615</td>\n",
       "    </tr>\n",
       "    <tr>\n",
       "      <th>4</th>\n",
       "      <td>Can I live in Germany if I'm attending college?</td>\n",
       "      <td>Ausländern, die für ein Studium von einer deut...</td>\n",
       "      <td>0.628422</td>\n",
       "      <td>0.197456</td>\n",
       "      <td>19.755461</td>\n",
       "      <td>0.061850</td>\n",
       "    </tr>\n",
       "    <tr>\n",
       "      <th>5</th>\n",
       "      <td>I hate everything</td>\n",
       "      <td>photons are like frogs</td>\n",
       "      <td>0.715166</td>\n",
       "      <td>0.255731</td>\n",
       "      <td>22.467799</td>\n",
       "      <td>0.063841</td>\n",
       "    </tr>\n",
       "    <tr>\n",
       "      <th>6</th>\n",
       "      <td>burger</td>\n",
       "      <td>sandwich</td>\n",
       "      <td>0.536757</td>\n",
       "      <td>0.144054</td>\n",
       "      <td>16.717288</td>\n",
       "      <td>0.053629</td>\n",
       "    </tr>\n",
       "    <tr>\n",
       "      <th>7</th>\n",
       "      <td>burger</td>\n",
       "      <td>citizen</td>\n",
       "      <td>0.625432</td>\n",
       "      <td>0.195582</td>\n",
       "      <td>19.618039</td>\n",
       "      <td>0.061546</td>\n",
       "    </tr>\n",
       "    <tr>\n",
       "      <th>8</th>\n",
       "      <td>Bürger</td>\n",
       "      <td>citizen</td>\n",
       "      <td>0.497544</td>\n",
       "      <td>0.123725</td>\n",
       "      <td>15.696425</td>\n",
       "      <td>0.045726</td>\n",
       "    </tr>\n",
       "  </tbody>\n",
       "</table>\n",
       "</div>"
      ],
      "text/plain": [
       "                                        prediction  \\\n",
       "0                                   I detest pizza   \n",
       "1                                       I shall go   \n",
       "2                    How do I get an EU blue card?   \n",
       "3                            I studied in Germany?   \n",
       "4  Can I live in Germany if I'm attending college?   \n",
       "5                                I hate everything   \n",
       "6                                           burger   \n",
       "7                                           burger   \n",
       "8                                           Bürger   \n",
       "\n",
       "                                           reference  euclidean    cosine  \\\n",
       "0                                Pizza is disgusting   0.420263  0.088311   \n",
       "1                                         Go I shall   0.385427  0.074277   \n",
       "2  sie zu einem Zeitpunkt, als die Blaue Karte EU...   0.552842  0.152849   \n",
       "3  der Mitgliedstaat der Europäischen Union nach ...   0.648268  0.210126   \n",
       "4  Ausländern, die für ein Studium von einer deut...   0.628422  0.197456   \n",
       "5                             photons are like frogs   0.715166  0.255731   \n",
       "6                                           sandwich   0.536757  0.144054   \n",
       "7                                            citizen   0.625432  0.195582   \n",
       "8                                            citizen   0.497544  0.123725   \n",
       "\n",
       "   manhattan  chebyshev  \n",
       "0  13.123906   0.042139  \n",
       "1  12.090624   0.033296  \n",
       "2  17.273880   0.058142  \n",
       "3  20.098440   0.069615  \n",
       "4  19.755461   0.061850  \n",
       "5  22.467799   0.063841  \n",
       "6  16.717288   0.053629  \n",
       "7  19.618039   0.061546  \n",
       "8  15.696425   0.045726  "
      ]
     },
     "execution_count": 166,
     "metadata": {},
     "output_type": "execute_result"
    }
   ],
   "source": [
    "results"
   ]
  },
  {
   "cell_type": "markdown",
   "metadata": {},
   "source": [
    "### How to interpret\n",
    "\n",
    "Depends on the score. \n",
    "* a score close to **zero** means sentences are semantically similar\n",
    "* a score close to **one** means sentences are not semantically similar"
   ]
  },
  {
   "cell_type": "code",
   "execution_count": 147,
   "metadata": {},
   "outputs": [
    {
     "name": "stdout",
     "output_type": "stream",
     "text": [
      "This is the score for cosine distance:\n"
     ]
    },
    {
     "data": {
      "text/plain": [
       "0.3003586551542339"
      ]
     },
     "execution_count": 147,
     "metadata": {},
     "output_type": "execute_result"
    }
   ],
   "source": [
    "evaluate_strings(\n",
    "    prediction=\"Fairies are really out there existing, and they live with aliens\", \n",
    "    reference=\"You can completely remove a virtual environment, but how you do that depends on what you used to create the venv\",\n",
    "    distance_metric=\"cosine\")"
   ]
  },
  {
   "cell_type": "code",
   "execution_count": 148,
   "metadata": {},
   "outputs": [
    {
     "name": "stdout",
     "output_type": "stream",
     "text": [
      "This is the score for cosine distance:\n"
     ]
    },
    {
     "data": {
      "text/plain": [
       "0.08831064458186089"
      ]
     },
     "execution_count": 148,
     "metadata": {},
     "output_type": "execute_result"
    }
   ],
   "source": [
    "evaluate_strings(prediction=\"I detest pizza\", reference=\"Pizza is disgusting\")"
   ]
  },
  {
   "cell_type": "code",
   "execution_count": 149,
   "metadata": {},
   "outputs": [
    {
     "name": "stdout",
     "output_type": "stream",
     "text": [
      "This is the score for cosine distance:\n"
     ]
    },
    {
     "data": {
      "text/plain": [
       "0.07427693216652387"
      ]
     },
     "execution_count": 149,
     "metadata": {},
     "output_type": "execute_result"
    }
   ],
   "source": [
    "evaluate_strings(prediction=\"I shall go\", reference=\"Go I shall\")"
   ]
  },
  {
   "cell_type": "markdown",
   "metadata": {},
   "source": [
    "Legal Quotes from: https://www.gesetze-im-internet.de/aufenthv/BJNR294510004.html"
   ]
  },
  {
   "cell_type": "code",
   "execution_count": 150,
   "metadata": {},
   "outputs": [
    {
     "name": "stdout",
     "output_type": "stream",
     "text": [
      "This is the score for cosine distance:\n"
     ]
    },
    {
     "data": {
      "text/plain": [
       "0.15284940084809273"
      ]
     },
     "execution_count": 150,
     "metadata": {},
     "output_type": "execute_result"
    }
   ],
   "source": [
    "evaluate_strings(prediction=\"How do I get an EU blue card?\", reference=\"sie zu einem Zeitpunkt, als die Blaue Karte EU nach Nummer 1 noch gültig war, in einem anderen Mitgliedstaat der Europäischen Union nach Artikel 21 Absatz 3 der Richtlinie (EU) 2021/1883 des Europäischen Parlaments und des Rates vom 20. Oktober 2021 über die Bedingungen für die Einreise und den Aufenthalt von Drittstaatsangehörigen zur Ausübung einer hoch qualifizierten Beschäftigung und zur Aufhebung der Richtlinie 2009/50/EG des Rates (ABl. L 382 vom 28.10.2021, S. 1) einen Antrag auf Erteilung einer Blauen Karte EU gestellt haben, den dieser Mitgliedstaat abgelehnt hat\")"
   ]
  },
  {
   "cell_type": "code",
   "execution_count": 151,
   "metadata": {},
   "outputs": [
    {
     "name": "stdout",
     "output_type": "stream",
     "text": [
      "This is the score for cosine distance:\n"
     ]
    },
    {
     "data": {
      "text/plain": [
       "0.2055459280552312"
      ]
     },
     "execution_count": 151,
     "metadata": {},
     "output_type": "execute_result"
    }
   ],
   "source": [
    "evaluate_strings(\"I studied in  germany?\", \"der Mitgliedstaat der Europäischen Union nach Nummer 2 bei den zuständigen Behörden der Bundesrepublik Deutschland ein Ersuchen auf Gestattung der Wiedereinreise des Ausländers in die Bundesrepublik Deutschland gestellt hat.\")"
   ]
  },
  {
   "cell_type": "code",
   "execution_count": 152,
   "metadata": {},
   "outputs": [
    {
     "name": "stdout",
     "output_type": "stream",
     "text": [
      "This is the score for cosine distance:\n"
     ]
    },
    {
     "data": {
      "text/plain": [
       "0.1989013064555406"
      ]
     },
     "execution_count": 152,
     "metadata": {},
     "output_type": "execute_result"
    }
   ],
   "source": [
    "evaluate_strings(\"can I live in Germany if I'm attending college?\", \"Ausländern, die für ein Studium von einer deutschen Wissenschaftsorganisation oder einer deutschen öffentlichen Stelle vermittelt werden, die Stipendien auch aus öffentlichen Mitteln vergibt, und in diesem Zusammenhang in der Bundesrepublik Deutschland ein Stipendium auf Grund eines auch für öffentliche Mittel verwendeten Vergabeverfahrens erhalten,\")"
   ]
  },
  {
   "cell_type": "code",
   "execution_count": 153,
   "metadata": {},
   "outputs": [
    {
     "name": "stdout",
     "output_type": "stream",
     "text": [
      "This is the score for cosine distance:\n"
     ]
    },
    {
     "data": {
      "text/plain": [
       "0.2557309984452164"
      ]
     },
     "execution_count": 153,
     "metadata": {},
     "output_type": "execute_result"
    }
   ],
   "source": [
    "evaluate_strings(\"I hate everything\", \"photons are like frogs\")"
   ]
  },
  {
   "cell_type": "code",
   "execution_count": 154,
   "metadata": {},
   "outputs": [
    {
     "name": "stdout",
     "output_type": "stream",
     "text": [
      "This is the score for cosine distance:\n"
     ]
    },
    {
     "data": {
      "text/plain": [
       "0.14405377034188627"
      ]
     },
     "execution_count": 154,
     "metadata": {},
     "output_type": "execute_result"
    }
   ],
   "source": [
    "evaluate_strings(\"burger\", \"sandwich\")"
   ]
  },
  {
   "cell_type": "code",
   "execution_count": 155,
   "metadata": {},
   "outputs": [
    {
     "name": "stdout",
     "output_type": "stream",
     "text": [
      "This is the score for cosine distance:\n"
     ]
    },
    {
     "data": {
      "text/plain": [
       "0.1955823044816487"
      ]
     },
     "execution_count": 155,
     "metadata": {},
     "output_type": "execute_result"
    }
   ],
   "source": [
    "evaluate_strings(\"burger\", \"citizen\")"
   ]
  },
  {
   "cell_type": "code",
   "execution_count": null,
   "metadata": {},
   "outputs": [],
   "source": []
  }
 ],
 "metadata": {
  "kernelspec": {
   "display_name": "Python 3",
   "language": "python",
   "name": "python3"
  },
  "language_info": {
   "codemirror_mode": {
    "name": "ipython",
    "version": 3
   },
   "file_extension": ".py",
   "mimetype": "text/x-python",
   "name": "python",
   "nbconvert_exporter": "python",
   "pygments_lexer": "ipython3",
   "version": "3.10.1"
  }
 },
 "nbformat": 4,
 "nbformat_minor": 2
}
