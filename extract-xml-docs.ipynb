{
 "cells": [
  {
   "cell_type": "code",
   "execution_count": 87,
   "metadata": {},
   "outputs": [],
   "source": [
    "import pandas as pd\n",
    "import numpy as np\n",
    "from langchain.document_loaders import DirectoryLoader, UnstructuredXMLLoader\n"
   ]
  },
  {
   "cell_type": "code",
   "execution_count": 88,
   "metadata": {},
   "outputs": [],
   "source": [
    "file = \"german-law/laws/Aufenthaltsverordnung/BJNR294510004.xml\""
   ]
  },
  {
   "cell_type": "markdown",
   "metadata": {},
   "source": [
    "### Try: XML Loader"
   ]
  },
  {
   "cell_type": "code",
   "execution_count": 92,
   "metadata": {},
   "outputs": [],
   "source": [
    "# load XML with UnstructuredXMLLoader\n",
    "loader = UnstructuredXMLLoader(file_path = file)\n",
    "docs = loader.load()"
   ]
  },
  {
   "cell_type": "code",
   "execution_count": 93,
   "metadata": {},
   "outputs": [
    {
     "data": {
      "text/plain": [
       "1"
      ]
     },
     "execution_count": 93,
     "metadata": {},
     "output_type": "execute_result"
    }
   ],
   "source": [
    "len(docs)"
   ]
  },
  {
   "cell_type": "code",
   "execution_count": 100,
   "metadata": {},
   "outputs": [
    {
     "data": {
      "text/plain": [
       "'290 AufenthV Inhaltsübersicht Kapitel 1 Allgemeine Bestimmungen § 1 Begriffsbestimmungen Kapitel 2 Einreise und Aufenthalt im Bundesgebiet Abschnitt 1 Passpflicht für Ausländer § 2 Erfüllung der Passpflicht durch Eintragung in den Pass eines gesetzlichen Vertreters § 3 Zulassung nichtdeutscher amtlicher Ausweise als Passersatz § 4 Deutsche Passersatzpapiere für Ausländer § 5 Allgemeine Voraussetzu'"
      ]
     },
     "execution_count": 100,
     "metadata": {},
     "output_type": "execute_result"
    }
   ],
   "source": [
    "docs[0].page_content[:400]"
   ]
  },
  {
   "cell_type": "code",
   "execution_count": 98,
   "metadata": {},
   "outputs": [
    {
     "data": {
      "text/plain": [
       "list"
      ]
     },
     "execution_count": 98,
     "metadata": {},
     "output_type": "execute_result"
    }
   ],
   "source": [
    "type(docs)"
   ]
  },
  {
   "cell_type": "markdown",
   "metadata": {},
   "source": [
    "**Recursive Character Text Splitter**\n",
    "\n",
    "Use recursive character text splitter to split texts into chunks of 1000"
   ]
  },
  {
   "cell_type": "code",
   "execution_count": 120,
   "metadata": {},
   "outputs": [
    {
     "name": "stdout",
     "output_type": "stream",
     "text": [
      "254\n"
     ]
    }
   ],
   "source": [
    "# Try with the CharacterTextSplitter\n",
    "from langchain.text_splitter import RecursiveCharacterTextSplitter, CharacterTextSplitter\n",
    "\n",
    "text_splitter = RecursiveCharacterTextSplitter(\n",
    "    chunk_size = 1000,\n",
    "    chunk_overlap  = 200\n",
    ")\n",
    "\n",
    "r_texts = text_splitter.create_documents([docs[0].page_content])\n",
    "print(len(r_texts))"
   ]
  },
  {
   "cell_type": "code",
   "execution_count": 121,
   "metadata": {},
   "outputs": [
    {
     "name": "stderr",
     "output_type": "stream",
     "text": [
      "Created a chunk of size 1500, which is longer than the specified 1000\n",
      "Created a chunk of size 1500, which is longer than the specified 1000\n",
      "Created a chunk of size 1500, which is longer than the specified 1000\n",
      "Created a chunk of size 1500, which is longer than the specified 1000\n",
      "Created a chunk of size 1500, which is longer than the specified 1000\n",
      "Created a chunk of size 7988, which is longer than the specified 1000\n",
      "Created a chunk of size 1413, which is longer than the specified 1000\n",
      "Created a chunk of size 1181, which is longer than the specified 1000\n",
      "Created a chunk of size 1231, which is longer than the specified 1000\n",
      "Created a chunk of size 1124, which is longer than the specified 1000\n",
      "Created a chunk of size 1359, which is longer than the specified 1000\n",
      "Created a chunk of size 1252, which is longer than the specified 1000\n",
      "Created a chunk of size 1357, which is longer than the specified 1000\n",
      "Created a chunk of size 1474, which is longer than the specified 1000\n",
      "Created a chunk of size 1312, which is longer than the specified 1000\n",
      "Created a chunk of size 1465, which is longer than the specified 1000\n",
      "Created a chunk of size 1092, which is longer than the specified 1000\n",
      "Created a chunk of size 1330, which is longer than the specified 1000\n",
      "Created a chunk of size 1427, which is longer than the specified 1000\n",
      "Created a chunk of size 1215, which is longer than the specified 1000\n",
      "Created a chunk of size 1356, which is longer than the specified 1000\n",
      "Created a chunk of size 1129, which is longer than the specified 1000\n",
      "Created a chunk of size 1467, which is longer than the specified 1000\n",
      "Created a chunk of size 1435, which is longer than the specified 1000\n",
      "Created a chunk of size 1166, which is longer than the specified 1000\n",
      "Created a chunk of size 1301, which is longer than the specified 1000\n",
      "Created a chunk of size 1421, which is longer than the specified 1000\n",
      "Created a chunk of size 1473, which is longer than the specified 1000\n",
      "Created a chunk of size 1500, which is longer than the specified 1000\n",
      "Created a chunk of size 1195, which is longer than the specified 1000\n",
      "Created a chunk of size 1115, which is longer than the specified 1000\n",
      "Created a chunk of size 1247, which is longer than the specified 1000\n",
      "Created a chunk of size 1406, which is longer than the specified 1000\n",
      "Created a chunk of size 1415, which is longer than the specified 1000\n",
      "Created a chunk of size 1467, which is longer than the specified 1000\n",
      "Created a chunk of size 1464, which is longer than the specified 1000\n",
      "Created a chunk of size 1442, which is longer than the specified 1000\n",
      "Created a chunk of size 1399, which is longer than the specified 1000\n",
      "Created a chunk of size 1439, which is longer than the specified 1000\n",
      "Created a chunk of size 1297, which is longer than the specified 1000\n",
      "Created a chunk of size 1361, which is longer than the specified 1000\n",
      "Created a chunk of size 1389, which is longer than the specified 1000\n",
      "Created a chunk of size 1032, which is longer than the specified 1000\n",
      "Created a chunk of size 1250, which is longer than the specified 1000\n",
      "Created a chunk of size 1454, which is longer than the specified 1000\n",
      "Created a chunk of size 1405, which is longer than the specified 1000\n",
      "Created a chunk of size 1383, which is longer than the specified 1000\n",
      "Created a chunk of size 1352, which is longer than the specified 1000\n",
      "Created a chunk of size 1187, which is longer than the specified 1000\n",
      "Created a chunk of size 1487, which is longer than the specified 1000\n",
      "Created a chunk of size 1492, which is longer than the specified 1000\n",
      "Created a chunk of size 1187, which is longer than the specified 1000\n",
      "Created a chunk of size 1455, which is longer than the specified 1000\n",
      "Created a chunk of size 1210, which is longer than the specified 1000\n",
      "Created a chunk of size 1320, which is longer than the specified 1000\n",
      "Created a chunk of size 1338, which is longer than the specified 1000\n",
      "Created a chunk of size 1306, which is longer than the specified 1000\n",
      "Created a chunk of size 1433, which is longer than the specified 1000\n",
      "Created a chunk of size 1385, which is longer than the specified 1000\n",
      "Created a chunk of size 1443, which is longer than the specified 1000\n",
      "Created a chunk of size 1493, which is longer than the specified 1000\n",
      "Created a chunk of size 1179, which is longer than the specified 1000\n",
      "Created a chunk of size 1452, which is longer than the specified 1000\n",
      "Created a chunk of size 1068, which is longer than the specified 1000\n",
      "Created a chunk of size 1437, which is longer than the specified 1000\n",
      "Created a chunk of size 1300, which is longer than the specified 1000\n",
      "Created a chunk of size 1242, which is longer than the specified 1000\n",
      "Created a chunk of size 1412, which is longer than the specified 1000\n",
      "Created a chunk of size 1114, which is longer than the specified 1000\n",
      "Created a chunk of size 1259, which is longer than the specified 1000\n",
      "Created a chunk of size 1014, which is longer than the specified 1000\n",
      "Created a chunk of size 1181, which is longer than the specified 1000\n",
      "Created a chunk of size 1343, which is longer than the specified 1000\n",
      "Created a chunk of size 1471, which is longer than the specified 1000\n",
      "Created a chunk of size 1475, which is longer than the specified 1000\n",
      "Created a chunk of size 1087, which is longer than the specified 1000\n",
      "Created a chunk of size 1369, which is longer than the specified 1000\n",
      "Created a chunk of size 1475, which is longer than the specified 1000\n",
      "Created a chunk of size 1372, which is longer than the specified 1000\n",
      "Created a chunk of size 1481, which is longer than the specified 1000\n",
      "Created a chunk of size 1410, which is longer than the specified 1000\n",
      "Created a chunk of size 1453, which is longer than the specified 1000\n",
      "Created a chunk of size 1449, which is longer than the specified 1000\n",
      "Created a chunk of size 1363, which is longer than the specified 1000\n",
      "Created a chunk of size 1355, which is longer than the specified 1000\n",
      "Created a chunk of size 1033, which is longer than the specified 1000\n",
      "Created a chunk of size 1159, which is longer than the specified 1000\n",
      "Created a chunk of size 1449, which is longer than the specified 1000\n",
      "Created a chunk of size 1425, which is longer than the specified 1000\n",
      "Created a chunk of size 1500, which is longer than the specified 1000\n",
      "Created a chunk of size 1500, which is longer than the specified 1000\n",
      "Created a chunk of size 3185, which is longer than the specified 1000\n",
      "Created a chunk of size 1437, which is longer than the specified 1000\n",
      "Created a chunk of size 1237, which is longer than the specified 1000\n",
      "Created a chunk of size 1187, which is longer than the specified 1000\n",
      "Created a chunk of size 1448, which is longer than the specified 1000\n",
      "Created a chunk of size 1073, which is longer than the specified 1000\n",
      "Created a chunk of size 1364, which is longer than the specified 1000\n",
      "Created a chunk of size 1488, which is longer than the specified 1000\n",
      "Created a chunk of size 1405, which is longer than the specified 1000\n",
      "Created a chunk of size 1468, which is longer than the specified 1000\n",
      "Created a chunk of size 1309, which is longer than the specified 1000\n",
      "Created a chunk of size 1340, which is longer than the specified 1000\n",
      "Created a chunk of size 1247, which is longer than the specified 1000\n",
      "Created a chunk of size 1322, which is longer than the specified 1000\n",
      "Created a chunk of size 1475, which is longer than the specified 1000\n",
      "Created a chunk of size 1001, which is longer than the specified 1000\n",
      "Created a chunk of size 1444, which is longer than the specified 1000\n",
      "Created a chunk of size 1451, which is longer than the specified 1000\n",
      "Created a chunk of size 1467, which is longer than the specified 1000\n",
      "Created a chunk of size 1421, which is longer than the specified 1000\n",
      "Created a chunk of size 1419, which is longer than the specified 1000\n",
      "Created a chunk of size 1028, which is longer than the specified 1000\n"
     ]
    },
    {
     "name": "stdout",
     "output_type": "stream",
     "text": [
      "130\n"
     ]
    }
   ],
   "source": [
    "# Try with the CharacterTextSplitter\n",
    "from langchain.text_splitter import RecursiveCharacterTextSplitter, CharacterTextSplitter\n",
    "\n",
    "text_splitter = CharacterTextSplitter(\n",
    "    chunk_size = 1000,\n",
    "    chunk_overlap  = 200\n",
    ")\n",
    "\n",
    "texts = text_splitter.create_documents([docs[0].page_content])\n",
    "print(len(texts))"
   ]
  },
  {
   "cell_type": "markdown",
   "metadata": {},
   "source": [
    "**Embedding**"
   ]
  },
  {
   "cell_type": "code",
   "execution_count": 73,
   "metadata": {},
   "outputs": [],
   "source": [
    "from langchain.embeddings import OllamaEmbeddings"
   ]
  },
  {
   "cell_type": "code",
   "execution_count": 74,
   "metadata": {},
   "outputs": [],
   "source": [
    "embeddings_model = OllamaEmbeddings()"
   ]
  },
  {
   "cell_type": "code",
   "execution_count": 148,
   "metadata": {},
   "outputs": [
    {
     "name": "stdout",
     "output_type": "stream",
     "text": [
      "base_url='http://localhost:11434' model='llama2' embed_instruction='passage: ' query_instruction='query: ' mirostat=None mirostat_eta=None mirostat_tau=None num_ctx=None num_gpu=None num_thread=None repeat_last_n=None repeat_penalty=None temperature=None stop=None tfs_z=None top_k=None top_p=None model_kwargs=None\n"
     ]
    }
   ],
   "source": [
    "print(OllamaEmbeddings())"
   ]
  },
  {
   "cell_type": "markdown",
   "metadata": {},
   "source": [
    "**Apply the embedding model**"
   ]
  },
  {
   "cell_type": "code",
   "execution_count": 122,
   "metadata": {},
   "outputs": [],
   "source": [
    "# Apply to the character split texts\n",
    "embeddings = embeddings_model.embed_documents(texts)"
   ]
  },
  {
   "cell_type": "code",
   "execution_count": 149,
   "metadata": {},
   "outputs": [
    {
     "data": {
      "text/plain": [
       "4096"
      ]
     },
     "execution_count": 149,
     "metadata": {},
     "output_type": "execute_result"
    }
   ],
   "source": [
    "len(embeddings[0])"
   ]
  },
  {
   "cell_type": "code",
   "execution_count": 124,
   "metadata": {},
   "outputs": [],
   "source": [
    "# Apply to the recursively character split texts\n",
    "embeddings_r_texts = embeddings_model.embed_documents(r_texts)"
   ]
  },
  {
   "cell_type": "markdown",
   "metadata": {},
   "source": [
    "**Vector Store: define the database to use**"
   ]
  },
  {
   "cell_type": "code",
   "execution_count": 150,
   "metadata": {},
   "outputs": [],
   "source": [
    "from langchain.vectorstores import Qdrant"
   ]
  },
  {
   "cell_type": "markdown",
   "metadata": {},
   "source": []
  },
  {
   "cell_type": "markdown",
   "metadata": {},
   "source": [
    "**Qdrant texts from non-recursive splitter**"
   ]
  },
  {
   "cell_type": "code",
   "execution_count": 153,
   "metadata": {},
   "outputs": [],
   "source": [
    "qdrant_texts = Qdrant.from_documents(\n",
    "    documents=texts,\n",
    "    embedding=embeddings_model,\n",
    "    location=\":memory:\",  # Local mode with in-memory storage only\n",
    "    collection_name=\"texts\",\n",
    ")"
   ]
  },
  {
   "cell_type": "markdown",
   "metadata": {},
   "source": [
    "**Qdrant texts from recursive splitter**"
   ]
  },
  {
   "cell_type": "code",
   "execution_count": 154,
   "metadata": {},
   "outputs": [],
   "source": [
    "qdrant_r_texts = Qdrant.from_documents(\n",
    "    documents=r_texts,\n",
    "    embedding=embeddings_model,\n",
    "    location=\":memory:\",  # Local mode with in-memory storage only\n",
    "    collection_name=\"r_texts\",\n",
    ")"
   ]
  },
  {
   "cell_type": "markdown",
   "metadata": {},
   "source": [
    "**LLM Setup**"
   ]
  },
  {
   "cell_type": "code",
   "execution_count": 61,
   "metadata": {},
   "outputs": [],
   "source": [
    "from langchain.llms import Ollama"
   ]
  },
  {
   "cell_type": "code",
   "execution_count": 62,
   "metadata": {},
   "outputs": [],
   "source": [
    "# llm = Ollama(model='llama2', temperature=0)"
   ]
  },
  {
   "cell_type": "code",
   "execution_count": 176,
   "metadata": {},
   "outputs": [],
   "source": [
    "# Function defines the model as \"llm\"\n",
    "\n",
    "def set_model(model):\n",
    "    llm = Ollama(model=model, temperature=0)\n",
    "    return llm\n",
    "\n",
    "# TO CALL THIS FUNCTION:\n",
    "# set_model('mistral')"
   ]
  },
  {
   "cell_type": "markdown",
   "metadata": {},
   "source": [
    "**Retrieval QA Prompt**"
   ]
  },
  {
   "cell_type": "code",
   "execution_count": 155,
   "metadata": {},
   "outputs": [],
   "source": [
    "from langchain.chains import RetrievalQA   "
   ]
  },
  {
   "cell_type": "code",
   "execution_count": 170,
   "metadata": {},
   "outputs": [],
   "source": [
    "from langchain.prompts import PromptTemplate \n",
    "\n",
    "# build prompt \n",
    "template = \"\"\"\n",
    "    You are an empathetic and helpful legal advisor with intimate knowledge of German law.\n",
    "    Use the following pieces of context to answer the question at the end. \n",
    "    If you don't know the answer, just say that you don't know, don't try to make up an answer. \n",
    "    Use ten sentences maximum. Keep the answer as easy to understand for the average person and \n",
    "    as concise as possible. \n",
    "    Always reference the laws that pertain to the answer so your client can reference them later. \n",
    "    Reference these inline and at the end (i.e. Paragraph 9 refers to the amount of time you need to live in xyz)\n",
    "    \n",
    "    {context}\n",
    "    Question: {question}\n",
    "    Helpful Answer:\n",
    "    \"\"\"\n",
    "QA_CHAIN_PROMPT = PromptTemplate.from_template(template)\n"
   ]
  },
  {
   "cell_type": "code",
   "execution_count": 171,
   "metadata": {},
   "outputs": [],
   "source": [
    "qa_chain_mr = RetrievalQA.from_chain_type(\n",
    "    set_model(model), \n",
    "    retriever = qdrant_r_texts.as_retriever(),\n",
    "    chain_type=\"stuff\", \n",
    "    chain_type_kwargs={\"prompt\": QA_CHAIN_PROMPT}\n",
    "\n",
    ")"
   ]
  },
  {
   "cell_type": "markdown",
   "metadata": {},
   "source": [
    "**Define Question**"
   ]
  },
  {
   "cell_type": "code",
   "execution_count": 172,
   "metadata": {},
   "outputs": [],
   "source": [
    "question = \"How can a resident of Germany obtain citizenship?\""
   ]
  },
  {
   "cell_type": "code",
   "execution_count": null,
   "metadata": {},
   "outputs": [],
   "source": [
    "result = qa_chain_mr({\"query\": question})\n"
   ]
  },
  {
   "cell_type": "code",
   "execution_count": 174,
   "metadata": {},
   "outputs": [
    {
     "name": "stdout",
     "output_type": "stream",
     "text": [
      " As a legal advisor with intimate knowledge of German law, I can provide you with information on how a resident of Germany can obtain citizenship. According to Section 2 of the Citizenship Act (Bundeszugehörigkeitsgesetz), a person can acquire German citizenship through naturalization if they meet certain requirements.\n",
      "\n",
      "To be eligible for citizenship, the applicant must:\n",
      "\n",
      "1. Have been living in Germany for at least 6 years immediately prior to the application (Paragraph 9 of the Citizenship Act).\n",
      "2. Be at least 18 years old (Paragraph 2 of the Citizenship Act).\n",
      "3. Have a good command of the German language (Paragraph 3 of the Citizenship Act).\n",
      "4. Have a basic knowledge of the Constitution and the laws of Germany (Paragraph 4 of the Citizenship Act).\n",
      "5. Be of good character and not have any criminal convictions or outstanding debts to the state (Paragraph 5 of the Citizenship Act).\n",
      "\n",
      "If these requirements are met, the applicant can submit an application for citizenship to the competent authority, which is typically the local immigration office. The application will then be reviewed and processed according to the provisions of the Citizenship Act.\n",
      "\n",
      "It's important to note that obtaining German citizenship can have significant benefits, including the right to live and work in Germany without restrictions, as well as the ability to vote in elections and participate in political life. However, it also comes with certain obligations and responsibilities, such as the requirement to obey German law and fulfill civic duties.\n",
      "\n",
      "I hope this information is helpful. If you have any further questions or concerns, please don't hesitate to ask.\n"
     ]
    }
   ],
   "source": [
    "# The print() function ensures we see paragraphs, not '\\n'\n",
    "print(result[\"result\"])"
   ]
  },
  {
   "cell_type": "code",
   "execution_count": 182,
   "metadata": {},
   "outputs": [],
   "source": [
    "import time"
   ]
  },
  {
   "cell_type": "code",
   "execution_count": 183,
   "metadata": {},
   "outputs": [],
   "source": [
    "# define a function which takes as inputs the llm, embeddings, and outputs the result (printed)\n",
    "# ideally log as tags which llm and embeddings was used, allow me to categorize outputs as (good, not good, or comment in some ways)\n",
    "\n",
    "def test_llm(vectorstore, model, question):\n",
    "\n",
    "    start = time.time()\n",
    "\n",
    "    # set qa chain\n",
    "    qa_chain_mr = RetrievalQA.from_chain_type(\n",
    "        set_model(model), \n",
    "        retriever = vectorstore.as_retriever(),\n",
    "        chain_type=\"stuff\", \n",
    "        chain_type_kwargs={\"prompt\": QA_CHAIN_PROMPT}\n",
    "    )\n",
    "\n",
    "    # get the result\n",
    "    result = qa_chain_mr({\"query\": question})\n",
    "\n",
    "    # print the result\n",
    "    print(result[\"result\"])\n",
    "\n",
    "    end = time.time()\n",
    "    elapsed_time = end - start\n",
    "    print(\"The function took\", elapsed_time, \"seconds to run.\")\n"
   ]
  },
  {
   "cell_type": "code",
   "execution_count": 184,
   "metadata": {},
   "outputs": [
    {
     "name": "stdout",
     "output_type": "stream",
     "text": [
      "\n",
      "As of my knowledge cutoff in 2021, a resident of Germany who wishes to obtain citizenship must fulfill certain requirements and go through a series of processes.\n",
      "\n",
      "First, the individual must have lived in Germany for a minimum of eight years. This requirement is set forth in Section 67 of the German Civil Code (Bürgergesetzbuch).\n",
      "\n",
      "Second, the applicant must demonstrate that they have good character and are capable of upholding the rights and duties of German citizenship. This includes having a clean criminal record and demonstrating that they have integrated into German society.\n",
      "\n",
      "Third, the individual must take an oath of allegiance to the Federal Republic of Germany. This requirement is set forth in Section 68 of the German Civil Code.\n",
      "\n",
      "Finally, the applicant must submit their application to the appropriate federal or state authority and undergo a citizenship ceremony.\n",
      "\n",
      "It's important to note that this information is subject to change and may not be up-to-date with the current laws in Germany. I suggest consulting a legal professional or the relevant government agency for the most accurate and up-to-date information on obtaining German citizenship.\n",
      "The function took 19.572343111038208 seconds to run.\n"
     ]
    }
   ],
   "source": [
    "frage = \"How can a resident of Germany obtain citizenship?\"\n",
    "test_llm(qdrant_r_texts, 'mistral', frage)"
   ]
  },
  {
   "cell_type": "code",
   "execution_count": 185,
   "metadata": {},
   "outputs": [
    {
     "name": "stdout",
     "output_type": "stream",
     "text": [
      " As a legal advisor with intimate knowledge of German law, I can provide you with information on how a resident of Germany can obtain citizenship. According to Section 1 of the Citizenship Act (Aufenthaltsgesetz), a person who has been residing in Germany for at least eight years can apply for citizenship. This period may be reduced to five years if the applicant is married to a German citizen or has lived in Germany for at least 10 years.\n",
      "\n",
      "To obtain citizenship, the applicant must meet certain requirements, including:\n",
      "\n",
      "* Being at least 18 years old\n",
      "* Having good moral character and no criminal record\n",
      "* Proving basic knowledge of the German language and society\n",
      "* Passing a citizenship test\n",
      "\n",
      "The application process typically involves submitting an application to the relevant authorities, along with supporting documents and fees. The application will be reviewed and processed by the authorities, who may request additional information or documentation during the processing period. If the application is approved, the applicant will be invited to take a citizenship test and attend a naturalization ceremony to receive their certificate of citizenship.\n",
      "\n",
      "It is important to note that the requirements and process for obtaining German citizenship can vary depending on individual circumstances, so it is recommended to consult with a qualified legal professional for personalized advice and guidance.\n",
      "The function took 26.213172912597656 seconds to run.\n"
     ]
    }
   ],
   "source": [
    "test_llm(qdrant_r_texts, 'llama2', frage)"
   ]
  },
  {
   "cell_type": "markdown",
   "metadata": {},
   "source": [
    "**Testing qdrant_texts**"
   ]
  },
  {
   "cell_type": "code",
   "execution_count": 188,
   "metadata": {},
   "outputs": [
    {
     "name": "stdout",
     "output_type": "stream",
     "text": [
      "\n",
      "To become a German citizen, you will need to go through a process called naturalization. There are several requirements that you must meet in order to apply for citizenship, including the following:\n",
      "\n",
      "1. Age: You must be at least 18 years old to apply for naturalization.\n",
      "2. Length of Residence: You must have been living in Germany for at least six years and a half (7 jahre und 6 Monate). During this time, you must have had no interruptions in your residence and must have spent at least two years and six months (2 Jahre und 6 Monate) during this period.\n",
      "3. Knowledge of German: You must be able to demonstrate a good command of the German language both in speech and writing. This can be done through an interview, examination or test, or by providing proof of your proficiency such as a diploma from a German language course.\n",
      "4. Integration: You must demonstrate that you have integrated well into German society and are able to take on the rights and responsibilities of citizenship. This includes being familiar with the laws and customs of Germany, and having a positive attitude towards the country and its people.\n",
      "5. Good Character: You must be of good character and not have any criminal convictions or other serious issues that could make you unsuitable for naturalization.\n",
      "\n",
      "Once you meet all of these requirements, you can apply for citizenship through your local Foreigners' Office (Ausländerbehörde). The process typically takes around six months, during which time you will need to attend an interview and provide various documents such as your passport, proof of your knowledge of German and evidence of your integration into German society.\n",
      "\n",
      "If your application is successful, you will be granted citizenship and will be able to vote in elections, hold public office and enjoy all the other rights and responsibilities of a German citizen.\n",
      "The function took 26.555104970932007 seconds to run.\n"
     ]
    }
   ],
   "source": [
    "test_llm(qdrant_texts, 'mistral', frage)"
   ]
  },
  {
   "cell_type": "code",
   "execution_count": 189,
   "metadata": {},
   "outputs": [
    {
     "name": "stdout",
     "output_type": "stream",
     "text": [
      " As an empathetic and helpful legal advisor, I must inform you that acquiring German citizenship is a complex process that involves several steps and requirements. Here are the general guidelines to obtain German citizenship as a resident of Germany:\n",
      "\n",
      "1. Meet the Eligibility Criteria: To be eligible for German citizenship, you must meet certain requirements such as being at least 18 years old, having lived in Germany for at least eight years (or 10 years if you are married to a German citizen), and having a good knowledge of the German language.\n",
      "2. Obtain Permanent Residence: Before applying for citizenship, you must hold a permanent residence permit (Aufenthaltstitel). You can apply for this permit after living in Germany for at least five years as a foreign national.\n",
      "3. Pass the Citizenship Test: The next step is to pass a written and oral test on German history, culture, and politics. The test is administered by the authorities, and you will need to score at least 60% to pass.\n",
      "4. Meet the Residence Requirement: You must have lived in Germany for at least eight years (or 10 years if you are married to a German citizen) immediately before applying for citizenship.\n",
      "5. Declaration of Intention: Once you have met the eligibility criteria and passed the citizenship test, you will need to submit a declaration of intention to acquire German citizenship. This document must be signed in front of a notary public.\n",
      "6. Apply for Citizenship: After submitting your declaration of intention, you can apply for German citizenship by filing an application with the relevant authorities. You will need to provide proof of your eligibility and pass the citizenship test.\n",
      "7. Naturalization Ceremony: If your application is approved, you will be invited to a naturalization ceremony where you will take an oath of allegiance to Germany and receive your certificate of naturalization.\n",
      "\n",
      "It's important to note that obtaining German citizenship can be a lengthy process, and there may be additional requirements or procedures depending on your individual circumstances. Therefore, it is advisable to consult with the relevant authorities or seek professional legal advice to ensure you meet all the necessary criteria and follow the correct procedure.\n",
      "The function took 79.72438406944275 seconds to run.\n"
     ]
    }
   ],
   "source": [
    "test_llm(qdrant_texts, 'llama2', frage)"
   ]
  },
  {
   "cell_type": "markdown",
   "metadata": {},
   "source": [
    "### Findings:\n",
    "\n",
    "Recursive Text Splitter\n",
    " * mistral: 19.5s\n",
    " * llama2: 26.2s\n",
    "\n",
    " Text splitter\n",
    " * mistral: 26.5s\n",
    " * llama2: 79.7s"
   ]
  },
  {
   "cell_type": "code",
   "execution_count": null,
   "metadata": {},
   "outputs": [],
   "source": []
  }
 ],
 "metadata": {
  "kernelspec": {
   "display_name": "Python 3",
   "language": "python",
   "name": "python3"
  },
  "language_info": {
   "codemirror_mode": {
    "name": "ipython",
    "version": 3
   },
   "file_extension": ".py",
   "mimetype": "text/x-python",
   "name": "python",
   "nbconvert_exporter": "python",
   "pygments_lexer": "ipython3",
   "version": "3.10.1"
  }
 },
 "nbformat": 4,
 "nbformat_minor": 2
}
