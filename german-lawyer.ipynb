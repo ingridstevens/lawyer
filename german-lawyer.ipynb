{
 "cells": [
  {
   "cell_type": "markdown",
   "metadata": {},
   "source": [
    "## German Lawyer \n",
    "\n",
    "\n",
    "This is your German Lawyer. He will help you to understand the German laws relating to \"Aufenthalt\" or \"Residence\" in Germany.\n",
    "\n",
    "This lawyer will answer your questions related to living in Germany"
   ]
  },
  {
   "cell_type": "code",
   "execution_count": 14,
   "metadata": {},
   "outputs": [],
   "source": [
    "from langchain.document_loaders import UnstructuredXMLLoader\n",
    "from os import listdir\n",
    "from os.path import isfile, join\n"
   ]
  },
  {
   "cell_type": "code",
   "execution_count": 26,
   "metadata": {},
   "outputs": [],
   "source": [
    "def load_multiple_xmls(folder_path):\n",
    "    \"\"\"\n",
    "    Load multiple XML files from a specified folder.\n",
    "\n",
    "    Parameters:\n",
    "    - folder_path (str): The path to the folder containing XML files.\n",
    "\n",
    "    Returns:\n",
    "    - list: List of loaded documents.\n",
    "    \"\"\"\n",
    "    xml_files = [f for f in listdir(folder_path) if isfile(join(folder_path, f)) and f.endswith('.xml')]\n",
    "    \n",
    "    loaded_docs = []\n",
    "    for xml_file in xml_files:\n",
    "        xml_path = join(folder_path, xml_file)\n",
    "        loader = UnstructuredXMLLoader(xml_path)\n",
    "        loaded_docs.extend(loader.load())\n",
    "    \n",
    "    return loaded_docs\n",
    "\n",
    "# Example usage"
   ]
  },
  {
   "cell_type": "code",
   "execution_count": 27,
   "metadata": {},
   "outputs": [],
   "source": [
    "folder_path = \"german-law/laws\"\n",
    "\n",
    "docs = load_multiple_xmls(folder_path)\n"
   ]
  },
  {
   "cell_type": "markdown",
   "metadata": {},
   "source": []
  },
  {
   "cell_type": "code",
   "execution_count": null,
   "metadata": {},
   "outputs": [],
   "source": []
  },
  {
   "cell_type": "code",
   "execution_count": null,
   "metadata": {},
   "outputs": [],
   "source": []
  }
 ],
 "metadata": {
  "kernelspec": {
   "display_name": "Python 3",
   "language": "python",
   "name": "python3"
  },
  "language_info": {
   "codemirror_mode": {
    "name": "ipython",
    "version": 3
   },
   "file_extension": ".py",
   "mimetype": "text/x-python",
   "name": "python",
   "nbconvert_exporter": "python",
   "pygments_lexer": "ipython3",
   "version": "3.10.1"
  }
 },
 "nbformat": 4,
 "nbformat_minor": 2
}
