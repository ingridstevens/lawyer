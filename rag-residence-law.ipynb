{
 "cells": [
  {
   "cell_type": "markdown",
   "metadata": {},
   "source": [
    "# German Lawyer \n",
    "\n",
    "A simple Jupyter notebook to help navigate the residency law in Germany. This project uses local embeddings and models to do RAG over the German residency law. This means that the model is living locally on the computer, the embeddings are done locally, and the querying is done locally.\n",
    "\n",
    "You can ask questions like:\n",
    "\n",
    "* What are the requirements for a Blue Card?\n",
    "* What are the requirements for a student visa?\n",
    "* What are the requirements for a work visa?\n",
    "\n",
    "I've taken the Aufenthaltsgesetz and Aufenthaltsverordnung from Gesetze im Internet as XML and using the Unstructured XML loader, I've loaded them in as a LangChain document.\n",
    "\n",
    "## Project Steps\n",
    "\n",
    "1. Load the XML files into a LangChain document\n",
    "2. Split the document into sections\n",
    "3. Embeddings\n",
    "4. Vector Store\n",
    "5. LLM Setup (Prompt Template & Querying)"
   ]
  },
  {
   "cell_type": "code",
   "execution_count": 91,
   "metadata": {},
   "outputs": [],
   "source": [
    "import pandas as pd\n",
    "import numpy as np\n",
    "from langchain.document_loaders import DirectoryLoader, UnstructuredXMLLoader"
   ]
  },
  {
   "cell_type": "markdown",
   "metadata": {},
   "source": [
    "### 1: Use LangChain Unstructured XML Loader to Load in the German Residence Law"
   ]
  },
  {
   "cell_type": "code",
   "execution_count": 92,
   "metadata": {},
   "outputs": [],
   "source": [
    "# German Residence Law\n",
    "# source: https://www.gesetze-im-internet.de/aufenthv/BJNR294510004.html\n",
    "file = \"german-law/laws/Aufenthaltsverordnung/BJNR294510004.xml\""
   ]
  },
  {
   "cell_type": "code",
   "execution_count": 93,
   "metadata": {},
   "outputs": [
    {
     "data": {
      "text/plain": [
       "'290 AufenthV Inhaltsübersicht Kapitel 1 Allgemeine Bestimmungen § 1 Begriffsbestimmungen Kapitel 2 Einreise und Aufenthalt im Bundesgebiet Abschnitt 1 Passpflicht für Ausländer § 2 Erfüllung der Passpflicht durch Eintragung in den Pass eines gesetzlichen Vertreters § 3 Zulassung nichtdeutscher amtlicher Ausweise als Passersatz § 4 Deutsche Passersatzpapiere für Ausländer § 5 Allgemeine Voraussetzu'"
      ]
     },
     "execution_count": 93,
     "metadata": {},
     "output_type": "execute_result"
    }
   ],
   "source": [
    "# load German Residence Law XML file with UnstructuredXMLLoader\n",
    "loader = UnstructuredXMLLoader(file_path = file)\n",
    "docs = loader.load()\n",
    "\n",
    "# print the first 400 characters of the first page\n",
    "docs[0].page_content[:400]"
   ]
  },
  {
   "cell_type": "markdown",
   "metadata": {},
   "source": [
    "### 2: Split the Text"
   ]
  },
  {
   "cell_type": "markdown",
   "metadata": {},
   "source": [
    "**Recursive Character Text Splitter**\n",
    "\n",
    "Use recursive character text splitter to split texts into chunks of 1000"
   ]
  },
  {
   "cell_type": "code",
   "execution_count": 94,
   "metadata": {},
   "outputs": [
    {
     "name": "stdout",
     "output_type": "stream",
     "text": [
      "20\n"
     ]
    }
   ],
   "source": [
    "# Try with the CharacterTextSplitter\n",
    "from langchain.text_splitter import RecursiveCharacterTextSplitter, CharacterTextSplitter\n",
    "\n",
    "text_splitter = RecursiveCharacterTextSplitter(\n",
    "    chunk_size = 10000,\n",
    "    chunk_overlap  = 1000\n",
    ")\n",
    "\n",
    "r_texts = text_splitter.create_documents([docs[0].page_content])\n",
    "print(len(r_texts))"
   ]
  },
  {
   "cell_type": "code",
   "execution_count": 95,
   "metadata": {},
   "outputs": [
    {
     "name": "stderr",
     "output_type": "stream",
     "text": [
      "Created a chunk of size 7988, which is longer than the specified 5000\n"
     ]
    },
    {
     "name": "stdout",
     "output_type": "stream",
     "text": [
      "40\n"
     ]
    }
   ],
   "source": [
    "# Try with the CharacterTextSplitter\n",
    "from langchain.text_splitter import RecursiveCharacterTextSplitter, CharacterTextSplitter\n",
    "\n",
    "text_splitter = CharacterTextSplitter(\n",
    "    chunk_size = 5000,\n",
    "    chunk_overlap  = 500\n",
    ")\n",
    "\n",
    "texts = text_splitter.create_documents([docs[0].page_content])\n",
    "print(len(texts))"
   ]
  },
  {
   "cell_type": "markdown",
   "metadata": {},
   "source": [
    "### 3: Embedding"
   ]
  },
  {
   "cell_type": "code",
   "execution_count": 30,
   "metadata": {},
   "outputs": [],
   "source": [
    "from langchain.embeddings import OllamaEmbeddings"
   ]
  },
  {
   "cell_type": "code",
   "execution_count": 31,
   "metadata": {},
   "outputs": [],
   "source": [
    "# function to set the embeddings model used \n",
    "\n",
    "def set_embeddings_model(model):\n",
    "    embeddings_model = OllamaEmbeddings(model=model)\n",
    "    return embeddings_model"
   ]
  },
  {
   "cell_type": "code",
   "execution_count": 32,
   "metadata": {},
   "outputs": [
    {
     "data": {
      "text/plain": [
       "OllamaEmbeddings(base_url='http://localhost:11434', model='mistral', embed_instruction='passage: ', query_instruction='query: ', mirostat=None, mirostat_eta=None, mirostat_tau=None, num_ctx=None, num_gpu=None, num_thread=None, repeat_last_n=None, repeat_penalty=None, temperature=None, stop=None, tfs_z=None, top_k=None, top_p=None, model_kwargs=None)"
      ]
     },
     "execution_count": 32,
     "metadata": {},
     "output_type": "execute_result"
    }
   ],
   "source": [
    "set_embeddings_model('mistral')"
   ]
  },
  {
   "cell_type": "code",
   "execution_count": 33,
   "metadata": {},
   "outputs": [],
   "source": [
    "embeddings_model = OllamaEmbeddings()"
   ]
  },
  {
   "cell_type": "code",
   "execution_count": 34,
   "metadata": {},
   "outputs": [
    {
     "name": "stdout",
     "output_type": "stream",
     "text": [
      "base_url='http://localhost:11434' model='llama2' embed_instruction='passage: ' query_instruction='query: ' mirostat=None mirostat_eta=None mirostat_tau=None num_ctx=None num_gpu=None num_thread=None repeat_last_n=None repeat_penalty=None temperature=None stop=None tfs_z=None top_k=None top_p=None model_kwargs=None\n"
     ]
    }
   ],
   "source": [
    "print(OllamaEmbeddings())"
   ]
  },
  {
   "cell_type": "code",
   "execution_count": 35,
   "metadata": {},
   "outputs": [
    {
     "name": "stdout",
     "output_type": "stream",
     "text": [
      "base_url='http://localhost:11434' model='mistral' embed_instruction='passage: ' query_instruction='query: ' mirostat=None mirostat_eta=None mirostat_tau=None num_ctx=None num_gpu=None num_thread=None repeat_last_n=None repeat_penalty=None temperature=None stop=None tfs_z=None top_k=None top_p=None model_kwargs=None\n"
     ]
    }
   ],
   "source": [
    "print(OllamaEmbeddings(model='mistral'))"
   ]
  },
  {
   "cell_type": "markdown",
   "metadata": {},
   "source": [
    "**Apply the embedding model**"
   ]
  },
  {
   "cell_type": "code",
   "execution_count": 36,
   "metadata": {},
   "outputs": [],
   "source": [
    "# Apply to the character split texts\n",
    "embeddings = embeddings_model.embed_documents(texts)"
   ]
  },
  {
   "cell_type": "code",
   "execution_count": 37,
   "metadata": {},
   "outputs": [
    {
     "data": {
      "text/plain": [
       "4096"
      ]
     },
     "execution_count": 37,
     "metadata": {},
     "output_type": "execute_result"
    }
   ],
   "source": [
    "len(embeddings[0])"
   ]
  },
  {
   "cell_type": "code",
   "execution_count": 38,
   "metadata": {},
   "outputs": [],
   "source": [
    "# Apply to the recursively character split texts\n",
    "embeddings_r_texts = embeddings_model.embed_documents(r_texts)"
   ]
  },
  {
   "cell_type": "markdown",
   "metadata": {},
   "source": [
    "### 4: Vector Store: define the database to use"
   ]
  },
  {
   "cell_type": "code",
   "execution_count": 51,
   "metadata": {},
   "outputs": [],
   "source": [
    "from langchain.vectorstores import Qdrant"
   ]
  },
  {
   "cell_type": "markdown",
   "metadata": {},
   "source": []
  },
  {
   "cell_type": "markdown",
   "metadata": {},
   "source": [
    "**Qdrant texts from non-recursive splitter**\n",
    "\n",
    "Note: when using qdrant, it creates the embeddings for you as a function of creating the vector database"
   ]
  },
  {
   "cell_type": "code",
   "execution_count": 52,
   "metadata": {},
   "outputs": [],
   "source": [
    "# Create a function that takes in the\n",
    "#  1. embeddings model \n",
    "#  2. texts\n",
    "#  3. sets a name for the collection \n",
    "\n",
    "# and outputs a qdrant database\n",
    "\n"
   ]
  },
  {
   "cell_type": "code",
   "execution_count": 53,
   "metadata": {},
   "outputs": [],
   "source": [
    "qdrant_texts = Qdrant.from_documents(\n",
    "    documents=texts,\n",
    "    embedding=embeddings_model,\n",
    "    location=\":memory:\",  # Local mode with in-memory storage only\n",
    "    collection_name=\"texts\",\n",
    ")"
   ]
  },
  {
   "cell_type": "markdown",
   "metadata": {},
   "source": [
    "**Qdrant texts from recursive splitter**"
   ]
  },
  {
   "cell_type": "code",
   "execution_count": 54,
   "metadata": {},
   "outputs": [],
   "source": [
    "qdrant_r_texts = Qdrant.from_documents(\n",
    "    documents=r_texts,\n",
    "    embedding=embeddings_model,\n",
    "    location=\":memory:\",  # Local mode with in-memory storage only\n",
    "    collection_name=\"r_texts\",\n",
    ")"
   ]
  },
  {
   "cell_type": "markdown",
   "metadata": {},
   "source": [
    "### 5: LLM Setup"
   ]
  },
  {
   "cell_type": "markdown",
   "metadata": {},
   "source": [
    "**LLM Setup**"
   ]
  },
  {
   "cell_type": "code",
   "execution_count": 61,
   "metadata": {},
   "outputs": [],
   "source": [
    "from langchain.llms import Ollama"
   ]
  },
  {
   "cell_type": "code",
   "execution_count": 62,
   "metadata": {},
   "outputs": [],
   "source": [
    "# llm = Ollama(model='llama2', temperature=0)"
   ]
  },
  {
   "cell_type": "code",
   "execution_count": 63,
   "metadata": {},
   "outputs": [],
   "source": [
    "# Function defines the model as \"llm\"\n",
    "\n",
    "def set_model(model):\n",
    "    llm = Ollama(model=model, temperature=0)\n",
    "    return llm\n",
    "\n",
    "# TO CALL THIS FUNCTION:\n",
    "# set_model('mistral')"
   ]
  },
  {
   "cell_type": "markdown",
   "metadata": {},
   "source": [
    "**Retrieval QA Prompt**"
   ]
  },
  {
   "cell_type": "code",
   "execution_count": 64,
   "metadata": {},
   "outputs": [],
   "source": [
    "from langchain.chains import RetrievalQA   "
   ]
  },
  {
   "cell_type": "code",
   "execution_count": 65,
   "metadata": {},
   "outputs": [],
   "source": [
    "from langchain.prompts import PromptTemplate \n",
    "\n",
    "# build prompt \n",
    "template = \"\"\"\n",
    "    You are an empathetic and helpful legal advisor with intimate knowledge of German law.\n",
    "    Use the following pieces of context to answer the question at the end. \n",
    "    If you don't know the answer, just say that you don't know, don't try to make up an answer. \n",
    "    Use ten sentences maximum. Keep the answer as easy to understand for the average person and \n",
    "    as concise as possible. \n",
    "    Always reference the laws that pertain to the answer so your client can reference them later. \n",
    "    Reference these inline and at the end (i.e. Paragraph 9 refers to the amount of time you need to live in xyz)\n",
    "    \n",
    "    {context}\n",
    "    Question: {question}\n",
    "    Helpful Answer:\n",
    "    \"\"\"\n",
    "QA_CHAIN_PROMPT = PromptTemplate.from_template(template)\n"
   ]
  },
  {
   "cell_type": "code",
   "execution_count": 67,
   "metadata": {},
   "outputs": [],
   "source": [
    "qa_chain_mr = RetrievalQA.from_chain_type(\n",
    "    set_model('mistral'), \n",
    "    retriever = qdrant_r_texts.as_retriever(),\n",
    "    chain_type=\"stuff\", \n",
    "    chain_type_kwargs={\"prompt\": QA_CHAIN_PROMPT}\n",
    "\n",
    ")"
   ]
  },
  {
   "cell_type": "markdown",
   "metadata": {},
   "source": [
    "**Define Question**"
   ]
  },
  {
   "cell_type": "code",
   "execution_count": 68,
   "metadata": {},
   "outputs": [],
   "source": [
    "question = \"How can a resident of Germany obtain citizenship?\""
   ]
  },
  {
   "cell_type": "code",
   "execution_count": 69,
   "metadata": {},
   "outputs": [],
   "source": [
    "result = qa_chain_mr({\"query\": question})\n"
   ]
  },
  {
   "cell_type": "code",
   "execution_count": 70,
   "metadata": {},
   "outputs": [],
   "source": [
    "import time"
   ]
  },
  {
   "cell_type": "code",
   "execution_count": 71,
   "metadata": {},
   "outputs": [],
   "source": [
    "# define a function which takes as inputs the llm, embeddings, and outputs the result (printed)\n",
    "# ideally log as tags which llm and embeddings was used, allow me to categorize outputs as (good, not good, or comment in some ways)\n",
    "\n",
    "def test_llm(vectorstore, model, question):\n",
    "\n",
    "    start = time.time()\n",
    "\n",
    "    # set qa chain\n",
    "    qa_chain_mr = RetrievalQA.from_chain_type(\n",
    "        set_model(model), \n",
    "        retriever = vectorstore.as_retriever(),\n",
    "        chain_type=\"stuff\", \n",
    "        chain_type_kwargs={\"prompt\": QA_CHAIN_PROMPT}\n",
    "    )\n",
    "\n",
    "    # get the result\n",
    "    result = qa_chain_mr({\"query\": question})\n",
    "\n",
    "    # print the result\n",
    "    print(result[\"result\"])\n",
    "\n",
    "    end = time.time()\n",
    "    elapsed_time = end - start\n",
    "    print(\"The function took\", elapsed_time, \"seconds to run.\")\n"
   ]
  },
  {
   "cell_type": "code",
   "execution_count": 96,
   "metadata": {},
   "outputs": [
    {
     "name": "stdout",
     "output_type": "stream",
     "text": [
      "A Blue Card is a type of residence permit issued to highly skilled non-EU workers who wish to work and live in Germany for an extended period. It is typically issued for up to four years and can be renewed for another four years if the worker meets certain requirements, such as earning at least €45,000 per year or holding a PhD in a specialized field.\n",
      "\n",
      "To apply for a Blue Card, you must first find a job in Germany that sponsors the card and is willing to pay the required salary. Once you have a job offer, you can apply for the Blue Card through the German Federal Office for Migration and Refugees (BAMF). To be eligible, you must meet the following requirements:\n",
      "\n",
      "* Have a bachelor's degree or equivalent in a specialized field\n",
      "* Speak at least B2 level of German or another EU language\n",
      "* Earn at least €45,000 per year in your first year of employment (this can include salary and any additional income you receive from other sources)\n",
      "\n",
      "If you meet these requirements, BAMF will review your application and issue a Blue Card if approved. The card is valid for up to four years and allows you to work and live in Germany for that period. After the four years, you may be able to apply for permanent residency or citizenship, depending on your circumstances.\n",
      "The function took 38.13167405128479 seconds to run.\n"
     ]
    }
   ],
   "source": [
    "frage = \"What are the requirements for a Blue Card?\"\n",
    "test_llm(qdrant_r_texts, 'mistral', frage)"
   ]
  },
  {
   "cell_type": "code",
   "execution_count": 86,
   "metadata": {},
   "outputs": [
    {
     "name": "stdout",
     "output_type": "stream",
     "text": [
      "\n",
      "It appears that you are asking about how a resident of Germany can obtain citizenship. In general, the process for obtaining German citizenship involves meeting certain requirements and going through an application and examination process. Here are some basic steps:\n",
      "\n",
      "1. Eligibility: To be eligible for German citizenship, you must have lived in Germany for a certain period of time, usually 8-10 years, depending on your circumstances. You must also have a good conduct record and not have any criminal convictions.\n",
      "2. Application: Once you meet the eligibility requirements, you can submit an application for citizenship to the appropriate government agency in Germany. This typically involves providing personal information, including your identity, address, and employment status.\n",
      "3. Examination: After submitting your application, you will need to undergo an examination to determine your knowledge of German language, culture, and history. This exam is usually taken at a local government office or testing center.\n",
      "4. Interview: If your application is approved after the examination, you will be invited for an interview with a representative from the government agency. During this interview, they will ask you some questions about your life in Germany and your intentions for the future.\n",
      "5. Naturalization Ceremony: Once your application has been approved and you have completed all necessary steps, you can attend a naturalization ceremony to formally receive your German citizenship. This ceremony typically takes place at a local government office or community center.\n",
      "\n",
      "It's important to note that the specific requirements for obtaining German citizenship may vary depending on your individual circumstances, such as your age, reason for coming to Germany, and length of residence. It's recommended to consult with the appropriate government agency or an immigration attorney for more detailed information on the process.\n",
      "The function took 34.72753095626831 seconds to run.\n"
     ]
    }
   ],
   "source": [
    "frage = \"How can a resident of Germany obtain citizenship?\"\n",
    "test_llm(qdrant_r_texts, 'mistral', frage)"
   ]
  },
  {
   "cell_type": "code",
   "execution_count": 79,
   "metadata": {},
   "outputs": [
    {
     "name": "stdout",
     "output_type": "stream",
     "text": [
      " To obtain German citizenship, you will need to meet the eligibility requirements and go through the application process. Here are the general steps:\n",
      "\n",
      "1. Meet the eligibility requirements: You must be at least 18 years old, have been living in Germany for at least 3 years (or 2 years if you are married to a German citizen), and have a good knowledge of the German language and culture. Additionally, you must renounce any other citizenship you may hold.\n",
      "2. Determine your status: If you were born in Germany to non-German parents or acquired citizenship through birth in Germany, you may be eligible for German citizenship automatically. However, if you were born abroad or acquired citizenship through naturalization, you will need to apply for citizenship.\n",
      "3. Gather required documents: You will need to provide proof of your identity, as well as documents showing your residence and immigration status in Germany. You may also be required to provide certificates from your home country or previous countries of residence.\n",
      "4. Apply for citizenship: You can submit your application for citizenship at a German embassy or consulate in your home country or in Germany. The application must be submitted with all required documents and a fee.\n",
      "5. Wait for processing: Your application will be reviewed and processed by the authorities. This may take several months to a year, depending on the complexity of your case and the workload of the authorities.\n",
      "6. Take the citizenship test: If your application is successful, you will be invited to take a citizenship test. The test covers basic knowledge of German history, culture, and society, as well as the rights and obligations of German citizenship.\n",
      "7. Take the oath of allegiance: After passing the citizenship test, you will need to take an oath of allegiance to Germany in front of a notary or authorized official.\n",
      "8. Receive your certificate of naturalization: Once you have passed the test and taken the oath of allegiance, you will receive a certificate of naturalization confirming your status as a German citizen.\n",
      "\n",
      "Note that the process and requirements for obtaining German citizenship may vary depending on your individual circumstances. It is recommended to consult with the German authorities or an immigration lawyer to ensure you have the most up-to-date information and to avoid any potential complications with your application.\n",
      "The function took 45.39442205429077 seconds to run.\n"
     ]
    }
   ],
   "source": [
    "test_llm(qdrant_r_texts, 'llama2', frage)"
   ]
  },
  {
   "cell_type": "markdown",
   "metadata": {},
   "source": [
    "**Testing qdrant_texts**"
   ]
  },
  {
   "cell_type": "code",
   "execution_count": 80,
   "metadata": {},
   "outputs": [
    {
     "name": "stdout",
     "output_type": "stream",
     "text": [
      "\n",
      "In order to become a citizen of Germany, a person must meet certain requirements and follow specific procedures. These requirements include having lived in Germany for a certain period of time, having good conduct and not having been convicted of certain crimes, and having a basic knowledge of German language and culture. The specific procedures involve applying for citizenship through the local authorities where the applicant resides, providing all required documents, and taking an oath of allegiance. It's also important to note that there are different types of citizenship in Germany, such as naturalization and acquired citizenship, which have different requirements and procedures.\n",
      "The function took 14.861018180847168 seconds to run.\n"
     ]
    }
   ],
   "source": [
    "test_llm(qdrant_texts, 'mistral', frage)"
   ]
  },
  {
   "cell_type": "code",
   "execution_count": 81,
   "metadata": {},
   "outputs": [
    {
     "name": "stdout",
     "output_type": "stream",
     "text": [
      " To obtain German citizenship, a resident of Germany must meet certain eligibility requirements and go through a process that involves several steps. Here is an overview of the main requirements and procedures:\n",
      "\n",
      "Eligibility Requirements:\n",
      "\n",
      "1. Age: The applicant must be at least 18 years old (or 16 years old if they have been living in Germany for at least three years).\n",
      "2. Residence: The applicant must have lived in Germany for at least eight years (or six years if they have been married to a German citizen or have been living in Germany as a refugee or subsidiary protection beneficiary).\n",
      "3. Language Skills: The applicant must have a basic knowledge of the German language.\n",
      "4. Cultural Knowledge: The applicant must have a basic understanding of German culture and society.\n",
      "5. Good Character: The applicant must be of good character and not have any criminal convictions or outstanding warrants.\n",
      "\n",
      "Step 1: Register with the Residence Office (Aufenthaltstelle)\n",
      "The first step is to register with the residence office (Aufenthaltstelle) in the applicant's area of residence. The registration process typically involves providing personal information, such as name, date of birth, and address, as well as submitting proof of identity and residence documents.\n",
      "\n",
      "Step 2: Apply for a Permanent Residence Permit (Daueraufenthaltstitel)\n",
      "Once the applicant has registered with the residence office, they can apply for a permanent residence permit (Daueraufenthaltstitel). This permit allows the holder to live and work in Germany permanently. The application process involves submitting the required documents, such as proof of identity, residence, and language skills, as well as paying the relevant fees.\n",
      "\n",
      "Step 3: Take the German Citizenship Test (Deutsche Bürgerlichkeitstest)\n",
      "After obtaining a permanent residence permit, the applicant must take the German citizenship test (Deutsche Bürgerlichkeitstest). The test covers basic knowledge of German history, culture, and society, as well as legal and political matters. Passing the test is a requirement for naturalization.\n",
      "\n",
      "Step 4: Apply for German Citizenship (Aufnahme in die Deutsche Staatsangehörigkeit)\n",
      "Once the applicant has passed the citizenship test, they can apply for German citizenship through the local authorities (Standesamt). The application process involves submitting the required documents, such as proof of identity, residence, and language skills, as well as paying the relevant fees.\n",
      "\n",
      "Step 5: Take the Oath of Allegiance (Eidabgabe)\n",
      "After the application has been approved, the applicant must take an oath of allegiance to Germany in front of a notary public (Standesbeamte). This is a formal ceremony where the applicant pledges their loyalty and commitment to Germany.\n",
      "\n",
      "Step 6: Receive German Citizenship Certificate (Deutsche Staatsangehörigebescheinigung)\n",
      "After taking the oath of allegiance, the applicant will receive their German citizenship certificate (Deutsche Staatsangehörigebescheinigung). This certificate serves as proof of the applicant's new status as a German citizen.\n",
      "\n",
      "Conclusion:\n",
      "Obtaining German citizenship can be a complex process, but it is definitely possible for eligible residents of Germany. It is important to understand the requirements and procedures involved, as well as any deadlines or restrictions that may apply. With persistence and dedication, however, many residents of Germany are able to successfully obtain German citizenship and become full members of the German community.\n",
      "The function took 83.85379266738892 seconds to run.\n"
     ]
    }
   ],
   "source": [
    "test_llm(qdrant_texts, 'llama2', frage)"
   ]
  },
  {
   "cell_type": "markdown",
   "metadata": {},
   "source": [
    "### Findings:\n",
    "\n",
    "Recursive Text Splitter\n",
    " * mistral: 19.5s\n",
    " * llama2: 26.2s\n",
    "\n",
    " Text splitter\n",
    " * mistral: 26.5s\n",
    " * llama2: 79.7s\n",
    "\n",
    " Conclusion: mistral is faster, recursive character text splitter is faster. Why? No idea."
   ]
  },
  {
   "cell_type": "code",
   "execution_count": null,
   "metadata": {},
   "outputs": [],
   "source": []
  },
  {
   "cell_type": "markdown",
   "metadata": {},
   "source": [
    "### Set up memory"
   ]
  },
  {
   "cell_type": "code",
   "execution_count": 194,
   "metadata": {},
   "outputs": [],
   "source": [
    "from langchain.memory import ConversationBufferMemory\n",
    "memory = ConversationBufferMemory(\n",
    "    memory_key=\"chat_history\",\n",
    "    return_messages=True\n",
    ")"
   ]
  },
  {
   "cell_type": "markdown",
   "metadata": {},
   "source": [
    "**Conversational Retreival Chain**"
   ]
  },
  {
   "cell_type": "code",
   "execution_count": 195,
   "metadata": {},
   "outputs": [],
   "source": [
    "from langchain.chains import ConversationalRetrievalChain\n"
   ]
  },
  {
   "cell_type": "markdown",
   "metadata": {},
   "source": [
    "**Define a function to run the conversational retrieval chain (including memory)**"
   ]
  },
  {
   "cell_type": "code",
   "execution_count": 200,
   "metadata": {},
   "outputs": [],
   "source": [
    "def test_llm_inkl_memory(vectorstore, model, question):\n",
    "\n",
    "    retriever=vectorstore.as_retriever()\n",
    "    qa = ConversationalRetrievalChain.from_llm(\n",
    "        set_model(model),\n",
    "        retriever=retriever,\n",
    "        memory=memory\n",
    "    )\n",
    "    result = qa({\"question\": question}) \n",
    "    print(result['answer'])"
   ]
  },
  {
   "cell_type": "code",
   "execution_count": 203,
   "metadata": {},
   "outputs": [],
   "source": [
    "# Set the question\n",
    "question = \"Does the content contain information about what happens if you get a job and want to live in germany?\"\n"
   ]
  },
  {
   "cell_type": "code",
   "execution_count": 204,
   "metadata": {},
   "outputs": [
    {
     "name": "stdout",
     "output_type": "stream",
     "text": [
      "\n",
      "I don't have information on the specific requirements and processes for obtaining permanent residency in Germany, as there is no direct reference to such a topic in the given context. However, I can suggest that you look up more detailed information on the topic from official government websites or legal resources, such as the Bundesamt für Auswanderung und Flüchtlinge (Federal Office for Migration and Refugees) or the German Ministry of the Interior.\n"
     ]
    }
   ],
   "source": [
    "# Get the answer\n",
    "test_llm_inkl_memory(qdrant_r_texts, 'mistral', question)"
   ]
  },
  {
   "cell_type": "code",
   "execution_count": null,
   "metadata": {},
   "outputs": [],
   "source": []
  }
 ],
 "metadata": {
  "kernelspec": {
   "display_name": "Python 3",
   "language": "python",
   "name": "python3"
  },
  "language_info": {
   "codemirror_mode": {
    "name": "ipython",
    "version": 3
   },
   "file_extension": ".py",
   "mimetype": "text/x-python",
   "name": "python",
   "nbconvert_exporter": "python",
   "pygments_lexer": "ipython3",
   "version": "3.10.1"
  }
 },
 "nbformat": 4,
 "nbformat_minor": 2
}
