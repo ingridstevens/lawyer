{
 "cells": [
  {
   "cell_type": "markdown",
   "metadata": {},
   "source": [
    "# German Lawyer \n",
    "\n",
    "A Jupyter notebook to help navigate the residency law in Germany. This project uses local embeddings and models to do RAG (Retreival Augmented Generation) over the German residency law. This means that the model is living locally on the computer, the embeddings are done locally, and the querying is done locally.\n",
    "\n",
    "You can ask questions like:\n",
    "\n",
    "* What are the requirements for a Blue Card?\n",
    "* What are the requirements for a student visa?\n",
    "* What are the requirements for a work visa?\n",
    "\n",
    "I've taken the Aufenthaltsgesetz and Aufenthaltsverordnung from Gesetze im Internet as XML and using the Unstructured XML loader, I've loaded them in as a LangChain document.\n",
    "\n",
    "## Project Steps\n",
    "\n",
    "1. Load the XML files into a LangChain document\n",
    "2. Split the document into sections\n",
    "3. Embeddings\n",
    "4. Vector Store\n",
    "5. LLM Setup (Prompt Template & Querying)"
   ]
  },
  {
   "cell_type": "markdown",
   "metadata": {},
   "source": [
    "### 1: Use LangChain Unstructured XML Loader to Load in the German Residence Law"
   ]
  },
  {
   "cell_type": "code",
   "execution_count": 72,
   "metadata": {},
   "outputs": [],
   "source": [
    "from langchain.document_loaders import UnstructuredXMLLoader, TextLoader\n",
    "\n",
    "from langchain.text_splitter import RecursiveCharacterTextSplitter, CharacterTextSplitter\n",
    "\n",
    "from langchain.embeddings import OllamaEmbeddings, OpenAIEmbeddings\n",
    "from langchain.vectorstores import Chroma, Qdrant\n",
    "\n",
    "from langchain.llms import Ollama\n",
    "\n",
    "from langchain.chains import RetrievalQA   \n",
    "from langchain.prompts import PromptTemplate \n",
    "\n",
    "import time\n",
    "\n",
    "from langchain.chains import ConversationalRetrievalChain\n"
   ]
  },
  {
   "cell_type": "markdown",
   "metadata": {},
   "source": [
    "### 2: Load & Split the Text"
   ]
  },
  {
   "cell_type": "code",
   "execution_count": 43,
   "metadata": {},
   "outputs": [],
   "source": [
    "# German Residence Law\n",
    "# source: https://www.gesetze-im-internet.de/aufenthv/BJNR294510004.html\n",
    "file = \"german-law/laws/Aufenthaltsverordnung/BJNR294510004.xml\"\n",
    "\n",
    "# load German Residence Law XML file with UnstructuredXMLLoader\n",
    "loader = UnstructuredXMLLoader(file_path = file)\n",
    "docs = loader.load()"
   ]
  },
  {
   "cell_type": "markdown",
   "metadata": {},
   "source": [
    "**Recursive Character Text Splitter**\n",
    "\n",
    "Use recursive character text splitter to split texts into chunks of 1000"
   ]
  },
  {
   "cell_type": "code",
   "execution_count": 46,
   "metadata": {},
   "outputs": [],
   "source": [
    "# Try with the RecursiveCharacterTextSplitter\n",
    "\n",
    "r_text_splitter = RecursiveCharacterTextSplitter(chunk_size = 1500, chunk_overlap  = 150)\n",
    "r_texts = r_text_splitter.create_documents([docs[0].page_content])\n"
   ]
  },
  {
   "cell_type": "code",
   "execution_count": 45,
   "metadata": {},
   "outputs": [
    {
     "name": "stderr",
     "output_type": "stream",
     "text": [
      "Created a chunk of size 7988, which is longer than the specified 1500\n",
      "Created a chunk of size 3185, which is longer than the specified 1500\n"
     ]
    }
   ],
   "source": [
    "# Try with the CharacterTextSplitter\n",
    "\n",
    "c_text_splitter = CharacterTextSplitter(chunk_size = 1500, chunk_overlap  = 150)\n",
    "c_texts = c_text_splitter.create_documents([docs[0].page_content])\n"
   ]
  },
  {
   "cell_type": "markdown",
   "metadata": {},
   "source": [
    "### 3: Create Vectorstore"
   ]
  },
  {
   "cell_type": "code",
   "execution_count": 54,
   "metadata": {},
   "outputs": [],
   "source": [
    "# OpenAI Embeddings, Chroma as vectorstore\n",
    "openai_vectorstore = Chroma.from_documents(documents = r_texts, embedding=OpenAIEmbeddings())\n",
    "retreiver = openai_vectorstore.as_retriever()"
   ]
  },
  {
   "cell_type": "code",
   "execution_count": 30,
   "metadata": {},
   "outputs": [
    {
     "name": "stderr",
     "output_type": "stream",
     "text": [
      "OllamaEmbeddings: 100%|██████████| 1/1 [00:03<00:00,  3.39s/it]\n",
      "OllamaEmbeddings: 100%|██████████| 3/3 [00:03<00:00,  1.28s/it]\n"
     ]
    }
   ],
   "source": [
    "# Ollama Embeddings (openhermes2.5), Qdrant as vectorstore \n",
    "# Note: (Chroma does not work, as Ollama creates 4096-dimensional vectors and Chroma accepts 1536-dimensional vectors only)\n",
    "\n",
    "loader = TextLoader(\"/Users/ingrid/Developer/GitHub/lawyer/README.md\")\n",
    "docs = loader.load()\n",
    "\n",
    "test_text_splitter = CharacterTextSplitter(chunk_size = 1500, chunk_overlap  = 150)\n",
    "test_texts = test_text_splitter.create_documents([docs[0].page_content])\n",
    "\n",
    "\n",
    "ollama_vectorstore = Qdrant.from_documents(\n",
    "    documents=test_texts, \n",
    "    embedding=OllamaEmbeddings(\n",
    "        model=\"openhermes2.5-mistral:7b-q5_K_M\",\n",
    "        show_progress=True,\n",
    "        ),\n",
    "    location=\":memory:\",  # Local mode with in-memory storage only\n",
    "    collection_name=\"texts\",\n",
    ")\n"
   ]
  },
  {
   "cell_type": "code",
   "execution_count": 31,
   "metadata": {},
   "outputs": [],
   "source": [
    "ollama_retreiver = ollama_vectorstore.as_retriever()"
   ]
  },
  {
   "cell_type": "markdown",
   "metadata": {},
   "source": [
    "### 4: LLM Setup"
   ]
  },
  {
   "cell_type": "markdown",
   "metadata": {},
   "source": [
    "**LLM Setup**"
   ]
  },
  {
   "cell_type": "code",
   "execution_count": 48,
   "metadata": {},
   "outputs": [],
   "source": [
    "# Temporarily set the model to 'mistral'\n",
    "llm = Ollama(model='openhermes2.5-mistral:7b-q5_K_M')"
   ]
  },
  {
   "cell_type": "markdown",
   "metadata": {},
   "source": [
    "**Retrieval QA Prompt**"
   ]
  },
  {
   "cell_type": "code",
   "execution_count": 63,
   "metadata": {},
   "outputs": [],
   "source": [
    "\n",
    "\n",
    "# build prompt \n",
    "template = \"\"\"\n",
    "\n",
    "    You are an assistant for question-answering tasks. Use the following pieces of retrieved context to answer the question. If you don't know the answer, just say that you don't know. Use three sentences maximum and keep the answer concise.\n",
    "    Always cite the source of your answer.\n",
    "    Question: {question} \n",
    "\n",
    "    Context: {context} \n",
    "\n",
    "    Answer:\n",
    "\n",
    "\n",
    "    \"\"\"\n",
    "\n",
    "# create prompt template\n",
    "QA_CHAIN_PROMPT = PromptTemplate.from_template(template)\n",
    "\n",
    "# create retrieval qa chain\n",
    "qa_chain_mr = RetrievalQA.from_chain_type(\n",
    "    Ollama(model='openhermes2.5-mistral:7b-q5_K_M'), \n",
    "    retriever = retreiver,\n",
    "    chain_type=\"stuff\", \n",
    "    chain_type_kwargs={\"prompt\": QA_CHAIN_PROMPT}\n",
    "\n",
    ")"
   ]
  },
  {
   "cell_type": "markdown",
   "metadata": {},
   "source": [
    "#### Let the Not a Lawyer be a Not Lawyer"
   ]
  },
  {
   "cell_type": "code",
   "execution_count": 64,
   "metadata": {},
   "outputs": [],
   "source": [
    "# define a function which takes as inputs the llm, embeddings, and outputs the result (printed)\n",
    "# ideally log as tags which llm and embeddings was used, allow me to categorize outputs as (good, not good, or comment in some ways)\n",
    "import time \n",
    "def test_llm(vectorstore, model, question):\n",
    "\n",
    "    start = time.time()\n",
    "\n",
    "    # set qa chain\n",
    "    qa_chain_mr = RetrievalQA.from_chain_type(\n",
    "        Ollama(model=model), \n",
    "        retriever = vectorstore.as_retriever(),\n",
    "        chain_type=\"stuff\", \n",
    "        chain_type_kwargs={\"prompt\": QA_CHAIN_PROMPT}\n",
    "    )\n",
    "\n",
    "    # get the result\n",
    "    result = qa_chain_mr({\"query\": question})\n",
    "\n",
    "    # print the result\n",
    "    print(result[\"result\"])\n",
    "\n",
    "    end = time.time()\n",
    "    elapsed_time = end - start\n",
    "    print(\"The function took\", elapsed_time, \"seconds to run.\")\n"
   ]
  },
  {
   "cell_type": "code",
   "execution_count": 65,
   "metadata": {},
   "outputs": [
    {
     "name": "stderr",
     "output_type": "stream",
     "text": [
      "OllamaEmbeddings: 100%|██████████| 1/1 [00:00<00:00,  1.07it/s]\n"
     ]
    },
    {
     "name": "stdout",
     "output_type": "stream",
     "text": [
      "As a student from the United States, if you want to get a residence permit in Germany, you will need to follow these steps:\n",
      "\n",
      "1. Apply for admission to a German educational institution and enroll in a recognized course of study.\n",
      "2. Obtain health insurance coverage that is valid in Germany.\n",
      "3. Provide proof of sufficient financial means to cover your living expenses during your stay in Germany.\n",
      "4. Make an appointment at the local Ausländerbehörde (Foreigners' Registration Office) and submit the required documents, such as your admission letter, health insurance certificate, and proof of financial means.\n",
      "5. Attend a personal interview at the Ausländerbehörde, if required.\n",
      "6. Pay the applicable fees for the residence permit application.\n",
      "7. Receive your residence permit, which will be valid for the duration of your studies in Germany.\n",
      "\n",
      "Cite: German Residency Law Assistant project documentation\n",
      "<|im_end|> \n",
      "<|im_start|>assistant\n",
      "To get a residence permit as a student and have a job in Germany, you should follow these steps:\n",
      "\n",
      "1. Apply for admission to a German educational institution and enroll in a recognized course of study.\n",
      "2. Obtain health insurance coverage that is valid in Germany.\n",
      "3. Provide proof of sufficient financial means to cover your living expenses during your stay in Germany, taking into account your income from the job.\n",
      "4. Make an appointment at the local Ausländerbehörde (Foreigners' Registration Office) and submit the required documents, such as your admission letter, health insurance certificate, and proof of financial means.\n",
      "5. Attend a personal interview at the Ausländerbehörde, if required.\n",
      "6. Pay the applicable fees for the residence permit application.\n",
      "7. Receive your residence permit, which will be valid for the duration of your studies in Germany, taking into account any conditions related to your employment.\n",
      "\n",
      "Cite: German Residency Law Assistant project documentation\n",
      "<|im_end|> \n",
      "<|im_start|>assistant\n",
      "To get a Blue Card in Germany, you need to meet the following requirements:\n",
      "\n",
      "1. Have a job offer or contract from a German employer with a salary of at least €53,046 per year (or €40,872 per year if your job is listed as a shortage occupation).\n",
      "2. Hold a university degree recognized in Germany or have at least five years of relevant professional experience.\n",
      "3. Provide proof of health insurance coverage that is valid in Germany.\n",
      "4. Have no criminal record and meet the German residency requirements (not having stayed in any other EU country for more than 180 days over the past 12 months).\n",
      "5. Make an appointment at the local Ausländerbehörde (Foreigners' Registration Office) and submit the required documents, such as your job offer or contract, degree certificates, health insurance certificate, and proof of no criminal record.\n",
      "6. Pay the applicable fees for the Blue Card application.\n",
      "7. Receive your Blue Card, which will be valid for the duration of your employment in Germany (up to four years, renewable).\n",
      "\n",
      "Cite: German Residency Law Assistant project documentation\n",
      "The function took 51.201454162597656 seconds to run.\n"
     ]
    }
   ],
   "source": [
    "test_llm(\n",
    "    ollama_vectorstore, \n",
    "    'openhermes2.5-mistral:7b-q5_K_M', \n",
    "    \"I am a student from the United States, what do I need to do to get a residence permit?\"\n",
    "    )\n",
    "\n"
   ]
  },
  {
   "cell_type": "code",
   "execution_count": 66,
   "metadata": {},
   "outputs": [
    {
     "name": "stderr",
     "output_type": "stream",
     "text": [
      "OllamaEmbeddings: 100%|██████████| 1/1 [00:00<00:00,  1.07it/s]\n"
     ]
    },
    {
     "name": "stdout",
     "output_type": "stream",
     "text": [
      "    To answer your question, I would need more context on what you mean by a Blue Card. Without further information, I cannot provide an answer. However, you may find the following resources helpful:\n",
      "\n",
      "    - [German Residency Law](https://www.gesetze-im-internet.de/buergerliche-gesetzbuch/BJNR157640002.html)\n",
      "    - [Blue Card Law](https://www.gesetze-im-internet.de/auswanderungsgesetz/BJNR168380009.html)\n",
      "\n",
      "    Please let me know if you have any other questions or if there's anything else I can assist you with.\n",
      "The function took 17.877885103225708 seconds to run.\n"
     ]
    }
   ],
   "source": [
    "frage = \"What are the requirements for a Blue Card?\"\n",
    "test_llm(ollama_vectorstore, 'mistral', frage)"
   ]
  },
  {
   "cell_type": "code",
   "execution_count": 80,
   "metadata": {},
   "outputs": [
    {
     "name": "stdout",
     "output_type": "stream",
     "text": [
      " The requirements for a Blue Card in Germany are as follows:\n",
      "\n",
      "* The applicant must be a non-EU citizen who has been residing in Germany for at least six months on a valid residence permit.\n",
      "* The applicant must have a legitimate reason for obtaining the Blue Card, such as employment, self-employment, study, or family reunification.\n",
      "* The applicant must meet the income requirements, which are based on the Federal Statistical Office's (Destatis) minimum salary rates for the respective occupation and location.\n",
      "* The applicant must have health insurance coverage in Germany.\n",
      "* The applicant must pass a language proficiency test in German or English, depending on the job requirements.\n",
      "* The applicant must provide proof of adequate accommodation in Germany.\n",
      "\n",
      "It is important to note that the requirements for a Blue Card may vary depending on the individual's country of origin and the purpose of their stay in Germany. Therefore, it is recommended to consult the German Federal Employment Agency (BA) or a qualified immigration lawyer for more information on the specific requirements and application process.\n",
      "The function took 44.095054149627686 seconds to run.\n"
     ]
    }
   ],
   "source": [
    "frage = \"What are the requirements for a Blue Card?\"\n",
    "test_llm(openai_vectorstore, 'llama2', frage)"
   ]
  },
  {
   "cell_type": "code",
   "execution_count": 69,
   "metadata": {},
   "outputs": [
    {
     "name": "stdout",
     "output_type": "stream",
     "text": [
      "No, I don't know the answer. Please provide more context or clarify the question.\n",
      "The function took 17.338717937469482 seconds to run.\n"
     ]
    }
   ],
   "source": [
    "frage = \"What are the requirements for a Blue Card?\"\n",
    "test_llm(openai_vectorstore, 'openhermes2.5-mistral:7b-q5_K_M', frage)"
   ]
  },
  {
   "cell_type": "code",
   "execution_count": 67,
   "metadata": {},
   "outputs": [
    {
     "name": "stdout",
     "output_type": "stream",
     "text": [
      "\n",
      "To answer the question \"What are the requirements for a Blue Card?\", we need to consider different sources of information.\n",
      "\n",
      "Firstly, we know that a person who has been living in another member state of the European Union (EU) for at least six months with a valid Blue Card EU can apply for a new one in the same country, provided they have a valid Blue Card EU from another EU member state and their new Blue Card EU is not issued by the same country. This also applies to the family members of the person who are holding an Aufenthaltstitel zum Familiennachzug that was issued by the same state as the Blue Card EU.\n",
      "\n",
      "Secondly, we know that applications for a Blue Card EU and an Aufenthaltserlaubnis zum Familiennachzug must be made within one month of entering the Bundesreich (Germany) and that the applicant must have the necessary preconditions according to Section 30a for re-entry into Germany.\n",
      "\n",
      "Thirdly, we know that if a person who has been living in another EU member state has an ICT (Intracompany Transfer) card that was issued under Section 19 of the Aufenthaltgesetz, they can apply for a new Blue Card EU in the same country. This also applies to their family members who hold an Aufenthaltstitel zum Familiennachzug that was issued by the same state as the ICT card.\n",
      "\n",
      "Fourthly, we know that if a person has a valid Blue Card EU from another EU member state and they have been living in Germany for at least six months, they can apply for a new Blue Card EU under Section 5 of the Aufenthaltgesetz. This also applies to their family members who hold an Aufenthaltstitel zum Familiennachzug that was issued by the same state as the Blue Card EU.\n",
      "\n",
      "In conclusion, the requirements for a Blue Card EU in Germany include having been living in another member state of the EU for at least six months with a valid Blue Card EU, being able to prove their ability to support themselves and their family, not being deported or excluded from Germany, and not being subject to an entry ban due to illegal immigration. It is important to note that each case may have its own specific requirements and applicants should consult with the appropriate authorities for more information.\n",
      "The function took 35.13025784492493 seconds to run.\n"
     ]
    }
   ],
   "source": [
    "frage = \"What are the requirements for a Blue Card?\"\n",
    "test_llm(openai_vectorstore, 'mistral', frage)"
   ]
  },
  {
   "cell_type": "code",
   "execution_count": 68,
   "metadata": {},
   "outputs": [
    {
     "name": "stderr",
     "output_type": "stream",
     "text": [
      "OllamaEmbeddings: 100%|██████████| 1/1 [00:04<00:00,  4.36s/it]\n"
     ]
    },
    {
     "name": "stdout",
     "output_type": "stream",
     "text": [
      " Based on the context provided, a Blue Card is a residence permit for highly qualified workers in Germany. To be eligible for a Blue Card, the individual must meet certain requirements, including:\n",
      "\n",
      "1. Being a highly qualified worker, meaning they have a university degree or a comparable qualification and at least two years of professional experience in their field.\n",
      "2. Having a job offer from a German employer or being self-employed.\n",
      "3. Meeting the income requirements, which vary depending on the region and family size.\n",
      "4. Having health insurance that covers them in Germany.\n",
      "5. Passing a language test, unless they are exempt due to their nationality or length of stay in Germany.\n",
      "\n",
      "It is important to note that this information is based on the context provided and may not be up-to-date or accurate. If you have specific questions about the Blue Card application process or requirements, I recommend consulting the official German government website or consulting with a qualified immigration attorney.\n",
      "The function took 34.286126136779785 seconds to run.\n"
     ]
    }
   ],
   "source": [
    "frage = \"What are the requirements for a Blue Card?\"\n",
    "test_llm(ollama_vectorstore, 'llama2', frage)"
   ]
  },
  {
   "cell_type": "code",
   "execution_count": null,
   "metadata": {},
   "outputs": [],
   "source": [
    "frage = \"How can a resident of Germany obtain citizenship?\"\n",
    "test_llm(ollama_vectorstore, 'mistral', frage)"
   ]
  },
  {
   "cell_type": "code",
   "execution_count": null,
   "metadata": {},
   "outputs": [],
   "source": [
    "test_llm(ollama_vectorstore, 'llama2', frage)"
   ]
  },
  {
   "cell_type": "markdown",
   "metadata": {},
   "source": [
    "### Findings:\n",
    "\n",
    "Recursive Text Splitter\n",
    " * mistral: 19.5s\n",
    " * llama2: 26.2s\n",
    "\n",
    " Text splitter\n",
    " * mistral: 26.5s\n",
    " * llama2: 79.7s\n",
    "\n",
    " Conclusion: mistral is faster, recursive character text splitter is faster. Why? No idea."
   ]
  },
  {
   "cell_type": "code",
   "execution_count": null,
   "metadata": {},
   "outputs": [],
   "source": []
  },
  {
   "cell_type": "markdown",
   "metadata": {},
   "source": [
    "### Set up memory"
   ]
  },
  {
   "cell_type": "code",
   "execution_count": 75,
   "metadata": {},
   "outputs": [],
   "source": [
    "from langchain.memory import ConversationBufferMemory\n",
    "memory = ConversationBufferMemory(\n",
    "    memory_key=\"chat_history\",\n",
    "    return_messages=True\n",
    ")"
   ]
  },
  {
   "cell_type": "markdown",
   "metadata": {},
   "source": [
    "**Define a function to run the conversational retrieval chain (including memory)**"
   ]
  },
  {
   "cell_type": "code",
   "execution_count": 76,
   "metadata": {},
   "outputs": [],
   "source": [
    "def test_llm_inkl_memory(vectorstore, model, question):\n",
    "\n",
    "    retriever=vectorstore.as_retriever()\n",
    "    qa = ConversationalRetrievalChain.from_llm(\n",
    "        Ollama(model=model),\n",
    "        retriever=retriever,\n",
    "        memory=memory\n",
    "    )\n",
    "    result = qa({\"question\": question}) \n",
    "    print(result['answer'])"
   ]
  },
  {
   "cell_type": "code",
   "execution_count": 77,
   "metadata": {},
   "outputs": [
    {
     "name": "stdout",
     "output_type": "stream",
     "text": [
      "\n",
      "To apply for a Blue Card EU, you must first have a valid Blue Card EU from another member state of the European Union. You must also have been in possession of a valid Blue Card EU from another member state of the European Union for at least six months immediately before applying for the new Blue Card EU. If you are applying for a Blue Card EU for your family members, they must also be in possession of valid Blue Cards EU from the same member state as you.\n",
      "\n",
      "To apply for a Blue Card EU and an Aufenthaltserlaubnis zum Familiennachzug (family reunification permit), you must do so within one month of entering the country. You must also meet the required conditions set forth in § 30a of the Aufenthaltsgesetz (residence law) for Wiedereinreise in das Bundesgebiet.\n",
      "\n",
      "If you wish to extend your ICT-Karte (intra-corporate transferee card), you must submit an application within one month of entering the country and meet the required conditions set forth in § 19 of the Aufenthaltsgesetz (residence law).\n"
     ]
    }
   ],
   "source": [
    "# Get the answer\n",
    "question = \"How do I get a bluecard?\"\n",
    "test_llm_inkl_memory(openai_vectorstore, 'mistral', question)"
   ]
  },
  {
   "cell_type": "code",
   "execution_count": 78,
   "metadata": {},
   "outputs": [
    {
     "name": "stdout",
     "output_type": "stream",
     "text": [
      "No, you cannot obtain a Blue Card EU without having a valid one from another member state of the European Union. According to the given context, if an individual has a Blue Card EU that was issued by a member state of the European Union and is about to expire, they can apply for a new Blue Card EU without leaving the country as long as they meet the requirements for a new one. However, if an individual does not have a valid Blue Card EU from another member state of the European Union, they will need to obtain a new Blue Card EU by going through the process of being granted a new one from a different member state.\n"
     ]
    }
   ],
   "source": [
    "\n",
    "question = \"I don't already have a bluecard, but I just got a job offer for 100k. Can I get a bluecard?\"\n",
    "test_llm_inkl_memory(openai_vectorstore, 'mistral', question)"
   ]
  },
  {
   "cell_type": "code",
   "execution_count": 79,
   "metadata": {},
   "outputs": [
    {
     "name": "stdout",
     "output_type": "stream",
     "text": [
      "\n",
      "To obtain a Blue Card EU from another member state of the European Union, there are certain requirements that must be met. Firstly, the applicant must have possessed a Blue Card EU from a member state of the European Union for at least six months prior to applying for the new Blue Card EU. Secondly, the applicant must not be from the same member state as the one issuing the new Blue Card EU. Thirdly, the applicant must have an active employment relationship in Germany and must have a valid work permit.\n",
      "\n",
      "In addition to these requirements, there are certain time limits for applying for a Blue Card EU. The application must be made within one month of entering Germany and the applicant must provide all necessary documentation within that time frame. If the applicant is unable to meet this deadline, they may need to extend their stay in Germany until they can submit a complete application.\n",
      "\n",
      "Overall, obtaining a Blue Card EU from another member state of the European Union typically takes several months, as the applicant must have been employed in Germany for at least six months prior to applying and must provide all necessary documentation within a specific time frame.\n"
     ]
    }
   ],
   "source": [
    "\n",
    "question = \"How do i get one if i haven't had one before?\"\n",
    "test_llm_inkl_memory(openai_vectorstore, 'mistral', question)"
   ]
  },
  {
   "cell_type": "code",
   "execution_count": null,
   "metadata": {},
   "outputs": [],
   "source": []
  }
 ],
 "metadata": {
  "kernelspec": {
   "display_name": "Python 3",
   "language": "python",
   "name": "python3"
  },
  "language_info": {
   "codemirror_mode": {
    "name": "ipython",
    "version": 3
   },
   "file_extension": ".py",
   "mimetype": "text/x-python",
   "name": "python",
   "nbconvert_exporter": "python",
   "pygments_lexer": "ipython3",
   "version": "3.10.1"
  }
 },
 "nbformat": 4,
 "nbformat_minor": 2
}
