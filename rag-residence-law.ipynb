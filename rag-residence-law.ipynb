{
 "cells": [
  {
   "cell_type": "markdown",
   "metadata": {},
   "source": [
    "# German Lawyer \n",
    "\n",
    "A Jupyter notebook to help navigate the residency law in Germany. This project uses local embeddings and models to do RAG (Retreival Augmented Generation) over the German residency law. This means that the model is living locally on the computer, the embeddings are done locally, and the querying is done locally.\n",
    "\n",
    "You can ask questions like:\n",
    "\n",
    "* What are the requirements for a Blue Card?\n",
    "* What are the requirements for a student visa?\n",
    "* What are the requirements for a work visa?\n",
    "\n",
    "I've taken the Aufenthaltsgesetz and Aufenthaltsverordnung from Gesetze im Internet as XML and using the Unstructured XML loader, I've loaded them in as a LangChain document.\n",
    "\n",
    "## Project Steps\n",
    "\n",
    "1. Load the XML files into a LangChain document\n",
    "2. Split the document into sections\n",
    "3. Embeddings\n",
    "4. Vector Store\n",
    "5. LLM Setup (Prompt Template & Querying)"
   ]
  },
  {
   "cell_type": "markdown",
   "metadata": {},
   "source": [
    "### 1: Use LangChain Unstructured XML Loader to Load in the German Residence Law"
   ]
  },
  {
   "cell_type": "code",
   "execution_count": 72,
   "metadata": {},
   "outputs": [],
   "source": [
    "from langchain.document_loaders import UnstructuredXMLLoader, TextLoader\n",
    "\n",
    "from langchain.text_splitter import RecursiveCharacterTextSplitter, CharacterTextSplitter\n",
    "\n",
    "from langchain.embeddings import OllamaEmbeddings, OpenAIEmbeddings\n",
    "from langchain.vectorstores import Chroma, Qdrant\n",
    "\n",
    "from langchain.llms import Ollama\n",
    "\n",
    "from langchain.chains import RetrievalQA   \n",
    "from langchain.prompts import PromptTemplate \n",
    "\n",
    "import time\n",
    "\n",
    "from langchain.chains import ConversationalRetrievalChain\n"
   ]
  },
  {
   "cell_type": "markdown",
   "metadata": {},
   "source": [
    "### 2: Load & Split the Text"
   ]
  },
  {
   "cell_type": "code",
   "execution_count": 96,
   "metadata": {},
   "outputs": [],
   "source": [
    "# German Residence Law\n",
    "# source: https://www.gesetze-im-internet.de/aufenthv/BJNR294510004.html\n",
    "file = \"german-law/laws/Aufenthaltsverordnung/BJNR294510004.xml\"\n",
    "\n",
    "# load German Residence Law XML file with UnstructuredXMLLoader\n",
    "loader = UnstructuredXMLLoader(file_path = file)\n",
    "docs = loader.load()"
   ]
  },
  {
   "cell_type": "markdown",
   "metadata": {},
   "source": [
    "**Recursive Character Text Splitter**\n",
    "\n",
    "Use recursive character text splitter to split texts into chunks of 1000"
   ]
  },
  {
   "cell_type": "code",
   "execution_count": 46,
   "metadata": {},
   "outputs": [],
   "source": [
    "# Try with the RecursiveCharacterTextSplitter\n",
    "\n",
    "r_text_splitter = RecursiveCharacterTextSplitter(chunk_size = 1500, chunk_overlap  = 150)\n",
    "r_texts = r_text_splitter.create_documents([docs[0].page_content])\n"
   ]
  },
  {
   "cell_type": "code",
   "execution_count": 45,
   "metadata": {},
   "outputs": [
    {
     "name": "stderr",
     "output_type": "stream",
     "text": [
      "Created a chunk of size 7988, which is longer than the specified 1500\n",
      "Created a chunk of size 3185, which is longer than the specified 1500\n"
     ]
    }
   ],
   "source": [
    "# Try with the CharacterTextSplitter\n",
    "\n",
    "c_text_splitter = CharacterTextSplitter(chunk_size = 1500, chunk_overlap  = 150)\n",
    "c_texts = c_text_splitter.create_documents([docs[0].page_content])\n"
   ]
  },
  {
   "cell_type": "markdown",
   "metadata": {},
   "source": [
    "### 3: Create Vectorstore"
   ]
  },
  {
   "cell_type": "code",
   "execution_count": 54,
   "metadata": {},
   "outputs": [],
   "source": [
    "# OpenAI Embeddings, Chroma as vectorstore\n",
    "openai_vectorstore = Chroma.from_documents(documents = r_texts, embedding=OpenAIEmbeddings())\n",
    "retreiver = openai_vectorstore.as_retriever()"
   ]
  },
  {
   "cell_type": "code",
   "execution_count": 97,
   "metadata": {},
   "outputs": [
    {
     "name": "stderr",
     "output_type": "stream",
     "text": [
      "Created a chunk of size 7988, which is longer than the specified 1500\n",
      "Created a chunk of size 3185, which is longer than the specified 1500\n",
      "OllamaEmbeddings: 100%|██████████| 1/1 [00:03<00:00,  3.19s/it]\n",
      "OllamaEmbeddings: 100%|██████████| 64/64 [03:03<00:00,  2.86s/it]\n",
      "OllamaEmbeddings: 100%|██████████| 63/63 [02:54<00:00,  2.77s/it]\n"
     ]
    }
   ],
   "source": [
    "# Ollama Embeddings (openhermes2.5), Qdrant as vectorstore \n",
    "# Note: (Chroma does not work, as Ollama creates 4096-dimensional vectors and Chroma accepts 1536-dimensional vectors only)\n",
    "\n",
    "# loader = TextLoader(\"/Users/ingrid/Developer/GitHub/lawyer/README.md\")\n",
    "# docs = loader.load()\n",
    "\n",
    "test_text_splitter = CharacterTextSplitter(chunk_size = 1500, chunk_overlap  = 150)\n",
    "test_texts = test_text_splitter.create_documents([docs[0].page_content])\n",
    "\n",
    "\n",
    "ollama_vectorstore = Qdrant.from_documents(\n",
    "    documents=test_texts, \n",
    "    embedding=OllamaEmbeddings(\n",
    "        model=\"openhermes2.5-mistral:7b-q5_K_M\",\n",
    "        show_progress=True,\n",
    "        ),\n",
    "    location=\":memory:\",  # Local mode with in-memory storage only\n",
    "    collection_name=\"texts\",\n",
    ")\n"
   ]
  },
  {
   "cell_type": "code",
   "execution_count": 31,
   "metadata": {},
   "outputs": [],
   "source": [
    "ollama_retreiver = ollama_vectorstore.as_retriever()"
   ]
  },
  {
   "cell_type": "markdown",
   "metadata": {},
   "source": [
    "### 4: LLM Setup"
   ]
  },
  {
   "cell_type": "markdown",
   "metadata": {},
   "source": [
    "**LLM Setup**"
   ]
  },
  {
   "cell_type": "code",
   "execution_count": 48,
   "metadata": {},
   "outputs": [],
   "source": [
    "# Temporarily set the model to 'mistral'\n",
    "llm = Ollama(model='openhermes2.5-mistral:7b-q5_K_M')"
   ]
  },
  {
   "cell_type": "markdown",
   "metadata": {},
   "source": [
    "**Retrieval QA Prompt**"
   ]
  },
  {
   "cell_type": "code",
   "execution_count": 63,
   "metadata": {},
   "outputs": [],
   "source": [
    "\n",
    "\n"
   ]
  },
  {
   "cell_type": "markdown",
   "metadata": {},
   "source": [
    "#### Let the Not a Lawyer be a Not Lawyer"
   ]
  },
  {
   "cell_type": "code",
   "execution_count": 92,
   "metadata": {},
   "outputs": [],
   "source": [
    "# define a function which takes as inputs the llm, embeddings, and outputs the result (printed)\n",
    "# ideally log as tags which llm and embeddings was used, allow me to categorize outputs as (good, not good, or comment in some ways)\n",
    "import time \n",
    "def test_llm(vectorstore, model, question):\n",
    "\n",
    "    start = time.time()\n",
    "\n",
    "    # build prompt \n",
    "    template = \"\"\"\n",
    "        You are a professional, courteous, helpful AI legal assistant for question-answering tasks about residency law for people living in, or considering moving to Germany. \n",
    "        Use the following pieces of retrieved context from the German Law (delimited in $$$ $$$)to answer the question. Always cite the source of your answer.\n",
    "        If you don't know the answer, just say that you don't know. Do not make anything up!\n",
    "        Always cite the source of your answer! And, don't forget to empathize with the user - they are probably stressed out and need help!\n",
    "        Question: {question} \n",
    "\n",
    "        Context: $$$ {context} $$$\n",
    "\n",
    "        Answer:\n",
    "\n",
    "        \"\"\"\n",
    "\n",
    "    # create prompt template\n",
    "    QA_CHAIN_PROMPT = PromptTemplate.from_template(template)\n",
    "\n",
    "    # set qa chain\n",
    "    qa_chain_mr = RetrievalQA.from_chain_type(\n",
    "        Ollama(model=model), \n",
    "        retriever = vectorstore.as_retriever(),\n",
    "        chain_type=\"stuff\", \n",
    "        chain_type_kwargs={\"prompt\": QA_CHAIN_PROMPT}\n",
    "    )\n",
    "\n",
    "    # get the result\n",
    "    result = qa_chain_mr({\"query\": question})\n",
    "\n",
    "    # print the result\n",
    "    print(result[\"result\"])\n",
    "\n",
    "    end = time.time()\n",
    "    elapsed_time = end - start\n",
    "    print(\"The function took\", elapsed_time, \"seconds to run.\")\n"
   ]
  },
  {
   "cell_type": "code",
   "execution_count": 93,
   "metadata": {},
   "outputs": [
    {
     "name": "stdout",
     "output_type": "stream",
     "text": [
      "\n",
      "To move to Germany from the United States, you will need a residence permit (Aufenthaltstitel). There are different types of residence permits depending on your situation. If you have a family member who is a German citizen and lives in Germany, you can apply for a family reunification residence permit (Familienzusammenführung Aufenthaltstitel).\n",
      "\n",
      "You will also need a valid visa to enter Germany, such as a visitor's visa (Schengen Visa), which allows you to stay for up to 90 days. After that, you can apply for a residence permit from within Germany. You may also be eligible for a national visa if you have a job offer or plan to study in Germany.\n",
      "\n",
      "The process of obtaining a residence permit and visa can be complex, so it's recommended to consult with an immigration attorney or the German embassy for more specific information and guidance tailored to your situation.\n",
      "The function took 29.580472946166992 seconds to run.\n"
     ]
    }
   ],
   "source": [
    "frage = \"How can I move to germany? I'm from the United states.\"\n",
    "test_llm(openai_vectorstore, 'openhermes2.5-mistral:7b-q5_K_M', frage)\n",
    "\n"
   ]
  },
  {
   "cell_type": "code",
   "execution_count": 98,
   "metadata": {},
   "outputs": [
    {
     "name": "stderr",
     "output_type": "stream",
     "text": [
      "OllamaEmbeddings: 100%|██████████| 1/1 [00:00<00:00,  4.54it/s]\n"
     ]
    },
    {
     "name": "stdout",
     "output_type": "stream",
     "text": [
      "\n",
      "        The German Foreigners Residence Act regulates the residence of foreigners in Germany and provides for the issuance of various types of residence permits. The Act divides into several sections, each of which sets out specific rules and requirements for a particular type of residence permit. \n",
      "\n",
      "        Section 1 deals with the general provisions of the Act, including the definitions of key terms such as \"foreigner\" and \"residence permit.\" \n",
      "\n",
      "        Section 2 outlines the different types of residence permits that may be issued, including temporary and permanent residence permits for various purposes such as study, work, and family reunification. \n",
      "\n",
      "        Section 3 sets out the requirements for each type of residence permit, including the duration of validity, the purpose of the visit, and any other conditions or restrictions that must be met. \n",
      "\n",
      "        Section 4 deals with the issuance of residence permits for specific groups of foreigners, such as students and researchers. \n",
      "\n",
      "        Section 5 outlines the process for applying for a residence permit, including the required documentation and the fees that must be paid. \n",
      "\n",
      "        Section 6 provides for the rights and obligations of both the foreigner and the host state during the period of residence in Germany. \n",
      "\n",
      "        Section 7 deals with the revocation or expiration of a residence permit and the procedures for renewal. \n",
      "\n",
      "        Section 8 contains provisions on appeals and judicial review of decisions related to residence permits. \n",
      "\n",
      "        Finally, Section 9 sets out transitional provisions and the entry into force of the Act.\n",
      "The function took 23.592861890792847 seconds to run.\n"
     ]
    }
   ],
   "source": [
    "frage = \"I just got a job in Germany paying me 80,000 euros annually. What are my options for a residence permit?\"\n",
    "test_llm(ollama_vectorstore, 'mistral', frage)"
   ]
  },
  {
   "cell_type": "code",
   "execution_count": 80,
   "metadata": {},
   "outputs": [
    {
     "name": "stdout",
     "output_type": "stream",
     "text": [
      " The requirements for a Blue Card in Germany are as follows:\n",
      "\n",
      "* The applicant must be a non-EU citizen who has been residing in Germany for at least six months on a valid residence permit.\n",
      "* The applicant must have a legitimate reason for obtaining the Blue Card, such as employment, self-employment, study, or family reunification.\n",
      "* The applicant must meet the income requirements, which are based on the Federal Statistical Office's (Destatis) minimum salary rates for the respective occupation and location.\n",
      "* The applicant must have health insurance coverage in Germany.\n",
      "* The applicant must pass a language proficiency test in German or English, depending on the job requirements.\n",
      "* The applicant must provide proof of adequate accommodation in Germany.\n",
      "\n",
      "It is important to note that the requirements for a Blue Card may vary depending on the individual's country of origin and the purpose of their stay in Germany. Therefore, it is recommended to consult the German Federal Employment Agency (BA) or a qualified immigration lawyer for more information on the specific requirements and application process.\n",
      "The function took 44.095054149627686 seconds to run.\n"
     ]
    }
   ],
   "source": [
    "frage = \"What are the requirements for a Blue Card?\"\n",
    "test_llm(openai_vectorstore, 'llama2', frage)"
   ]
  },
  {
   "cell_type": "code",
   "execution_count": 69,
   "metadata": {},
   "outputs": [
    {
     "name": "stdout",
     "output_type": "stream",
     "text": [
      "No, I don't know the answer. Please provide more context or clarify the question.\n",
      "The function took 17.338717937469482 seconds to run.\n"
     ]
    }
   ],
   "source": [
    "frage = \"What are the requirements for a Blue Card?\"\n",
    "test_llm(openai_vectorstore, 'openhermes2.5-mistral:7b-q5_K_M', frage)"
   ]
  },
  {
   "cell_type": "code",
   "execution_count": 82,
   "metadata": {},
   "outputs": [
    {
     "name": "stdout",
     "output_type": "stream",
     "text": [
      "\n",
      "To answer the question \"What are the requirements for a Blue Card?\", we need to find the specific information that outlines the necessary conditions for receiving a Blue Card in Germany. According to the provided context, there are several scenarios where a person may be eligible for a Blue Card. Here are the relevant pieces of information:\n",
      "\n",
      "1. The person must have been in possession of a valid Blue Card from another EU member state for at least six months before applying for a new one.\n",
      "2. If the person already had a Blue Card from an EU member state prior to their current application, it must have been issued by a different member state than the one they are currently applying to.\n",
      "3. The person's family members who are in possession of an Aufenthaltstitel zum Familiennachzug and are being hosted by the same state as their Blue Card must also meet these requirements.\n",
      "4. The application for a new Blue Card or Aufenthaltserlaubnis zum Familiennachzug must be submitted within one month of entering the German territory.\n",
      "5. If the person is applying to extend an existing ICT card, they must have been in possession of a valid Blue Card from another EU member state at the time of their original application.\n",
      "6. If the person's Blue Card was issued by a non-EU country, but they are now seeking a new one that allows them to reside in Germany, there are additional requirements that must be met. These include providing proof that they have been living and working in an EU member state for a certain period, and having a valid job offer or contract from a German employer.\n",
      "7. If the person is applying to extend their Blue Card, they must have lived and worked in Germany for at least two years, unless they are applying under special circumstances.\n",
      "\n",
      "It's important to note that these requirements may vary depending on the specific situation and individual circumstances of the applicant. It is recommended to consult with a legal professional or the relevant government agency for more information and guidance.\n",
      "The function took 32.39954710006714 seconds to run.\n"
     ]
    }
   ],
   "source": [
    "frage = \"What are the requirements for a Blue Card?\"\n",
    "test_llm(openai_vectorstore, 'mistral', frage)"
   ]
  },
  {
   "cell_type": "code",
   "execution_count": 99,
   "metadata": {},
   "outputs": [
    {
     "name": "stderr",
     "output_type": "stream",
     "text": [
      "OllamaEmbeddings: 100%|██████████| 1/1 [00:05<00:00,  5.14s/it]\n"
     ]
    },
    {
     "name": "stdout",
     "output_type": "stream",
     "text": [
      "        \n",
      "        Translation:\n",
      "        \n",
      "       According to the Federal Residence Act (AufenthG), foreigners who have obtained a residence permit for a longer than 90-day stay in Germany or wish to enter into an employment relationship with the federal government, must provide proof of their right of residence. For this purpose, the following information is required:\n",
      "       4.a) The mark of the residence visa, b) The date of issuance, c) The category of the residence permit, d) Its validity period, e) The number of days allowed for stay, f) The area of application of the residence permit and the number of authorized entries into that area, and g) Any conditions, restrictions, and other requirements associated with it.\n",
      "      \n",
      "        4.a) Date of decision, b) Reasons for decision.\n",
      "       \n",
      "       Additionally, foreigners who have obtained a German pass replacement (AufenthV § 3), who have been granted permission by agreement between states to use non-German official documents as a substitute, or who have not obtained sufficient identification information, security features, or language requirements in their official documents, may also be considered.\n",
      "       \n",
      "       The following types of pass replacement are accepted:\n",
      "       1) Travel pass for refugees (AufenthV § 1 Abs. 3), 2) Travel pass for stateless persons (AufenthV § 1 Abs. 4), 3) Passes for officials and staff of European Community organizations, 4) Passes for members of the European Parliament, 5) Official personal identification documents of member states of the European Union and other contracting parties to the European Economic Area agreement and Switzerland for their nationals, 6) Schülersammellisten (AufenthV § 1 Abs. 5), 7) Flight crew passes used for a stay under section 23, and 8) Inland waterway passes used for a stay under section 25.\n",
      "The function took 27.402405977249146 seconds to run.\n"
     ]
    }
   ],
   "source": [
    "frage = \"What are the requirements for a Blue Card?\"\n",
    "test_llm(ollama_vectorstore, 'mistral', frage)"
   ]
  },
  {
   "cell_type": "code",
   "execution_count": 100,
   "metadata": {},
   "outputs": [
    {
     "name": "stderr",
     "output_type": "stream",
     "text": [
      "OllamaEmbeddings: 100%|██████████| 1/1 [00:01<00:00,  1.52s/it]\n"
     ]
    },
    {
     "name": "stdout",
     "output_type": "stream",
     "text": [
      " Thank you for reaching out to me! I'm happy to help you with your question about the requirements for a Blue Card.\n",
      "\n",
      "To answer your question, according to Section 4 of the German Residence Act (Aufenthaltsgesetz - AufenthV), a Blue Card is required for non-EU citizens who wish to reside in Germany for more than 90 days. The requirements for a Blue Card are as follows:\n",
      "\n",
      "1. The applicant must be a non-EU citizen.\n",
      "2. The applicant must have a valid travel document (passport or identity card).\n",
      "3. The applicant must have a negative result from a drug test.\n",
      "4. The applicant must have health insurance that covers them in Germany.\n",
      "5. The applicant must have enough funds to support themselves during their stay in Germany.\n",
      "6. The applicant must meet the requirements for admission to the Federal Republic of Germany, as laid down in Section 16b of the German Residence Act.\n",
      "7. The applicant must meet the requirements for a residence title, as laid down in Section 19 of the German Residence Act.\n",
      "8. The applicant must have a valid visa (if required).\n",
      "\n",
      "In addition to these requirements, there are also certain documents that the applicant must provide as part of their application, such as:\n",
      "\n",
      "1. A valid passport or identity card.\n",
      "2. A completed application form (Antragsklärung) for a Blue Card.\n",
      "3. Proof of financial resources (e.g., bank statements, proof of income).\n",
      "4. Proof of health insurance that covers the applicant in Germany.\n",
      "5. Proof of accommodation in Germany (e.g., rental agreement, letter from landlord).\n",
      "6. Documents proving the applicant's purpose of stay in Germany (e.g., employment contract, proof of enrollment in a school or university).\n",
      "7. Any other documents required by the German authorities.\n",
      "\n",
      "It is important to note that the requirements for a Blue Card can vary depending on the individual circumstances of the applicant and the specific rules applicable to their case. Therefore, it is recommended to consult with the relevant authorities or a qualified immigration lawyer to ensure that all requirements are met.\n",
      "The function took 75.80201506614685 seconds to run.\n"
     ]
    }
   ],
   "source": [
    "frage = \"What are the requirements for a Blue Card?\"\n",
    "test_llm(ollama_vectorstore, 'llama2', frage)"
   ]
  },
  {
   "cell_type": "code",
   "execution_count": 101,
   "metadata": {},
   "outputs": [
    {
     "name": "stderr",
     "output_type": "stream",
     "text": [
      "OllamaEmbeddings: 100%|██████████| 1/1 [00:02<00:00,  2.37s/it]\n"
     ]
    },
    {
     "name": "stdout",
     "output_type": "stream",
     "text": [
      "\n",
      "To apply for a Blue Card in Germany, the requirements are as follows:\n",
      "\n",
      "1. You must have a valid passport or other acceptable travel document.\n",
      "2. You should have a job offer from a German employer and have a recognized higher education degree or at least 5 years of work experience in your profession.\n",
      "3. You need to submit an application for a residency permit (EU Blue Card) at the local foreigners' registration office (Ausländerbehörde).\n",
      "4. You must provide evidence of sufficient health insurance coverage in Germany.\n",
      "5. You have to prove that you have adequate financial resources or income to support yourself and any dependents during your stay in Germany.\n",
      "6. You need to submit biometric data, such as fingerprints, and a photograph.\n",
      "7. Dependents (spouse and children) must also meet specific criteria to be eligible for a Blue Card family member visa. \n",
      "8. Finally, you have to pay the application fee.\n",
      "\n",
      "Please refer to the German Law context provided above for more detailed information on the requirements for a Blue Card. Always consult with relevant authorities or seek legal advice for accurate and up-to-date information.\n",
      "The function took 32.05730104446411 seconds to run.\n"
     ]
    }
   ],
   "source": [
    "frage = \"What are the requirements for a Blue Card?\"\n",
    "test_llm(ollama_vectorstore, 'openhermes2.5-mistral:7b-q5_K_M', frage)"
   ]
  },
  {
   "cell_type": "code",
   "execution_count": null,
   "metadata": {},
   "outputs": [],
   "source": [
    "frage = \"How can a resident of Germany obtain citizenship?\"\n",
    "test_llm(ollama_vectorstore, 'mistral', frage)"
   ]
  },
  {
   "cell_type": "code",
   "execution_count": null,
   "metadata": {},
   "outputs": [],
   "source": [
    "test_llm(ollama_vectorstore, 'llama2', frage)"
   ]
  },
  {
   "cell_type": "markdown",
   "metadata": {},
   "source": [
    "### Findings:\n",
    "\n",
    "Recursive Text Splitter\n",
    " * mistral: 19.5s\n",
    " * llama2: 26.2s\n",
    "\n",
    " Text splitter\n",
    " * mistral: 26.5s\n",
    " * llama2: 79.7s\n",
    "\n",
    " Conclusion: mistral is faster, recursive character text splitter is faster. Why? No idea."
   ]
  },
  {
   "cell_type": "code",
   "execution_count": null,
   "metadata": {},
   "outputs": [],
   "source": []
  },
  {
   "cell_type": "markdown",
   "metadata": {},
   "source": [
    "### Set up memory"
   ]
  },
  {
   "cell_type": "code",
   "execution_count": 75,
   "metadata": {},
   "outputs": [],
   "source": [
    "from langchain.memory import ConversationBufferMemory\n",
    "memory = ConversationBufferMemory(\n",
    "    memory_key=\"chat_history\",\n",
    "    return_messages=True\n",
    ")"
   ]
  },
  {
   "cell_type": "markdown",
   "metadata": {},
   "source": [
    "**Define a function to run the conversational retrieval chain (including memory)**"
   ]
  },
  {
   "cell_type": "code",
   "execution_count": 76,
   "metadata": {},
   "outputs": [],
   "source": [
    "def test_llm_inkl_memory(vectorstore, model, question):\n",
    "\n",
    "    retriever=vectorstore.as_retriever()\n",
    "    qa = ConversationalRetrievalChain.from_llm(\n",
    "        Ollama(model=model),\n",
    "        retriever=retriever,\n",
    "        memory=memory\n",
    "    )\n",
    "    result = qa({\"question\": question}) \n",
    "    print(result['answer'])"
   ]
  },
  {
   "cell_type": "code",
   "execution_count": 77,
   "metadata": {},
   "outputs": [
    {
     "name": "stdout",
     "output_type": "stream",
     "text": [
      "\n",
      "To apply for a Blue Card EU, you must first have a valid Blue Card EU from another member state of the European Union. You must also have been in possession of a valid Blue Card EU from another member state of the European Union for at least six months immediately before applying for the new Blue Card EU. If you are applying for a Blue Card EU for your family members, they must also be in possession of valid Blue Cards EU from the same member state as you.\n",
      "\n",
      "To apply for a Blue Card EU and an Aufenthaltserlaubnis zum Familiennachzug (family reunification permit), you must do so within one month of entering the country. You must also meet the required conditions set forth in § 30a of the Aufenthaltsgesetz (residence law) for Wiedereinreise in das Bundesgebiet.\n",
      "\n",
      "If you wish to extend your ICT-Karte (intra-corporate transferee card), you must submit an application within one month of entering the country and meet the required conditions set forth in § 19 of the Aufenthaltsgesetz (residence law).\n"
     ]
    }
   ],
   "source": [
    "# Get the answer\n",
    "question = \"How do I get a bluecard?\"\n",
    "test_llm_inkl_memory(openai_vectorstore, 'mistral', question)"
   ]
  },
  {
   "cell_type": "code",
   "execution_count": 78,
   "metadata": {},
   "outputs": [
    {
     "name": "stdout",
     "output_type": "stream",
     "text": [
      "No, you cannot obtain a Blue Card EU without having a valid one from another member state of the European Union. According to the given context, if an individual has a Blue Card EU that was issued by a member state of the European Union and is about to expire, they can apply for a new Blue Card EU without leaving the country as long as they meet the requirements for a new one. However, if an individual does not have a valid Blue Card EU from another member state of the European Union, they will need to obtain a new Blue Card EU by going through the process of being granted a new one from a different member state.\n"
     ]
    }
   ],
   "source": [
    "\n",
    "question = \"I don't already have a bluecard, but I just got a job offer for 100k. Can I get a bluecard?\"\n",
    "test_llm_inkl_memory(openai_vectorstore, 'mistral', question)"
   ]
  },
  {
   "cell_type": "code",
   "execution_count": 79,
   "metadata": {},
   "outputs": [
    {
     "name": "stdout",
     "output_type": "stream",
     "text": [
      "\n",
      "To obtain a Blue Card EU from another member state of the European Union, there are certain requirements that must be met. Firstly, the applicant must have possessed a Blue Card EU from a member state of the European Union for at least six months prior to applying for the new Blue Card EU. Secondly, the applicant must not be from the same member state as the one issuing the new Blue Card EU. Thirdly, the applicant must have an active employment relationship in Germany and must have a valid work permit.\n",
      "\n",
      "In addition to these requirements, there are certain time limits for applying for a Blue Card EU. The application must be made within one month of entering Germany and the applicant must provide all necessary documentation within that time frame. If the applicant is unable to meet this deadline, they may need to extend their stay in Germany until they can submit a complete application.\n",
      "\n",
      "Overall, obtaining a Blue Card EU from another member state of the European Union typically takes several months, as the applicant must have been employed in Germany for at least six months prior to applying and must provide all necessary documentation within a specific time frame.\n"
     ]
    }
   ],
   "source": [
    "\n",
    "question = \"How do i get one if i haven't had one before?\"\n",
    "test_llm_inkl_memory(openai_vectorstore, 'mistral', question)"
   ]
  },
  {
   "cell_type": "code",
   "execution_count": null,
   "metadata": {},
   "outputs": [],
   "source": []
  }
 ],
 "metadata": {
  "kernelspec": {
   "display_name": "Python 3",
   "language": "python",
   "name": "python3"
  },
  "language_info": {
   "codemirror_mode": {
    "name": "ipython",
    "version": 3
   },
   "file_extension": ".py",
   "mimetype": "text/x-python",
   "name": "python",
   "nbconvert_exporter": "python",
   "pygments_lexer": "ipython3",
   "version": "3.10.1"
  }
 },
 "nbformat": 4,
 "nbformat_minor": 2
}
