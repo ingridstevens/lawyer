{
 "cells": [
  {
   "cell_type": "markdown",
   "metadata": {},
   "source": [
    "# Not a Lawyer | Remote\n",
    "\n",
    "Using: \n",
    "* Pinecone (https://www.pinecone.io/) as vectorstore\n",
    "* OpenAI Embeddings\n",
    "* OpenAI API as LLM"
   ]
  },
  {
   "cell_type": "markdown",
   "metadata": {},
   "source": [
    "Before you start, you will need to set the following environmental variables on your computer:\n",
    "\n",
    "**Pinecone**\n",
    "* PINECONE_API_KEY\n",
    "* PINECONE_ENVIRONMENT\n",
    "* PINECONE_INDEX\n",
    "\n",
    "**OpenAI**\n",
    "* OPENAI_API_KEY"
   ]
  },
  {
   "cell_type": "markdown",
   "metadata": {},
   "source": [
    "----"
   ]
  },
  {
   "cell_type": "markdown",
   "metadata": {},
   "source": [
    "### Step 1: Import Libraries"
   ]
  },
  {
   "cell_type": "code",
   "execution_count": 28,
   "metadata": {},
   "outputs": [
    {
     "name": "stdout",
     "output_type": "stream",
     "text": [
      "Requirement already satisfied: pinecone-client in /Users/ingrid/anaconda3/envs/rag-lawyer/lib/python3.10/site-packages (from -r requirements.txt (line 1)) (3.0.1)\n",
      "Requirement already satisfied: langchain in /Users/ingrid/anaconda3/envs/rag-lawyer/lib/python3.10/site-packages (from -r requirements.txt (line 2)) (0.1.1)\n",
      "Requirement already satisfied: openai in /Users/ingrid/anaconda3/envs/rag-lawyer/lib/python3.10/site-packages (from -r requirements.txt (line 3)) (1.8.0)\n",
      "Requirement already satisfied: langchain_openai in /Users/ingrid/anaconda3/envs/rag-lawyer/lib/python3.10/site-packages (from -r requirements.txt (line 4)) (0.0.3)\n",
      "Requirement already satisfied: gradio in /Users/ingrid/anaconda3/envs/rag-lawyer/lib/python3.10/site-packages (from -r requirements.txt (line 5)) (4.15.0)\n",
      "Collecting lxml (from -r requirements.txt (line 6))\n",
      "  Downloading lxml-5.1.0-cp310-cp310-macosx_11_0_arm64.whl.metadata (3.5 kB)\n",
      "Requirement already satisfied: certifi>=2019.11.17 in /Users/ingrid/anaconda3/envs/rag-lawyer/lib/python3.10/site-packages (from pinecone-client->-r requirements.txt (line 1)) (2023.11.17)\n",
      "Requirement already satisfied: tqdm>=4.64.1 in /Users/ingrid/anaconda3/envs/rag-lawyer/lib/python3.10/site-packages (from pinecone-client->-r requirements.txt (line 1)) (4.66.1)\n",
      "Requirement already satisfied: typing-extensions>=3.7.4 in /Users/ingrid/anaconda3/envs/rag-lawyer/lib/python3.10/site-packages (from pinecone-client->-r requirements.txt (line 1)) (4.9.0)\n",
      "Requirement already satisfied: urllib3>=1.26.0 in /Users/ingrid/anaconda3/envs/rag-lawyer/lib/python3.10/site-packages (from pinecone-client->-r requirements.txt (line 1)) (2.1.0)\n",
      "Requirement already satisfied: PyYAML>=5.3 in /Users/ingrid/anaconda3/envs/rag-lawyer/lib/python3.10/site-packages (from langchain->-r requirements.txt (line 2)) (6.0.1)\n",
      "Requirement already satisfied: SQLAlchemy<3,>=1.4 in /Users/ingrid/anaconda3/envs/rag-lawyer/lib/python3.10/site-packages (from langchain->-r requirements.txt (line 2)) (2.0.25)\n",
      "Requirement already satisfied: aiohttp<4.0.0,>=3.8.3 in /Users/ingrid/anaconda3/envs/rag-lawyer/lib/python3.10/site-packages (from langchain->-r requirements.txt (line 2)) (3.9.1)\n",
      "Requirement already satisfied: async-timeout<5.0.0,>=4.0.0 in /Users/ingrid/anaconda3/envs/rag-lawyer/lib/python3.10/site-packages (from langchain->-r requirements.txt (line 2)) (4.0.3)\n",
      "Requirement already satisfied: dataclasses-json<0.7,>=0.5.7 in /Users/ingrid/anaconda3/envs/rag-lawyer/lib/python3.10/site-packages (from langchain->-r requirements.txt (line 2)) (0.6.3)\n",
      "Requirement already satisfied: jsonpatch<2.0,>=1.33 in /Users/ingrid/anaconda3/envs/rag-lawyer/lib/python3.10/site-packages (from langchain->-r requirements.txt (line 2)) (1.33)\n",
      "Requirement already satisfied: langchain-community<0.1,>=0.0.13 in /Users/ingrid/anaconda3/envs/rag-lawyer/lib/python3.10/site-packages (from langchain->-r requirements.txt (line 2)) (0.0.13)\n",
      "Requirement already satisfied: langchain-core<0.2,>=0.1.9 in /Users/ingrid/anaconda3/envs/rag-lawyer/lib/python3.10/site-packages (from langchain->-r requirements.txt (line 2)) (0.1.13)\n",
      "Requirement already satisfied: langsmith<0.1.0,>=0.0.77 in /Users/ingrid/anaconda3/envs/rag-lawyer/lib/python3.10/site-packages (from langchain->-r requirements.txt (line 2)) (0.0.83)\n",
      "Requirement already satisfied: numpy<2,>=1 in /Users/ingrid/anaconda3/envs/rag-lawyer/lib/python3.10/site-packages (from langchain->-r requirements.txt (line 2)) (1.26.3)\n",
      "Requirement already satisfied: pydantic<3,>=1 in /Users/ingrid/anaconda3/envs/rag-lawyer/lib/python3.10/site-packages (from langchain->-r requirements.txt (line 2)) (2.5.3)\n",
      "Requirement already satisfied: requests<3,>=2 in /Users/ingrid/anaconda3/envs/rag-lawyer/lib/python3.10/site-packages (from langchain->-r requirements.txt (line 2)) (2.31.0)\n",
      "Requirement already satisfied: tenacity<9.0.0,>=8.1.0 in /Users/ingrid/anaconda3/envs/rag-lawyer/lib/python3.10/site-packages (from langchain->-r requirements.txt (line 2)) (8.2.3)\n",
      "Requirement already satisfied: anyio<5,>=3.5.0 in /Users/ingrid/anaconda3/envs/rag-lawyer/lib/python3.10/site-packages (from openai->-r requirements.txt (line 3)) (4.2.0)\n",
      "Requirement already satisfied: distro<2,>=1.7.0 in /Users/ingrid/anaconda3/envs/rag-lawyer/lib/python3.10/site-packages (from openai->-r requirements.txt (line 3)) (1.9.0)\n",
      "Requirement already satisfied: httpx<1,>=0.23.0 in /Users/ingrid/anaconda3/envs/rag-lawyer/lib/python3.10/site-packages (from openai->-r requirements.txt (line 3)) (0.26.0)\n",
      "Requirement already satisfied: sniffio in /Users/ingrid/anaconda3/envs/rag-lawyer/lib/python3.10/site-packages (from openai->-r requirements.txt (line 3)) (1.3.0)\n",
      "Requirement already satisfied: tiktoken<0.6.0,>=0.5.2 in /Users/ingrid/anaconda3/envs/rag-lawyer/lib/python3.10/site-packages (from langchain_openai->-r requirements.txt (line 4)) (0.5.2)\n",
      "Requirement already satisfied: aiofiles<24.0,>=22.0 in /Users/ingrid/anaconda3/envs/rag-lawyer/lib/python3.10/site-packages (from gradio->-r requirements.txt (line 5)) (23.2.1)\n",
      "Requirement already satisfied: altair<6.0,>=4.2.0 in /Users/ingrid/anaconda3/envs/rag-lawyer/lib/python3.10/site-packages (from gradio->-r requirements.txt (line 5)) (5.2.0)\n",
      "Requirement already satisfied: fastapi in /Users/ingrid/anaconda3/envs/rag-lawyer/lib/python3.10/site-packages (from gradio->-r requirements.txt (line 5)) (0.109.0)\n",
      "Requirement already satisfied: ffmpy in /Users/ingrid/anaconda3/envs/rag-lawyer/lib/python3.10/site-packages (from gradio->-r requirements.txt (line 5)) (0.3.1)\n",
      "Requirement already satisfied: gradio-client==0.8.1 in /Users/ingrid/anaconda3/envs/rag-lawyer/lib/python3.10/site-packages (from gradio->-r requirements.txt (line 5)) (0.8.1)\n",
      "Requirement already satisfied: huggingface-hub>=0.19.3 in /Users/ingrid/anaconda3/envs/rag-lawyer/lib/python3.10/site-packages (from gradio->-r requirements.txt (line 5)) (0.20.2)\n",
      "Requirement already satisfied: importlib-resources<7.0,>=1.3 in /Users/ingrid/anaconda3/envs/rag-lawyer/lib/python3.10/site-packages (from gradio->-r requirements.txt (line 5)) (6.1.1)\n",
      "Requirement already satisfied: jinja2<4.0 in /Users/ingrid/anaconda3/envs/rag-lawyer/lib/python3.10/site-packages (from gradio->-r requirements.txt (line 5)) (3.1.3)\n",
      "Requirement already satisfied: markupsafe~=2.0 in /Users/ingrid/anaconda3/envs/rag-lawyer/lib/python3.10/site-packages (from gradio->-r requirements.txt (line 5)) (2.1.4)\n",
      "Requirement already satisfied: matplotlib~=3.0 in /Users/ingrid/anaconda3/envs/rag-lawyer/lib/python3.10/site-packages (from gradio->-r requirements.txt (line 5)) (3.8.2)\n",
      "Requirement already satisfied: orjson~=3.0 in /Users/ingrid/anaconda3/envs/rag-lawyer/lib/python3.10/site-packages (from gradio->-r requirements.txt (line 5)) (3.9.12)\n",
      "Requirement already satisfied: packaging in /Users/ingrid/anaconda3/envs/rag-lawyer/lib/python3.10/site-packages (from gradio->-r requirements.txt (line 5)) (23.2)\n",
      "Requirement already satisfied: pandas<3.0,>=1.0 in /Users/ingrid/anaconda3/envs/rag-lawyer/lib/python3.10/site-packages (from gradio->-r requirements.txt (line 5)) (2.2.0)\n",
      "Requirement already satisfied: pillow<11.0,>=8.0 in /Users/ingrid/anaconda3/envs/rag-lawyer/lib/python3.10/site-packages (from gradio->-r requirements.txt (line 5)) (10.2.0)\n",
      "Requirement already satisfied: pydub in /Users/ingrid/anaconda3/envs/rag-lawyer/lib/python3.10/site-packages (from gradio->-r requirements.txt (line 5)) (0.25.1)\n",
      "Requirement already satisfied: python-multipart in /Users/ingrid/anaconda3/envs/rag-lawyer/lib/python3.10/site-packages (from gradio->-r requirements.txt (line 5)) (0.0.6)\n",
      "Requirement already satisfied: ruff>=0.1.7 in /Users/ingrid/anaconda3/envs/rag-lawyer/lib/python3.10/site-packages (from gradio->-r requirements.txt (line 5)) (0.1.14)\n",
      "Requirement already satisfied: semantic-version~=2.0 in /Users/ingrid/anaconda3/envs/rag-lawyer/lib/python3.10/site-packages (from gradio->-r requirements.txt (line 5)) (2.10.0)\n",
      "Requirement already satisfied: tomlkit==0.12.0 in /Users/ingrid/anaconda3/envs/rag-lawyer/lib/python3.10/site-packages (from gradio->-r requirements.txt (line 5)) (0.12.0)\n",
      "Requirement already satisfied: typer<1.0,>=0.9 in /Users/ingrid/anaconda3/envs/rag-lawyer/lib/python3.10/site-packages (from typer[all]<1.0,>=0.9->gradio->-r requirements.txt (line 5)) (0.9.0)\n",
      "Requirement already satisfied: uvicorn>=0.14.0 in /Users/ingrid/anaconda3/envs/rag-lawyer/lib/python3.10/site-packages (from gradio->-r requirements.txt (line 5)) (0.26.0)\n",
      "Requirement already satisfied: fsspec in /Users/ingrid/anaconda3/envs/rag-lawyer/lib/python3.10/site-packages (from gradio-client==0.8.1->gradio->-r requirements.txt (line 5)) (2023.12.2)\n",
      "Requirement already satisfied: websockets<12.0,>=10.0 in /Users/ingrid/anaconda3/envs/rag-lawyer/lib/python3.10/site-packages (from gradio-client==0.8.1->gradio->-r requirements.txt (line 5)) (11.0.3)\n",
      "Requirement already satisfied: attrs>=17.3.0 in /Users/ingrid/anaconda3/envs/rag-lawyer/lib/python3.10/site-packages (from aiohttp<4.0.0,>=3.8.3->langchain->-r requirements.txt (line 2)) (23.2.0)\n",
      "Requirement already satisfied: multidict<7.0,>=4.5 in /Users/ingrid/anaconda3/envs/rag-lawyer/lib/python3.10/site-packages (from aiohttp<4.0.0,>=3.8.3->langchain->-r requirements.txt (line 2)) (6.0.4)\n",
      "Requirement already satisfied: yarl<2.0,>=1.0 in /Users/ingrid/anaconda3/envs/rag-lawyer/lib/python3.10/site-packages (from aiohttp<4.0.0,>=3.8.3->langchain->-r requirements.txt (line 2)) (1.9.4)\n",
      "Requirement already satisfied: frozenlist>=1.1.1 in /Users/ingrid/anaconda3/envs/rag-lawyer/lib/python3.10/site-packages (from aiohttp<4.0.0,>=3.8.3->langchain->-r requirements.txt (line 2)) (1.4.1)\n",
      "Requirement already satisfied: aiosignal>=1.1.2 in /Users/ingrid/anaconda3/envs/rag-lawyer/lib/python3.10/site-packages (from aiohttp<4.0.0,>=3.8.3->langchain->-r requirements.txt (line 2)) (1.3.1)\n",
      "Requirement already satisfied: jsonschema>=3.0 in /Users/ingrid/anaconda3/envs/rag-lawyer/lib/python3.10/site-packages (from altair<6.0,>=4.2.0->gradio->-r requirements.txt (line 5)) (4.21.1)\n",
      "Requirement already satisfied: toolz in /Users/ingrid/anaconda3/envs/rag-lawyer/lib/python3.10/site-packages (from altair<6.0,>=4.2.0->gradio->-r requirements.txt (line 5)) (0.12.0)\n",
      "Requirement already satisfied: idna>=2.8 in /Users/ingrid/anaconda3/envs/rag-lawyer/lib/python3.10/site-packages (from anyio<5,>=3.5.0->openai->-r requirements.txt (line 3)) (3.6)\n",
      "Requirement already satisfied: exceptiongroup>=1.0.2 in /Users/ingrid/anaconda3/envs/rag-lawyer/lib/python3.10/site-packages (from anyio<5,>=3.5.0->openai->-r requirements.txt (line 3)) (1.2.0)\n",
      "Requirement already satisfied: marshmallow<4.0.0,>=3.18.0 in /Users/ingrid/anaconda3/envs/rag-lawyer/lib/python3.10/site-packages (from dataclasses-json<0.7,>=0.5.7->langchain->-r requirements.txt (line 2)) (3.20.2)\n",
      "Requirement already satisfied: typing-inspect<1,>=0.4.0 in /Users/ingrid/anaconda3/envs/rag-lawyer/lib/python3.10/site-packages (from dataclasses-json<0.7,>=0.5.7->langchain->-r requirements.txt (line 2)) (0.9.0)\n",
      "Requirement already satisfied: httpcore==1.* in /Users/ingrid/anaconda3/envs/rag-lawyer/lib/python3.10/site-packages (from httpx<1,>=0.23.0->openai->-r requirements.txt (line 3)) (1.0.2)\n",
      "Requirement already satisfied: h11<0.15,>=0.13 in /Users/ingrid/anaconda3/envs/rag-lawyer/lib/python3.10/site-packages (from httpcore==1.*->httpx<1,>=0.23.0->openai->-r requirements.txt (line 3)) (0.14.0)\n",
      "Requirement already satisfied: filelock in /Users/ingrid/anaconda3/envs/rag-lawyer/lib/python3.10/site-packages (from huggingface-hub>=0.19.3->gradio->-r requirements.txt (line 5)) (3.13.1)\n",
      "Requirement already satisfied: jsonpointer>=1.9 in /Users/ingrid/anaconda3/envs/rag-lawyer/lib/python3.10/site-packages (from jsonpatch<2.0,>=1.33->langchain->-r requirements.txt (line 2)) (2.4)\n",
      "Requirement already satisfied: contourpy>=1.0.1 in /Users/ingrid/anaconda3/envs/rag-lawyer/lib/python3.10/site-packages (from matplotlib~=3.0->gradio->-r requirements.txt (line 5)) (1.2.0)\n",
      "Requirement already satisfied: cycler>=0.10 in /Users/ingrid/anaconda3/envs/rag-lawyer/lib/python3.10/site-packages (from matplotlib~=3.0->gradio->-r requirements.txt (line 5)) (0.12.1)\n",
      "Requirement already satisfied: fonttools>=4.22.0 in /Users/ingrid/anaconda3/envs/rag-lawyer/lib/python3.10/site-packages (from matplotlib~=3.0->gradio->-r requirements.txt (line 5)) (4.47.2)\n",
      "Requirement already satisfied: kiwisolver>=1.3.1 in /Users/ingrid/anaconda3/envs/rag-lawyer/lib/python3.10/site-packages (from matplotlib~=3.0->gradio->-r requirements.txt (line 5)) (1.4.5)\n",
      "Requirement already satisfied: pyparsing>=2.3.1 in /Users/ingrid/anaconda3/envs/rag-lawyer/lib/python3.10/site-packages (from matplotlib~=3.0->gradio->-r requirements.txt (line 5)) (3.1.1)\n",
      "Requirement already satisfied: python-dateutil>=2.7 in /Users/ingrid/anaconda3/envs/rag-lawyer/lib/python3.10/site-packages (from matplotlib~=3.0->gradio->-r requirements.txt (line 5)) (2.8.2)\n",
      "Requirement already satisfied: pytz>=2020.1 in /Users/ingrid/anaconda3/envs/rag-lawyer/lib/python3.10/site-packages (from pandas<3.0,>=1.0->gradio->-r requirements.txt (line 5)) (2023.3.post1)\n",
      "Requirement already satisfied: tzdata>=2022.7 in /Users/ingrid/anaconda3/envs/rag-lawyer/lib/python3.10/site-packages (from pandas<3.0,>=1.0->gradio->-r requirements.txt (line 5)) (2023.4)\n",
      "Requirement already satisfied: annotated-types>=0.4.0 in /Users/ingrid/anaconda3/envs/rag-lawyer/lib/python3.10/site-packages (from pydantic<3,>=1->langchain->-r requirements.txt (line 2)) (0.6.0)\n",
      "Requirement already satisfied: pydantic-core==2.14.6 in /Users/ingrid/anaconda3/envs/rag-lawyer/lib/python3.10/site-packages (from pydantic<3,>=1->langchain->-r requirements.txt (line 2)) (2.14.6)\n",
      "Requirement already satisfied: charset-normalizer<4,>=2 in /Users/ingrid/anaconda3/envs/rag-lawyer/lib/python3.10/site-packages (from requests<3,>=2->langchain->-r requirements.txt (line 2)) (3.3.2)\n",
      "Requirement already satisfied: regex>=2022.1.18 in /Users/ingrid/anaconda3/envs/rag-lawyer/lib/python3.10/site-packages (from tiktoken<0.6.0,>=0.5.2->langchain_openai->-r requirements.txt (line 4)) (2023.12.25)\n",
      "Requirement already satisfied: click<9.0.0,>=7.1.1 in /Users/ingrid/anaconda3/envs/rag-lawyer/lib/python3.10/site-packages (from typer<1.0,>=0.9->typer[all]<1.0,>=0.9->gradio->-r requirements.txt (line 5)) (8.1.7)\n",
      "Requirement already satisfied: colorama<0.5.0,>=0.4.3 in /Users/ingrid/anaconda3/envs/rag-lawyer/lib/python3.10/site-packages (from typer[all]<1.0,>=0.9->gradio->-r requirements.txt (line 5)) (0.4.6)\n",
      "Requirement already satisfied: shellingham<2.0.0,>=1.3.0 in /Users/ingrid/anaconda3/envs/rag-lawyer/lib/python3.10/site-packages (from typer[all]<1.0,>=0.9->gradio->-r requirements.txt (line 5)) (1.5.4)\n",
      "Requirement already satisfied: rich<14.0.0,>=10.11.0 in /Users/ingrid/anaconda3/envs/rag-lawyer/lib/python3.10/site-packages (from typer[all]<1.0,>=0.9->gradio->-r requirements.txt (line 5)) (13.7.0)\n",
      "Requirement already satisfied: starlette<0.36.0,>=0.35.0 in /Users/ingrid/anaconda3/envs/rag-lawyer/lib/python3.10/site-packages (from fastapi->gradio->-r requirements.txt (line 5)) (0.35.1)\n",
      "Requirement already satisfied: jsonschema-specifications>=2023.03.6 in /Users/ingrid/anaconda3/envs/rag-lawyer/lib/python3.10/site-packages (from jsonschema>=3.0->altair<6.0,>=4.2.0->gradio->-r requirements.txt (line 5)) (2023.12.1)\n",
      "Requirement already satisfied: referencing>=0.28.4 in /Users/ingrid/anaconda3/envs/rag-lawyer/lib/python3.10/site-packages (from jsonschema>=3.0->altair<6.0,>=4.2.0->gradio->-r requirements.txt (line 5)) (0.32.1)\n",
      "Requirement already satisfied: rpds-py>=0.7.1 in /Users/ingrid/anaconda3/envs/rag-lawyer/lib/python3.10/site-packages (from jsonschema>=3.0->altair<6.0,>=4.2.0->gradio->-r requirements.txt (line 5)) (0.17.1)\n",
      "Requirement already satisfied: six>=1.5 in /Users/ingrid/anaconda3/envs/rag-lawyer/lib/python3.10/site-packages (from python-dateutil>=2.7->matplotlib~=3.0->gradio->-r requirements.txt (line 5)) (1.16.0)\n",
      "Requirement already satisfied: markdown-it-py>=2.2.0 in /Users/ingrid/anaconda3/envs/rag-lawyer/lib/python3.10/site-packages (from rich<14.0.0,>=10.11.0->typer[all]<1.0,>=0.9->gradio->-r requirements.txt (line 5)) (3.0.0)\n",
      "Requirement already satisfied: pygments<3.0.0,>=2.13.0 in /Users/ingrid/anaconda3/envs/rag-lawyer/lib/python3.10/site-packages (from rich<14.0.0,>=10.11.0->typer[all]<1.0,>=0.9->gradio->-r requirements.txt (line 5)) (2.17.2)\n",
      "Requirement already satisfied: mypy-extensions>=0.3.0 in /Users/ingrid/anaconda3/envs/rag-lawyer/lib/python3.10/site-packages (from typing-inspect<1,>=0.4.0->dataclasses-json<0.7,>=0.5.7->langchain->-r requirements.txt (line 2)) (1.0.0)\n",
      "Requirement already satisfied: mdurl~=0.1 in /Users/ingrid/anaconda3/envs/rag-lawyer/lib/python3.10/site-packages (from markdown-it-py>=2.2.0->rich<14.0.0,>=10.11.0->typer[all]<1.0,>=0.9->gradio->-r requirements.txt (line 5)) (0.1.2)\n",
      "Downloading lxml-5.1.0-cp310-cp310-macosx_11_0_arm64.whl (4.5 MB)\n",
      "\u001b[2K   \u001b[90m━━━━━━━━━━━━━━━━━━━━━━━━━━━━━━━━━━━━━━━━\u001b[0m \u001b[32m4.5/4.5 MB\u001b[0m \u001b[31m5.9 MB/s\u001b[0m eta \u001b[36m0:00:00\u001b[0m00:01\u001b[0m00:01\u001b[0m\n",
      "\u001b[?25hInstalling collected packages: lxml\n",
      "Successfully installed lxml-5.1.0\n"
     ]
    }
   ],
   "source": [
    "! pip install -r requirements.txt"
   ]
  },
  {
   "cell_type": "code",
   "execution_count": 29,
   "metadata": {},
   "outputs": [],
   "source": [
    "# Import Libraries\n",
    "import os \n",
    "from langchain.retrievers.multi_query import MultiQueryRetriever\n",
    "\n",
    "from langchain.document_loaders import UnstructuredXMLLoader, TextLoader\n",
    "\n",
    "from langchain.text_splitter import RecursiveCharacterTextSplitter, HTMLHeaderTextSplitter\n",
    "\n",
    "from langchain.vectorstores import Pinecone\n",
    "\n",
    "from langchain.chains import RetrievalQA   \n",
    "\n",
    "from langchain.prompts import PromptTemplate \n",
    "\n",
    "from langchain_openai import ChatOpenAI, OpenAIEmbeddings\n",
    "\n",
    "from langchain.prompts import ChatPromptTemplate\n",
    "from langchain_core.output_parsers import StrOutputParser\n",
    "from langchain_core.runnables import RunnableLambda, RunnablePassthrough\n",
    "\n",
    "\n",
    "import gradio as gr\n",
    "\n"
   ]
  },
  {
   "cell_type": "markdown",
   "metadata": {},
   "source": [
    "### Step 2: Define llm and embedding models"
   ]
  },
  {
   "cell_type": "code",
   "execution_count": 30,
   "metadata": {},
   "outputs": [],
   "source": [
    "llm = ChatOpenAI(model=\"gpt-3.5-turbo-1106\", temperature=0)"
   ]
  },
  {
   "cell_type": "code",
   "execution_count": 31,
   "metadata": {},
   "outputs": [],
   "source": [
    "embedding = OpenAIEmbeddings()\n"
   ]
  },
  {
   "cell_type": "markdown",
   "metadata": {},
   "source": [
    "### Step 3: Process Data & Set up Vector Database with Pinecone"
   ]
  },
  {
   "cell_type": "markdown",
   "metadata": {},
   "source": [
    "#### Step 3.1: Define the data (URLs in this case) for the vector database"
   ]
  },
  {
   "cell_type": "code",
   "execution_count": 32,
   "metadata": {},
   "outputs": [],
   "source": [
    "# German Residence Laws\n",
    "\n",
    "aufentv =  \"https://www.gesetze-im-internet.de/aufenthv/BJNR294510004.html\"\n",
    "aufenthg = \"https://www.gesetze-im-internet.de/aufenthg_2004/BJNR195010004.html\"\n",
    "urls = [aufentv, aufenthg]"
   ]
  },
  {
   "cell_type": "markdown",
   "metadata": {},
   "source": [
    "#### Step 3.2: Split by HTML Headers"
   ]
  },
  {
   "cell_type": "code",
   "execution_count": 33,
   "metadata": {},
   "outputs": [],
   "source": [
    "headers_to_split_on = [\n",
    "    (\"h1\", \"Header 1\"),\n",
    "    (\"h2\", \"Header 2\"),\n",
    "    (\"h3\", \"Header 3\"),\n",
    "]\n",
    "\n",
    "html_splitter = HTMLHeaderTextSplitter(headers_to_split_on=headers_to_split_on)\n",
    "\n",
    "docs = []\n",
    "\n",
    "for url in urls:\n",
    "    html_header_splits = html_splitter.split_text_from_url(url)\n",
    "    docs += html_header_splits\n",
    "\n",
    "\n",
    "chunk_size = 1000\n",
    "chunk_overlap = 200\n",
    "text_splitter = RecursiveCharacterTextSplitter(\n",
    "    chunk_size=chunk_size, chunk_overlap=chunk_overlap\n",
    ")\n",
    "\n",
    "# Split\n",
    "splits = text_splitter.split_documents(html_header_splits)\n"
   ]
  },
  {
   "cell_type": "code",
   "execution_count": 101,
   "metadata": {},
   "outputs": [
    {
     "data": {
      "text/plain": [
       "785"
      ]
     },
     "execution_count": 101,
     "metadata": {},
     "output_type": "execute_result"
    }
   ],
   "source": [
    "# Sanity Check: are there any splits (this should be non-zero)\n",
    "len(splits)"
   ]
  },
  {
   "cell_type": "markdown",
   "metadata": {},
   "source": [
    "#### Step 3.3: Create a vector database with Pinecone\n",
    "You need to create a pinecone account, and create an index: https://app.pinecone.io"
   ]
  },
  {
   "cell_type": "code",
   "execution_count": null,
   "metadata": {},
   "outputs": [],
   "source": [
    "# First time here? Upsert the documents to the vector store (you only need to do this once)\n",
    "\n",
    "# vectorstore = Pinecone.from_documents(\n",
    "#     documents=splits, embedding=OpenAIEmbeddings(), index_name=\"lawyer\"\n",
    "# )\n"
   ]
  },
  {
   "cell_type": "code",
   "execution_count": 35,
   "metadata": {},
   "outputs": [],
   "source": [
    "# Do you already have your documents in the vector store? Then just load it:\n",
    "vectorstore = Pinecone.from_existing_index(\"lawyer\", OpenAIEmbeddings())"
   ]
  },
  {
   "cell_type": "code",
   "execution_count": 100,
   "metadata": {},
   "outputs": [],
   "source": [
    "# Connect your retriever to the vector store\n",
    "retriever = vectorstore.as_retriever()"
   ]
  },
  {
   "cell_type": "markdown",
   "metadata": {},
   "source": [
    "-----"
   ]
  },
  {
   "cell_type": "markdown",
   "metadata": {},
   "source": [
    "### Step 4: Set up the Prompt"
   ]
  },
  {
   "cell_type": "markdown",
   "metadata": {},
   "source": [
    "#### Step 4.1: Define the prompt template"
   ]
  },
  {
   "cell_type": "code",
   "execution_count": 92,
   "metadata": {},
   "outputs": [],
   "source": [
    "template = \"\"\"\n",
    "        ###INSTRUCTIONS: \n",
    "        You are polite and professional question-answering AI assistant. You must provide a helpful response to the user. \n",
    "        \n",
    "        In your response, PLEASE ALWAYS:\n",
    "          (0) Be a detail-oriented reader: read the question and context and understand both before answering\n",
    "          (1) Start your answer with a friendly tone, and reiterate the question so the user is sure you understood it\n",
    "          (2) If the context enables you to answer the question, write a detailed, helpful, and easily understandable answer with sources referenced inline. IF NOT: you can't find the answer, respond with an explanation, starting with: \"I couldn't find the information in the laws I have access to\". \n",
    "          (3) Below the answer, please list out all the referenced sources (i.e. legal paragraphs backing up your claims)\n",
    "          (4) Now you have your answer, that's amazing - review your answer to make sure it answers the question, is helpful and professional and formatted to be easily readable.\n",
    "        \n",
    "        Think step by step. \n",
    "        ###\n",
    "        \n",
    "      Answer the following question using the context provided.\n",
    "        ### Question: {question} ###\n",
    "\n",
    "        ### Context: {context} ###\n",
    "\n",
    "        \n",
    "\n",
    "        ### Helpful Answer with Sources:\n",
    "\n",
    "        \"\"\"\n",
    "\n",
    "    # create prompt template\n",
    "prompt = PromptTemplate.from_template(template)"
   ]
  },
  {
   "cell_type": "markdown",
   "metadata": {},
   "source": [
    "#### Step 4.2: Create the Chain"
   ]
  },
  {
   "cell_type": "code",
   "execution_count": 93,
   "metadata": {},
   "outputs": [],
   "source": [
    "chain = (\n",
    "    {\"context\": retriever, \"question\": RunnablePassthrough()}\n",
    "    | prompt\n",
    "    | llm\n",
    "    | StrOutputParser()\n",
    ")"
   ]
  },
  {
   "cell_type": "markdown",
   "metadata": {},
   "source": [
    "Check that it's working by running the following cell:"
   ]
  },
  {
   "cell_type": "code",
   "execution_count": 94,
   "metadata": {},
   "outputs": [
    {
     "name": "stdout",
     "output_type": "stream",
     "text": [
      "Hello! To get a Blue Card in Germany, you will need to have a valid job offer or employment contract for a position that is suitable for someone with a university degree or equivalent tertiary education. You will also need to have a Blue Card from a non-Schengen EU member state, and you must carry this card with you upon entry into Germany. Additionally, you will need to have adequate housing available and meet the necessary language requirements.\n",
      "\n",
      "If you have been employed under the Blue Card scheme for at least 33 months and have made contributions to the statutory pension insurance during this time, you may be eligible for a settlement permit. This permit can also be granted if you have been employed for 21 months and have sufficient knowledge of the German language.\n",
      "\n",
      "It's important to note that the specific requirements and procedures for obtaining a Blue Card may vary, so it's advisable to consult with the relevant German authorities or an immigration lawyer for personalized guidance.\n",
      "\n",
      "Sources:\n",
      "- Section 18c of the German Residence Act (Aufenthaltsgesetz)\n",
      "- Section 18g of the German Residence Act (Aufenthaltsgesetz)\n"
     ]
    }
   ],
   "source": [
    "ans = chain.invoke(\"How do I get a blue card in Germany?\")\n",
    "\n",
    "print(ans)"
   ]
  },
  {
   "cell_type": "markdown",
   "metadata": {},
   "source": [
    "-----"
   ]
  },
  {
   "cell_type": "markdown",
   "metadata": {},
   "source": [
    "### Step 5: Set up Simple UI using Gradio"
   ]
  },
  {
   "cell_type": "markdown",
   "metadata": {},
   "source": [
    "#### Step 5.1: Create a function to use in Gradio"
   ]
  },
  {
   "cell_type": "code",
   "execution_count": 95,
   "metadata": {},
   "outputs": [],
   "source": [
    "# Creating a function that takes a question and returns an answer is a good idea since \n",
    "# I'll make a gradio UI in the next cell, and this simplifies it\n",
    "def get_answer(question):\n",
    "    answer = chain.invoke(question)\n",
    "    return answer"
   ]
  },
  {
   "cell_type": "markdown",
   "metadata": {},
   "source": [
    "#### Step 5.2: Create and run the Gradio interface"
   ]
  },
  {
   "cell_type": "code",
   "execution_count": 102,
   "metadata": {},
   "outputs": [
    {
     "name": "stdout",
     "output_type": "stream",
     "text": [
      "Running on local URL:  http://127.0.0.1:7881\n",
      "\n",
      "To create a public link, set `share=True` in `launch()`.\n"
     ]
    },
    {
     "data": {
      "text/html": [
       "<div><iframe src=\"http://127.0.0.1:7881/\" width=\"100%\" height=\"500\" allow=\"autoplay; camera; microphone; clipboard-read; clipboard-write;\" frameborder=\"0\" allowfullscreen></iframe></div>"
      ],
      "text/plain": [
       "<IPython.core.display.HTML object>"
      ]
     },
     "metadata": {},
     "output_type": "display_data"
    },
    {
     "data": {
      "text/plain": []
     },
     "execution_count": 102,
     "metadata": {},
     "output_type": "execute_result"
    }
   ],
   "source": [
    "\n",
    "iface = gr.Interface(fn=get_answer, inputs=gr.Textbox(\n",
    "                    value=\"Enter your question\"), \n",
    "                     outputs=\"markdown\",  \n",
    "                     title=\"LLM Augmented Q&A over German Residence Laws\",\n",
    "                     description=\"Ask a question about German Residence Laws and get an answer from a friendly AI assistant. This assistant looks up relevant German Residence laws and answers your question.\",\n",
    "                     examples=[[\"How do I get a blue card in Germany?\"], \n",
    "                               [\"How long can I stay in Germany with a tourist visa?\"],\n",
    "                               [\"How do I get a work visa in Germany?\"],[\"I want to work in Germany, what visa do I need?\"],\n",
    "                               [\"I am a student in Germany, can I work?\"]],\n",
    "                    theme=gr.themes.Soft(),\n",
    "                    allow_flagging=\"never\",)\n",
    "\n",
    "iface.launch()"
   ]
  },
  {
   "cell_type": "code",
   "execution_count": null,
   "metadata": {},
   "outputs": [],
   "source": []
  }
 ],
 "metadata": {
  "kernelspec": {
   "display_name": "Python 3",
   "language": "python",
   "name": "python3"
  },
  "language_info": {
   "codemirror_mode": {
    "name": "ipython",
    "version": 3
   },
   "file_extension": ".py",
   "mimetype": "text/x-python",
   "name": "python",
   "nbconvert_exporter": "python",
   "pygments_lexer": "ipython3",
   "version": "3.10.13"
  }
 },
 "nbformat": 4,
 "nbformat_minor": 2
}
