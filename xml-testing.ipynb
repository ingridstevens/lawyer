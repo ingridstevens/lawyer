{
 "cells": [
  {
   "cell_type": "code",
   "execution_count": 1,
   "metadata": {},
   "outputs": [],
   "source": [
    "from langchain.document_loaders import UnstructuredXMLLoader\n",
    "\n"
   ]
  },
  {
   "cell_type": "code",
   "execution_count": 2,
   "metadata": {},
   "outputs": [],
   "source": [
    "file = \"german-law/laws/Aufenthaltsverordnung/BJNR294510004.xml\""
   ]
  },
  {
   "cell_type": "code",
   "execution_count": 29,
   "metadata": {},
   "outputs": [],
   "source": [
    "\n",
    "# Set up the loader with the file path and mode \"elements\"\n",
    "loader = UnstructuredXMLLoader(file, mode=\"elements\", include_metadata=True, xml_keep_tags=True)\n",
    "\n"
   ]
  },
  {
   "cell_type": "code",
   "execution_count": 30,
   "metadata": {},
   "outputs": [],
   "source": [
    "# Load the document(s) using the loader\n",
    "docs = loader.load()"
   ]
  },
  {
   "cell_type": "code",
   "execution_count": 36,
   "metadata": {},
   "outputs": [
    {
     "data": {
      "text/plain": [
       "Document(page_content='2 des Aufenthaltsgesetzes vorliegen, sowie Angaben zur Bestandskraft,</LA></DD><DT>e)</DT><DD Font=\"normal\"><LA Size=\"normal\">Ablehnung eines Asylantrags oder eines Antrages auf Anerkennung als heimatloser Ausländer und Angaben zur Bestandskraft,</LA></DD><DT>f)</DT><DD Font=\"normal\"><LA Size=\"normal\">Widerruf und Rücknahme der Anerkennung als Asylberechtigter oder der Feststellung, dass die Voraussetzungen des § 25 Abs. 2 des Aufenthaltsgesetzes vorliegen,</LA></DD><DT>g)</DT><DD Font=\"normal\"><LA Size=\"normal\">Bedingungen, Auflagen und räumliche Beschränkungen,</LA></DD><DT>h)</DT><DD Font=\"normal\"><LA Size=\"normal\">nachträgliche zeitliche Beschränkungen,</LA></DD><DT>i)</DT><DD Font=\"normal\"><LA Size=\"normal\">Widerruf und Rücknahme eines Aufenthaltstitels oder Feststellung des Verlusts des Freizügigkeitsrechts nach § 2 Absatz 7, § 5 Absatz 4 oder § 6 Abs.', metadata={'source': 'german-law/laws/Aufenthaltsverordnung/BJNR294510004.xml', 'filename': 'BJNR294510004.xml', 'file_directory': 'german-law/laws/Aufenthaltsverordnung', 'filetype': 'application/xml', 'category': 'NarrativeText'})"
      ]
     },
     "execution_count": 36,
     "metadata": {},
     "output_type": "execute_result"
    }
   ],
   "source": [
    "docs[250]\n"
   ]
  },
  {
   "cell_type": "code",
   "execution_count": 33,
   "metadata": {},
   "outputs": [
    {
     "data": {
      "text/plain": [
       "Document(page_content='5),</LA></DD><DT>7.</DT><DD Font=\"normal\"><LA Size=\"normal\">Flugbesatzungsausweise, soweit sie für einen Aufenthalt nach § 23 gebraucht werden, und</LA></DD><DT>8.</DT><DD Font=\"normal\"><LA Size=\"normal\">Binnenschifffahrtsausweise, soweit sie für einen Aufenthalt nach § 25 gebraucht werden.</LA></DD></DL></P></Content></text><fussnoten/></textdaten></norm> <norm builddate=\"20231117213507\" doknr=\"BJNR294510004BJNE000507311\"><metadaten><jurabk>AufenthV</jurabk><enbez>§ 4</enbez><titel format=\"XML\">Deutsche Passersatzpapiere für Ausländer</titel></metadaten><textdaten><text format=\"XML\"><Content><P>(1) Durch deutsche Behörden ausgestellte Passersatzpapiere für Ausländer sind: <DL Font=\"normal\" Type=\"arabic\"><DT>1.</DT><DD Font=\"normal\"><LA Size=\"normal\">der Reiseausweis für Ausländer (§ 5 Absatz 1),</LA></DD><DT>2.</DT><DD Font=\"normal\"><LA Size=\"normal\">der Notreiseausweis (§ 13 Absatz 1),</LA></DD><DT>3.</DT><DD Font=\"normal\"><LA Size=\"normal\">der Reiseausweis für Flüchtlinge (§ 1 Absatz 3),</LA></DD><DT>4.</DT><DD Font=\"normal\"><LA Size=\"normal\">der Reiseausweis für Staatenlose (§ 1 Absatz 4),</LA></DD><DT>5.</DT><DD Font=\"normal\"><LA Size=\"normal\">die Schülersammelliste (§ 1 Absatz 5),</LA></DD><DT>6.</DT><DD Font=\"normal\"><LA Size=\"normal\">die Bescheinigung über die Wohnsitzverlegung (§ 43 Absatz 2),</LA></DD><DT>7.</DT><DD Font=\"normal\"><LA Size=\"normal\">das Europäische Reisedokument für die Rückkehr (§ 1 Absatz 8).</LA></DD></DL>Passersatzpapiere nach Satz 1 Nummer 3 und 4 werden mit einer Gültigkeitsdauer von bis zu drei Jahren ausgestellt; eine Verlängerung ist nicht zulässig.', metadata={'source': 'german-law/laws/Aufenthaltsverordnung/BJNR294510004.xml', 'filename': 'BJNR294510004.xml', 'file_directory': 'german-law/laws/Aufenthaltsverordnung', 'filetype': 'application/xml', 'category': 'NarrativeText'})"
      ]
     },
     "execution_count": 33,
     "metadata": {},
     "output_type": "execute_result"
    }
   ],
   "source": [
    "docs[29]"
   ]
  },
  {
   "cell_type": "code",
   "execution_count": null,
   "metadata": {},
   "outputs": [],
   "source": []
  }
 ],
 "metadata": {
  "kernelspec": {
   "display_name": "Python 3",
   "language": "python",
   "name": "python3"
  },
  "language_info": {
   "codemirror_mode": {
    "name": "ipython",
    "version": 3
   },
   "file_extension": ".py",
   "mimetype": "text/x-python",
   "name": "python",
   "nbconvert_exporter": "python",
   "pygments_lexer": "ipython3",
   "version": "3.10.1"
  }
 },
 "nbformat": 4,
 "nbformat_minor": 2
}
